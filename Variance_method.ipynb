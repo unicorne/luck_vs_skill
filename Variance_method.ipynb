{
 "cells": [
  {
   "cell_type": "code",
   "execution_count": 17,
   "metadata": {},
   "outputs": [],
   "source": [
    "import pandas as pd\n",
    "import numpy as np\n",
    "import matplotlib.pyplot as plt\n",
    "from collections import Counter\n",
    "from sklearn.preprocessing import MinMaxScaler\n",
    "\n",
    "import os\n",
    "\n",
    "from src.utils.utils import (\n",
    "    preprocess_observed_data,\n",
    "    calculate_observed_variance,\n",
    "    get_available_schedules,\n",
    "    calculate_luck_variance_per_year,\n",
    "    load_yaml,\n",
    ")\n",
    "from src.simulation.simulation_utils import (\n",
    "    simulate_league,\n",
    "    simulate_league_multiple_times,\n",
    "    calculate_variance_of_simulated_leagues,\n",
    ")\n",
    "\n",
    "config = load_yaml()\n",
    "\n",
    "results_df = pd.DataFrame(\n",
    "    columns=[\"Sport\", \"#Teams (avg)\", \"#Seasons\", \"Variance Observed\", \"Variance Luck\"]\n",
    ")"
   ]
  },
  {
   "cell_type": "code",
   "execution_count": 18,
   "metadata": {},
   "outputs": [],
   "source": [
    "NUMBER_OF_SIMULATIONS = config[\"General\"][\"number_of_simulations\"]"
   ]
  },
  {
   "cell_type": "code",
   "execution_count": 19,
   "metadata": {},
   "outputs": [],
   "source": [
    "def calculate_observed_and_luck_variance(\n",
    "    prepared_data_path,\n",
    "    schedule_directory,\n",
    "    probabilities_win_loss_tie,\n",
    "    points_for_win_loss_tie,\n",
    "    number_of_simulations,\n",
    "    type=\"teams\",\n",
    "):\n",
    "    \"\"\"\n",
    "    Calculate the observed and luck variance.\n",
    "\n",
    "    Parameters\n",
    "    ----------\n",
    "    prepared_data_path : str\n",
    "        The path to the prepared data.\n",
    "    schedule_directory : str\n",
    "        The directory where the schedules are stored.\n",
    "    probabilities_win_loss_tie : list\n",
    "        The probabilities a team wins, loses or ties.\n",
    "    points_for_win_loss_tie : list\n",
    "        The points a team gets for a win, a loss and a tie.\n",
    "    number_of_simulations : int\n",
    "        The number of simulations.\n",
    "\n",
    "    Returns\n",
    "    -------\n",
    "    pandas.DataFrame\n",
    "        The dataframe containing the observed data with a new luck variance column that contains the luck variance for every year where a schedule is available.\n",
    "    float\n",
    "        The average observed variance.\n",
    "    float\n",
    "        The average variance of the luck simulation.\n",
    "    \"\"\"\n",
    "\n",
    "    df_prepared = preprocess_observed_data(prepared_data_path, points_for_win_loss_tie)\n",
    "    available_schedules = get_available_schedules(schedule_directory)\n",
    "    df_prepared = calculate_luck_variance_per_year(\n",
    "        df_prepared,\n",
    "        available_schedules,\n",
    "        probabilities_win_loss_tie,\n",
    "        points_for_win_loss_tie,\n",
    "        number_of_simulations,\n",
    "        min_max_scaling=False,\n",
    "        type=type,\n",
    "    )\n",
    "\n",
    "    # filter for values where simulation was possible\n",
    "    df_prepared_filtered = df_prepared[~df_prepared[\"Luck_variance\"].isnull()]\n",
    "    n_years = len(df_prepared_filtered)\n",
    "    n_teams = np.mean(df_prepared_filtered[\"#Teams\"])\n",
    "    if \"#Games\" in df_prepared_filtered:\n",
    "        n_games = np.mean(df_prepared_filtered[\"#Games\"])\n",
    "    else:\n",
    "        print(\"No games column found. Setting n_games to 0.\")\n",
    "        n_games = 0\n",
    "\n",
    "    observed_variance = df_prepared_filtered[\"Variance_observed\"].mean()\n",
    "    luck_variance = df_prepared_filtered[\"Luck_variance\"].mean()\n",
    "\n",
    "    return df_prepared_filtered, observed_variance, luck_variance, n_years, n_teams, n_games\n",
    "\n",
    "\n",
    "def append_to_results_df(observed_variance, luck_variance, n_years, n_teams, sport, n_games):\n",
    "    \"\"\"\n",
    "    Append the results to the results dataframe.\n",
    "\n",
    "    Parameters\n",
    "    ----------\n",
    "    observed_variance : float\n",
    "        The average observed variance.\n",
    "    luck_variance : float\n",
    "        The average variance of the luck simulation.\n",
    "    n_years : int\n",
    "        The number of years where a schedule was available.\n",
    "    n_teams : int\n",
    "        The number of teams.\n",
    "    sport : str\n",
    "        The name of the sport.\n",
    "\n",
    "    Returns\n",
    "    -------\n",
    "    None.\n",
    "\n",
    "    \"\"\"\n",
    "    global results_df\n",
    "    # concat to results df\n",
    "    tmp_df = pd.DataFrame(\n",
    "        {\n",
    "            \"Sport\": [sport],\n",
    "            \"#Teams (avg)\": [n_teams],\n",
    "            \"#Seasons\": [n_years],\n",
    "            \"#Games (avg)\": [n_games],\n",
    "            \"Variance Observed\": [observed_variance],\n",
    "            \"Variance Luck\": [luck_variance],\n",
    "        }\n",
    "    )\n",
    "    results_df = pd.concat([results_df, tmp_df], ignore_index=True)"
   ]
  },
  {
   "attachments": {},
   "cell_type": "markdown",
   "metadata": {},
   "source": [
    "### NBA"
   ]
  },
  {
   "cell_type": "code",
   "execution_count": 20,
   "metadata": {},
   "outputs": [
    {
     "name": "stdout",
     "output_type": "stream",
     "text": [
      "The schedule for the year 2004 is available.\n",
      "The schedule for the year 2005 is available.\n",
      "The schedule for the year 2006 is available.\n",
      "The schedule for the year 2007 is available.\n",
      "The schedule for the year 2008 is available.\n",
      "The schedule for the year 2009 is available.\n",
      "The schedule for the year 2010 is available.\n",
      "The schedule for the year 2011 is not available.\n",
      "The schedule for the year 2012 is available.\n",
      "The schedule for the year 2013 is available.\n",
      "The schedule for the year 2014 is available.\n",
      "The schedule for the year 2015 is available.\n",
      "The schedule for the year 2016 is available.\n",
      "The schedule for the year 2017 is available.\n",
      "The schedule for the year 2018 is available.\n",
      "The schedule for the year 2019 is not available.\n",
      "The schedule for the year 2020 is not available.\n",
      "The schedule for the year 2021 is available.\n"
     ]
    }
   ],
   "source": [
    "(\n",
    "    df_prepared_nba,\n",
    "    observed_variance_nba,\n",
    "    luck_variance_nba,\n",
    "    n_years,\n",
    "    n_teams,\n",
    "    n_games,\n",
    ") = calculate_observed_and_luck_variance(\n",
    "    config[\"NBA\"][\"prepared_data_path\"],\n",
    "    config[\"NBA\"][\"schedule_directory\"],\n",
    "    config[\"NBA\"][\"probabilities_win_loss_tie\"],\n",
    "    config[\"NBA\"][\"points_for_win_loss_tie\"],\n",
    "    NUMBER_OF_SIMULATIONS,\n",
    ")\n",
    "append_to_results_df(observed_variance_nba, luck_variance_nba, n_years, n_teams, \"NBA\", n_games)"
   ]
  },
  {
   "cell_type": "markdown",
   "metadata": {},
   "source": [
    "### NFL"
   ]
  },
  {
   "cell_type": "code",
   "execution_count": 21,
   "metadata": {},
   "outputs": [
    {
     "name": "stdout",
     "output_type": "stream",
     "text": [
      "The schedule for the year 2003 is available.\n",
      "The schedule for the year 2004 is available.\n",
      "The schedule for the year 2005 is available.\n",
      "The schedule for the year 2006 is available.\n",
      "The schedule for the year 2007 is available.\n",
      "The schedule for the year 2008 is available.\n",
      "The schedule for the year 2009 is available.\n",
      "The schedule for the year 2010 is available.\n",
      "The schedule for the year 2011 is available.\n",
      "The schedule for the year 2012 is available.\n",
      "The schedule for the year 2013 is available.\n",
      "The schedule for the year 2014 is available.\n",
      "The schedule for the year 2015 is available.\n",
      "The schedule for the year 2016 is available.\n",
      "The schedule for the year 2017 is available.\n",
      "The schedule for the year 2018 is available.\n",
      "The schedule for the year 2019 is available.\n",
      "The schedule for the year 2020 is available.\n",
      "The schedule for the year 2021 is available.\n"
     ]
    }
   ],
   "source": [
    "(\n",
    "    df_prepared_nfl,\n",
    "    observed_variance_nfl,\n",
    "    luck_variance_nfl,\n",
    "    n_years,\n",
    "    n_teams,\n",
    "    n_games,\n",
    ") = calculate_observed_and_luck_variance(\n",
    "    config[\"NFL\"][\"prepared_data_path\"],\n",
    "    config[\"NFL\"][\"schedule_directory\"],\n",
    "    config[\"NFL\"][\"probabilities_win_loss_tie\"],\n",
    "    config[\"NFL\"][\"points_for_win_loss_tie\"],\n",
    "    NUMBER_OF_SIMULATIONS,\n",
    ")\n",
    "append_to_results_df(observed_variance_nfl, luck_variance_nfl, n_years, n_teams, \"NFL\", n_games)"
   ]
  },
  {
   "cell_type": "markdown",
   "metadata": {},
   "source": [
    "### NHL"
   ]
  },
  {
   "cell_type": "code",
   "execution_count": 22,
   "metadata": {},
   "outputs": [
    {
     "name": "stdout",
     "output_type": "stream",
     "text": [
      "The schedule for the year 2005 is available.\n",
      "The schedule for the year 2006 is available.\n",
      "The schedule for the year 2007 is available.\n",
      "The schedule for the year 2008 is available.\n",
      "The schedule for the year 2009 is available.\n",
      "The schedule for the year 2010 is available.\n",
      "The schedule for the year 2011 is available.\n",
      "The schedule for the year 2012 is available.\n",
      "The schedule for the year 2013 is available.\n",
      "The schedule for the year 2014 is available.\n",
      "The schedule for the year 2015 is available.\n",
      "The schedule for the year 2016 is available.\n",
      "The schedule for the year 2017 is available.\n",
      "The schedule for the year 2018 is available.\n",
      "The schedule for the year 2019 is not available.\n",
      "The schedule for the year 2020 is not available.\n",
      "The schedule for the year 2021 is not available.\n"
     ]
    }
   ],
   "source": [
    "(\n",
    "    df_prepared_nhl,\n",
    "    observed_variance_nhl,\n",
    "    luck_variance_nhl,\n",
    "    n_years,\n",
    "    n_teams,\n",
    "    n_games,\n",
    ") = calculate_observed_and_luck_variance(\n",
    "    config[\"NHL\"][\"prepared_data_path\"],\n",
    "    config[\"NHL\"][\"schedule_directory\"],\n",
    "    config[\"NHL\"][\"probabilities_win_loss_tie\"],\n",
    "    config[\"NHL\"][\"points_for_win_loss_tie\"],\n",
    "    NUMBER_OF_SIMULATIONS,\n",
    ")\n",
    "append_to_results_df(observed_variance_nhl, luck_variance_nhl, n_years, n_teams, \"NHL\", n_games)"
   ]
  },
  {
   "cell_type": "markdown",
   "metadata": {},
   "source": [
    "### MLB"
   ]
  },
  {
   "cell_type": "code",
   "execution_count": 23,
   "metadata": {},
   "outputs": [
    {
     "name": "stdout",
     "output_type": "stream",
     "text": [
      "The schedule for the year 2003 is available.\n",
      "The schedule for the year 2004 is available.\n",
      "The schedule for the year 2005 is available.\n",
      "The schedule for the year 2006 is available.\n",
      "The schedule for the year 2007 is available.\n",
      "The schedule for the year 2008 is available.\n",
      "The schedule for the year 2009 is available.\n",
      "The schedule for the year 2010 is available.\n",
      "The schedule for the year 2011 is available.\n",
      "The schedule for the year 2012 is available.\n",
      "The schedule for the year 2013 is available.\n",
      "The schedule for the year 2014 is available.\n",
      "The schedule for the year 2015 is available.\n",
      "The schedule for the year 2016 is available.\n",
      "The schedule for the year 2017 is available.\n",
      "The schedule for the year 2018 is available.\n",
      "The schedule for the year 2019 is available.\n",
      "The schedule for the year 2020 is available.\n",
      "The schedule for the year 2021 is available.\n",
      "The schedule for the year 2022 is available.\n"
     ]
    }
   ],
   "source": [
    "(\n",
    "    df_prepared_mlb,\n",
    "    observed_variance_mlb,\n",
    "    luck_variance_mlb,\n",
    "    n_years,\n",
    "    n_teams,\n",
    "    n_games,\n",
    ") = calculate_observed_and_luck_variance(\n",
    "    config[\"MLB\"][\"prepared_data_path\"],\n",
    "    config[\"MLB\"][\"schedule_directory\"],\n",
    "    config[\"MLB\"][\"probabilities_win_loss_tie\"],\n",
    "    config[\"MLB\"][\"points_for_win_loss_tie\"],\n",
    "    NUMBER_OF_SIMULATIONS,\n",
    ")\n",
    "append_to_results_df(observed_variance_mlb, luck_variance_mlb, n_years, n_teams, \"MLB\", n_games)"
   ]
  },
  {
   "cell_type": "markdown",
   "metadata": {},
   "source": [
    "### MLS"
   ]
  },
  {
   "cell_type": "code",
   "execution_count": 24,
   "metadata": {},
   "outputs": [
    {
     "name": "stdout",
     "output_type": "stream",
     "text": [
      "The schedule for the year 2003 is available.\n",
      "The schedule for the year 2004 is available.\n",
      "The schedule for the year 2005 is available.\n",
      "The schedule for the year 2006 is available.\n",
      "The schedule for the year 2007 is available.\n",
      "The schedule for the year 2008 is available.\n",
      "The schedule for the year 2009 is available.\n",
      "The schedule for the year 2010 is available.\n",
      "The schedule for the year 2011 is available.\n",
      "The schedule for the year 2012 is available.\n",
      "The schedule for the year 2013 is available.\n",
      "The schedule for the year 2014 is available.\n",
      "The schedule for the year 2015 is available.\n",
      "The schedule for the year 2016 is available.\n",
      "The schedule for the year 2017 is available.\n",
      "The schedule for the year 2018 is available.\n",
      "The schedule for the year 2019 is available.\n",
      "The schedule for the year 2020 is not available.\n",
      "The schedule for the year 2021 is available.\n"
     ]
    }
   ],
   "source": [
    "(\n",
    "    df_prepared_mls,\n",
    "    observed_variance_mls,\n",
    "    luck_variance_mls,\n",
    "    n_years,\n",
    "    n_teams,\n",
    "    n_games,\n",
    ") = calculate_observed_and_luck_variance(\n",
    "    config[\"MLS\"][\"prepared_data_path\"],\n",
    "    config[\"MLS\"][\"schedule_directory\"],\n",
    "    config[\"MLS\"][\"probabilities_win_loss_tie\"],\n",
    "    config[\"MLS\"][\"points_for_win_loss_tie\"],\n",
    "    NUMBER_OF_SIMULATIONS,\n",
    ")\n",
    "append_to_results_df(observed_variance_mls, luck_variance_mls, n_years, n_teams, \"MLS\", n_games)"
   ]
  },
  {
   "cell_type": "markdown",
   "metadata": {},
   "source": [
    "#### PML"
   ]
  },
  {
   "cell_type": "code",
   "execution_count": 25,
   "metadata": {},
   "outputs": [
    {
     "name": "stdout",
     "output_type": "stream",
     "text": [
      "The schedule for the year 2003 is available.\n",
      "The schedule for the year 2004 is available.\n",
      "The schedule for the year 2005 is available.\n",
      "The schedule for the year 2006 is available.\n",
      "The schedule for the year 2007 is available.\n",
      "The schedule for the year 2008 is available.\n",
      "The schedule for the year 2009 is available.\n",
      "The schedule for the year 2010 is available.\n",
      "The schedule for the year 2011 is available.\n",
      "The schedule for the year 2012 is available.\n",
      "The schedule for the year 2013 is available.\n",
      "The schedule for the year 2014 is available.\n",
      "The schedule for the year 2015 is available.\n",
      "The schedule for the year 2016 is available.\n",
      "The schedule for the year 2017 is available.\n",
      "The schedule for the year 2018 is available.\n",
      "The schedule for the year 2019 is available.\n",
      "The schedule for the year 2020 is available.\n",
      "The schedule for the year 2021 is available.\n"
     ]
    }
   ],
   "source": [
    "(\n",
    "    df_prepared_pml,\n",
    "    observed_variance_pml,\n",
    "    luck_variance_pml,\n",
    "    n_years,\n",
    "    n_teams,\n",
    "    n_games,\n",
    ") = calculate_observed_and_luck_variance(\n",
    "    config[\"PML\"][\"prepared_data_path\"],\n",
    "    config[\"PML\"][\"schedule_directory\"],\n",
    "    config[\"PML\"][\"probabilities_win_loss_tie\"],\n",
    "    config[\"PML\"][\"points_for_win_loss_tie\"],\n",
    "    NUMBER_OF_SIMULATIONS,\n",
    ")\n",
    "append_to_results_df(observed_variance_pml, luck_variance_pml, n_years, n_teams, \"PML\", n_games)"
   ]
  },
  {
   "cell_type": "markdown",
   "metadata": {},
   "source": [
    "#### Ligue 1"
   ]
  },
  {
   "cell_type": "code",
   "execution_count": 26,
   "metadata": {},
   "outputs": [
    {
     "name": "stdout",
     "output_type": "stream",
     "text": [
      "The schedule for the year 2003 is available.\n",
      "The schedule for the year 2004 is available.\n",
      "The schedule for the year 2005 is available.\n",
      "The schedule for the year 2006 is available.\n",
      "The schedule for the year 2007 is available.\n",
      "The schedule for the year 2008 is available.\n",
      "The schedule for the year 2009 is available.\n",
      "The schedule for the year 2010 is available.\n",
      "The schedule for the year 2011 is available.\n",
      "The schedule for the year 2012 is available.\n",
      "The schedule for the year 2013 is available.\n",
      "The schedule for the year 2014 is available.\n",
      "The schedule for the year 2015 is available.\n",
      "The schedule for the year 2016 is available.\n",
      "The schedule for the year 2017 is available.\n",
      "The schedule for the year 2018 is available.\n",
      "The schedule for the year 2019 is available.\n",
      "The schedule for the year 2020 is available.\n",
      "The schedule for the year 2021 is available.\n"
     ]
    }
   ],
   "source": [
    "(\n",
    "    df_prepared_ligue1,\n",
    "    observed_variance_ligue1,\n",
    "    luck_variance_ligue1,\n",
    "    n_years,\n",
    "    n_teams,\n",
    "    n_games,\n",
    ") = calculate_observed_and_luck_variance(\n",
    "    config[\"Ligue1\"][\"prepared_data_path\"],\n",
    "    config[\"Ligue1\"][\"schedule_directory\"],\n",
    "    config[\"Ligue1\"][\"probabilities_win_loss_tie\"],\n",
    "    config[\"Ligue1\"][\"points_for_win_loss_tie\"],\n",
    "    NUMBER_OF_SIMULATIONS,\n",
    ")\n",
    "append_to_results_df(\n",
    "    observed_variance_ligue1, luck_variance_ligue1, n_years, n_teams, \"Ligue1\", n_games\n",
    ")"
   ]
  },
  {
   "cell_type": "markdown",
   "metadata": {},
   "source": [
    " #### SerieA"
   ]
  },
  {
   "cell_type": "code",
   "execution_count": 27,
   "metadata": {},
   "outputs": [
    {
     "name": "stdout",
     "output_type": "stream",
     "text": [
      "The schedule for the year 2003 is available.\n",
      "The schedule for the year 2004 is available.\n",
      "The schedule for the year 2005 is available.\n",
      "The schedule for the year 2006 is available.\n",
      "The schedule for the year 2007 is available.\n",
      "The schedule for the year 2008 is available.\n",
      "The schedule for the year 2009 is available.\n",
      "The schedule for the year 2010 is available.\n",
      "The schedule for the year 2011 is available.\n",
      "The schedule for the year 2012 is available.\n",
      "The schedule for the year 2013 is available.\n",
      "The schedule for the year 2014 is available.\n",
      "The schedule for the year 2015 is available.\n",
      "The schedule for the year 2016 is available.\n",
      "The schedule for the year 2017 is available.\n",
      "The schedule for the year 2018 is available.\n",
      "The schedule for the year 2019 is available.\n",
      "The schedule for the year 2020 is available.\n",
      "The schedule for the year 2021 is available.\n"
     ]
    }
   ],
   "source": [
    "(\n",
    "    df_prepared_serieA,\n",
    "    observed_variance_serieA,\n",
    "    luck_variance_serieA,\n",
    "    n_years,\n",
    "    n_teams,\n",
    "    n_games,\n",
    ") = calculate_observed_and_luck_variance(\n",
    "    config[\"SerieA\"][\"prepared_data_path\"],\n",
    "    config[\"SerieA\"][\"schedule_directory\"],\n",
    "    config[\"SerieA\"][\"probabilities_win_loss_tie\"],\n",
    "    config[\"SerieA\"][\"points_for_win_loss_tie\"],\n",
    "    NUMBER_OF_SIMULATIONS,\n",
    ")\n",
    "append_to_results_df(\n",
    "    observed_variance_serieA, luck_variance_serieA, n_years, n_teams, \"SerieA\", n_games\n",
    ")"
   ]
  },
  {
   "cell_type": "markdown",
   "metadata": {},
   "source": [
    "#### LaLiga"
   ]
  },
  {
   "cell_type": "code",
   "execution_count": 28,
   "metadata": {},
   "outputs": [
    {
     "name": "stdout",
     "output_type": "stream",
     "text": [
      "The schedule for the year 2003 is available.\n",
      "The schedule for the year 2004 is available.\n",
      "The schedule for the year 2005 is available.\n",
      "The schedule for the year 2006 is available.\n",
      "The schedule for the year 2007 is available.\n",
      "The schedule for the year 2008 is available.\n",
      "The schedule for the year 2009 is available.\n",
      "The schedule for the year 2010 is available.\n",
      "The schedule for the year 2011 is available.\n",
      "The schedule for the year 2012 is available.\n",
      "The schedule for the year 2013 is available.\n",
      "The schedule for the year 2014 is available.\n",
      "The schedule for the year 2015 is available.\n",
      "The schedule for the year 2016 is available.\n",
      "The schedule for the year 2017 is available.\n",
      "The schedule for the year 2018 is available.\n",
      "The schedule for the year 2019 is available.\n",
      "The schedule for the year 2020 is available.\n",
      "The schedule for the year 2021 is available.\n"
     ]
    }
   ],
   "source": [
    "(\n",
    "    df_prepared_laliga,\n",
    "    observed_variance_laliga,\n",
    "    luck_variance_laliga,\n",
    "    n_years,\n",
    "    n_teams,\n",
    "    n_games,\n",
    ") = calculate_observed_and_luck_variance(\n",
    "    config[\"LaLiga\"][\"prepared_data_path\"],\n",
    "    config[\"LaLiga\"][\"schedule_directory\"],\n",
    "    config[\"LaLiga\"][\"probabilities_win_loss_tie\"],\n",
    "    config[\"LaLiga\"][\"points_for_win_loss_tie\"],\n",
    "    NUMBER_OF_SIMULATIONS,\n",
    ")\n",
    "append_to_results_df(\n",
    "    observed_variance_laliga, luck_variance_laliga, n_years, n_teams, \"LaLiga\", n_games\n",
    ")"
   ]
  },
  {
   "cell_type": "markdown",
   "metadata": {},
   "source": [
    "#### Bundesliga"
   ]
  },
  {
   "cell_type": "code",
   "execution_count": 29,
   "metadata": {},
   "outputs": [
    {
     "name": "stdout",
     "output_type": "stream",
     "text": [
      "The schedule for the year 2003 is available.\n",
      "The schedule for the year 2004 is available.\n",
      "The schedule for the year 2005 is available.\n",
      "The schedule for the year 2006 is available.\n",
      "The schedule for the year 2007 is available.\n",
      "The schedule for the year 2008 is available.\n",
      "The schedule for the year 2009 is available.\n",
      "The schedule for the year 2010 is available.\n",
      "The schedule for the year 2011 is available.\n",
      "The schedule for the year 2012 is available.\n",
      "The schedule for the year 2013 is available.\n",
      "The schedule for the year 2014 is available.\n",
      "The schedule for the year 2015 is available.\n",
      "The schedule for the year 2016 is available.\n",
      "The schedule for the year 2017 is available.\n",
      "The schedule for the year 2018 is available.\n",
      "The schedule for the year 2019 is available.\n",
      "The schedule for the year 2020 is available.\n",
      "The schedule for the year 2021 is available.\n"
     ]
    }
   ],
   "source": [
    "(\n",
    "    df_prepared_bundesliga,\n",
    "    observed_variance_bundesliga,\n",
    "    luck_variance_bundesliga,\n",
    "    n_years,\n",
    "    n_teams,\n",
    "    n_games,\n",
    ") = calculate_observed_and_luck_variance(\n",
    "    config[\"Bundesliga\"][\"prepared_data_path\"],\n",
    "    config[\"Bundesliga\"][\"schedule_directory\"],\n",
    "    config[\"Bundesliga\"][\"probabilities_win_loss_tie\"],\n",
    "    config[\"Bundesliga\"][\"points_for_win_loss_tie\"],\n",
    "    NUMBER_OF_SIMULATIONS,\n",
    ")\n",
    "append_to_results_df(\n",
    "    observed_variance_bundesliga,\n",
    "    luck_variance_bundesliga,\n",
    "    n_years,\n",
    "    n_teams,\n",
    "    \"Bundesliga\",\n",
    "    n_games,\n",
    ")"
   ]
  },
  {
   "attachments": {},
   "cell_type": "markdown",
   "metadata": {},
   "source": [
    "#### Climbing"
   ]
  },
  {
   "cell_type": "code",
   "execution_count": 30,
   "metadata": {},
   "outputs": [
    {
     "name": "stdout",
     "output_type": "stream",
     "text": [
      "The schedule for the year 2007 is available.\n",
      "The schedule for the year 2008 is available.\n",
      "The schedule for the year 2009 is available.\n",
      "The schedule for the year 2010 is available.\n",
      "The schedule for the year 2011 is available.\n",
      "The schedule for the year 2012 is available.\n",
      "The schedule for the year 2013 is available.\n",
      "The schedule for the year 2014 is available.\n",
      "The schedule for the year 2015 is available.\n",
      "The schedule for the year 2016 is available.\n",
      "The schedule for the year 2017 is available.\n",
      "The schedule for the year 2018 is available.\n",
      "The schedule for the year 2019 is available.\n",
      "The schedule for the year 2021 is available.\n",
      "The schedule for the year 2022 is available.\n",
      "No games column found. Setting n_games to 0.\n"
     ]
    }
   ],
   "source": [
    "(\n",
    "    df_prepared_climbing,\n",
    "    observed_variance_climbing,\n",
    "    luck_variance_climbing,\n",
    "    n_years,\n",
    "    n_teams,\n",
    "    n_games,\n",
    ") = calculate_observed_and_luck_variance(\n",
    "    config[\"Climbing\"][\"prepared_data_path\"],\n",
    "    config[\"Climbing\"][\"schedule_directory\"],\n",
    "    config[\"Climbing\"][\"probabilities_win_loss_tie\"],\n",
    "    config[\"Climbing\"][\"points_for_win_loss_tie\"],\n",
    "    NUMBER_OF_SIMULATIONS,\n",
    "    type=\"climbing\",\n",
    ")\n",
    "append_to_results_df(\n",
    "    observed_variance_climbing, luck_variance_climbing, n_years, n_teams, \"Climbing\", n_games\n",
    ")"
   ]
  },
  {
   "attachments": {},
   "cell_type": "markdown",
   "metadata": {},
   "source": [
    "#### Bouldering"
   ]
  },
  {
   "cell_type": "code",
   "execution_count": 31,
   "metadata": {},
   "outputs": [
    {
     "name": "stdout",
     "output_type": "stream",
     "text": [
      "The schedule for the year 2007 is available.\n",
      "The schedule for the year 2008 is available.\n",
      "The schedule for the year 2009 is available.\n",
      "The schedule for the year 2010 is available.\n",
      "The schedule for the year 2011 is available.\n",
      "The schedule for the year 2012 is available.\n",
      "The schedule for the year 2013 is available.\n",
      "The schedule for the year 2014 is available.\n",
      "The schedule for the year 2015 is available.\n",
      "The schedule for the year 2016 is available.\n",
      "The schedule for the year 2017 is available.\n",
      "The schedule for the year 2018 is available.\n",
      "The schedule for the year 2019 is available.\n",
      "The schedule for the year 2021 is available.\n",
      "The schedule for the year 2022 is available.\n",
      "No games column found. Setting n_games to 0.\n"
     ]
    }
   ],
   "source": [
    "(\n",
    "    df_prepared_bouldering,\n",
    "    observed_variance_bouldering,\n",
    "    luck_variance_bouldering,\n",
    "    n_years,\n",
    "    n_teams,\n",
    "    n_games,\n",
    ") = calculate_observed_and_luck_variance(\n",
    "    config[\"Bouldering\"][\"prepared_data_path\"],\n",
    "    config[\"Bouldering\"][\"schedule_directory\"],\n",
    "    config[\"Bouldering\"][\"probabilities_win_loss_tie\"],\n",
    "    config[\"Bouldering\"][\"points_for_win_loss_tie\"],\n",
    "    NUMBER_OF_SIMULATIONS,\n",
    "    type=\"bouldering\",\n",
    ")\n",
    "append_to_results_df(\n",
    "    observed_variance_bouldering,\n",
    "    luck_variance_bouldering,\n",
    "    n_years,\n",
    "    n_teams,\n",
    "    \"Bouldering\",\n",
    "    n_games,\n",
    ")"
   ]
  },
  {
   "cell_type": "markdown",
   "metadata": {},
   "source": [
    "# Save Results"
   ]
  },
  {
   "cell_type": "code",
   "execution_count": 34,
   "metadata": {},
   "outputs": [],
   "source": [
    "df_prepared_nba.to_parquet(config[\"NBA\"][\"results_path\"])\n",
    "df_prepared_nfl.to_parquet(config[\"NFL\"][\"results_path\"])\n",
    "df_prepared_nhl.to_parquet(config[\"NHL\"][\"results_path\"])\n",
    "df_prepared_mlb.to_parquet(config[\"MLB\"][\"results_path\"])\n",
    "df_prepared_mls.to_parquet(config[\"MLS\"][\"results_path\"])\n",
    "df_prepared_pml.to_parquet(config[\"PML\"][\"results_path\"])\n",
    "df_prepared_ligue1.to_parquet(config[\"Ligue1\"][\"results_path\"])\n",
    "df_prepared_serieA.to_parquet(config[\"SerieA\"][\"results_path\"])\n",
    "df_prepared_laliga.to_parquet(config[\"LaLiga\"][\"results_path\"])\n",
    "df_prepared_bundesliga.to_parquet(config[\"Bundesliga\"][\"results_path\"])\n",
    "df_prepared_climbing.to_parquet(config[\"Climbing\"][\"results_path\"])\n",
    "df_prepared_bouldering.to_parquet(config[\"Bouldering\"][\"results_path\"])"
   ]
  },
  {
   "cell_type": "markdown",
   "metadata": {},
   "source": [
    "# Calculating the luck contribution for each sport"
   ]
  },
  {
   "attachments": {},
   "cell_type": "markdown",
   "metadata": {},
   "source": [
    "### Calculation:\n",
    "\n",
    "Based on [Classical Test Theory](https://en.wikipedia.org/wiki/Classical_test_theory) we assume that\n",
    "\n",
    "$$ Observed Score = True Score + Error Score $$\n",
    "\n",
    "In our case *True Score* reflects the skill component while the *Error Score* reflects the luck component.\n",
    "\n",
    "Since we are assuming the two variables Luck and Skill to be independent we can estimate:\n",
    "\n",
    "$$Var(Skill) =  Var(Observed) - Var(Luck) $$\n",
    "\n",
    "We can estimate the contribution of skill (reliability) with:\n",
    "\n",
    "$$ \\rho_{OS}^2 = \\frac{\\sigma_S^2}{\\sigma_O^2} = \\frac{\\sigma_O^2 - \\sigma_L^2}{\\sigma_O^2} = 1 - \\frac{\\sigma_L^2}{\\sigma_O^2} $$ \n",
    "\n",
    "and the contribution of luck\n",
    "\n",
    "$$ \\rho_{OL}^2 = \\frac{\\sigma_L^2}{\\sigma_O^2} $$ \n"
   ]
  },
  {
   "cell_type": "code",
   "execution_count": 35,
   "metadata": {},
   "outputs": [
    {
     "data": {
      "text/html": [
       "<div>\n",
       "<style scoped>\n",
       "    .dataframe tbody tr th:only-of-type {\n",
       "        vertical-align: middle;\n",
       "    }\n",
       "\n",
       "    .dataframe tbody tr th {\n",
       "        vertical-align: top;\n",
       "    }\n",
       "\n",
       "    .dataframe thead th {\n",
       "        text-align: right;\n",
       "    }\n",
       "</style>\n",
       "<table border=\"1\" class=\"dataframe\">\n",
       "  <thead>\n",
       "    <tr style=\"text-align: right;\">\n",
       "      <th></th>\n",
       "      <th>Sport</th>\n",
       "      <th>#Teams (avg)</th>\n",
       "      <th>#Seasons</th>\n",
       "      <th>Variance Observed</th>\n",
       "      <th>Variance Luck</th>\n",
       "      <th>#Games (avg)</th>\n",
       "      <th>Luck Contribution</th>\n",
       "    </tr>\n",
       "  </thead>\n",
       "  <tbody>\n",
       "    <tr>\n",
       "      <th>0</th>\n",
       "      <td>NBA</td>\n",
       "      <td>30.000000</td>\n",
       "      <td>15</td>\n",
       "      <td>618.906370</td>\n",
       "      <td>82.241778</td>\n",
       "      <td>82.000000</td>\n",
       "      <td>0.132882</td>\n",
       "    </tr>\n",
       "    <tr>\n",
       "      <th>5</th>\n",
       "      <td>PML</td>\n",
       "      <td>20.000000</td>\n",
       "      <td>19</td>\n",
       "      <td>300.569342</td>\n",
       "      <td>85.099737</td>\n",
       "      <td>38.000000</td>\n",
       "      <td>0.283128</td>\n",
       "    </tr>\n",
       "    <tr>\n",
       "      <th>3</th>\n",
       "      <td>MLB</td>\n",
       "      <td>30.000000</td>\n",
       "      <td>20</td>\n",
       "      <td>137.228333</td>\n",
       "      <td>40.500433</td>\n",
       "      <td>156.850000</td>\n",
       "      <td>0.295132</td>\n",
       "    </tr>\n",
       "    <tr>\n",
       "      <th>7</th>\n",
       "      <td>SerieA</td>\n",
       "      <td>19.894737</td>\n",
       "      <td>19</td>\n",
       "      <td>288.607558</td>\n",
       "      <td>86.766632</td>\n",
       "      <td>37.789474</td>\n",
       "      <td>0.300639</td>\n",
       "    </tr>\n",
       "    <tr>\n",
       "      <th>8</th>\n",
       "      <td>LaLiga</td>\n",
       "      <td>20.000000</td>\n",
       "      <td>19</td>\n",
       "      <td>262.621711</td>\n",
       "      <td>85.108737</td>\n",
       "      <td>38.000000</td>\n",
       "      <td>0.324073</td>\n",
       "    </tr>\n",
       "    <tr>\n",
       "      <th>9</th>\n",
       "      <td>Bundesliga</td>\n",
       "      <td>18.000000</td>\n",
       "      <td>19</td>\n",
       "      <td>202.273717</td>\n",
       "      <td>76.724737</td>\n",
       "      <td>34.000000</td>\n",
       "      <td>0.379311</td>\n",
       "    </tr>\n",
       "    <tr>\n",
       "      <th>1</th>\n",
       "      <td>NFL</td>\n",
       "      <td>32.000000</td>\n",
       "      <td>19</td>\n",
       "      <td>9.619243</td>\n",
       "      <td>3.991053</td>\n",
       "      <td>16.052632</td>\n",
       "      <td>0.414903</td>\n",
       "    </tr>\n",
       "    <tr>\n",
       "      <th>2</th>\n",
       "      <td>NHL</td>\n",
       "      <td>30.142857</td>\n",
       "      <td>14</td>\n",
       "      <td>187.313714</td>\n",
       "      <td>79.756270</td>\n",
       "      <td>79.571429</td>\n",
       "      <td>0.425790</td>\n",
       "    </tr>\n",
       "    <tr>\n",
       "      <th>6</th>\n",
       "      <td>Ligue1</td>\n",
       "      <td>20.000000</td>\n",
       "      <td>19</td>\n",
       "      <td>199.391579</td>\n",
       "      <td>85.894579</td>\n",
       "      <td>37.421053</td>\n",
       "      <td>0.430783</td>\n",
       "    </tr>\n",
       "    <tr>\n",
       "      <th>4</th>\n",
       "      <td>MLS</td>\n",
       "      <td>17.388889</td>\n",
       "      <td>18</td>\n",
       "      <td>93.051406</td>\n",
       "      <td>73.626335</td>\n",
       "      <td>32.444444</td>\n",
       "      <td>0.791244</td>\n",
       "    </tr>\n",
       "    <tr>\n",
       "      <th>11</th>\n",
       "      <td>Bouldering</td>\n",
       "      <td>362.400000</td>\n",
       "      <td>15</td>\n",
       "      <td>226.256080</td>\n",
       "      <td>179.519311</td>\n",
       "      <td>0.000000</td>\n",
       "      <td>0.793434</td>\n",
       "    </tr>\n",
       "    <tr>\n",
       "      <th>10</th>\n",
       "      <td>Climbing</td>\n",
       "      <td>300.133333</td>\n",
       "      <td>15</td>\n",
       "      <td>0.020731</td>\n",
       "      <td>0.049111</td>\n",
       "      <td>0.000000</td>\n",
       "      <td>2.368955</td>\n",
       "    </tr>\n",
       "  </tbody>\n",
       "</table>\n",
       "</div>"
      ],
      "text/plain": [
       "         Sport  #Teams (avg) #Seasons  Variance Observed  Variance Luck  \\\n",
       "0          NBA     30.000000       15         618.906370      82.241778   \n",
       "5          PML     20.000000       19         300.569342      85.099737   \n",
       "3          MLB     30.000000       20         137.228333      40.500433   \n",
       "7       SerieA     19.894737       19         288.607558      86.766632   \n",
       "8       LaLiga     20.000000       19         262.621711      85.108737   \n",
       "9   Bundesliga     18.000000       19         202.273717      76.724737   \n",
       "1          NFL     32.000000       19           9.619243       3.991053   \n",
       "2          NHL     30.142857       14         187.313714      79.756270   \n",
       "6       Ligue1     20.000000       19         199.391579      85.894579   \n",
       "4          MLS     17.388889       18          93.051406      73.626335   \n",
       "11  Bouldering    362.400000       15         226.256080     179.519311   \n",
       "10    Climbing    300.133333       15           0.020731       0.049111   \n",
       "\n",
       "    #Games (avg)  Luck Contribution  \n",
       "0      82.000000           0.132882  \n",
       "5      38.000000           0.283128  \n",
       "3     156.850000           0.295132  \n",
       "7      37.789474           0.300639  \n",
       "8      38.000000           0.324073  \n",
       "9      34.000000           0.379311  \n",
       "1      16.052632           0.414903  \n",
       "2      79.571429           0.425790  \n",
       "6      37.421053           0.430783  \n",
       "4      32.444444           0.791244  \n",
       "11      0.000000           0.793434  \n",
       "10      0.000000           2.368955  "
      ]
     },
     "execution_count": 35,
     "metadata": {},
     "output_type": "execute_result"
    }
   ],
   "source": [
    "results_df[\"Luck Contribution\"] = (\n",
    "    results_df[\"Variance Luck\"] / results_df[\"Variance Observed\"]\n",
    ")\n",
    "results_df.sort_values(by=\"Luck Contribution\", inplace=True)\n",
    "results_df.to_parquet(\"data/results/results_df.parquet\")\n",
    "results_df"
   ]
  },
  {
   "cell_type": "code",
   "execution_count": null,
   "metadata": {},
   "outputs": [],
   "source": []
  }
 ],
 "metadata": {
  "kernelspec": {
   "display_name": "luckskill",
   "language": "python",
   "name": "python3"
  },
  "language_info": {
   "codemirror_mode": {
    "name": "ipython",
    "version": 3
   },
   "file_extension": ".py",
   "mimetype": "text/x-python",
   "name": "python",
   "nbconvert_exporter": "python",
   "pygments_lexer": "ipython3",
   "version": "3.8.15"
  },
  "orig_nbformat": 4,
  "vscode": {
   "interpreter": {
    "hash": "763636881a6605c83e340874671c6f68b7017ce8e96aa0136cfbfc9341fe809f"
   }
  }
 },
 "nbformat": 4,
 "nbformat_minor": 2
}
