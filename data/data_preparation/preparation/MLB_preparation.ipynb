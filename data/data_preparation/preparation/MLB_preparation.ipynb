{
 "cells": [
  {
   "cell_type": "code",
   "execution_count": 1,
   "metadata": {},
   "outputs": [],
   "source": [
    "import pandas as pd\n",
    "import numpy as np"
   ]
  },
  {
   "cell_type": "markdown",
   "metadata": {},
   "source": [
    "# Load Data"
   ]
  },
  {
   "cell_type": "code",
   "execution_count": 2,
   "metadata": {},
   "outputs": [
    {
     "data": {
      "text/html": [
       "<div>\n",
       "<style scoped>\n",
       "    .dataframe tbody tr th:only-of-type {\n",
       "        vertical-align: middle;\n",
       "    }\n",
       "\n",
       "    .dataframe tbody tr th {\n",
       "        vertical-align: top;\n",
       "    }\n",
       "\n",
       "    .dataframe thead th {\n",
       "        text-align: right;\n",
       "    }\n",
       "</style>\n",
       "<table border=\"1\" class=\"dataframe\">\n",
       "  <thead>\n",
       "    <tr style=\"text-align: right;\">\n",
       "      <th></th>\n",
       "      <th>W</th>\n",
       "      <th>L</th>\n",
       "      <th>PCT</th>\n",
       "      <th>GB</th>\n",
       "      <th>HOME</th>\n",
       "      <th>AWAY</th>\n",
       "      <th>RS</th>\n",
       "      <th>RA</th>\n",
       "      <th>DIFF</th>\n",
       "      <th>STRK</th>\n",
       "      <th>L10</th>\n",
       "      <th>Team</th>\n",
       "      <th>Year</th>\n",
       "    </tr>\n",
       "  </thead>\n",
       "  <tbody>\n",
       "    <tr>\n",
       "      <th>0</th>\n",
       "      <td>101</td>\n",
       "      <td>61</td>\n",
       "      <td>0.623</td>\n",
       "      <td>-</td>\n",
       "      <td>50-32</td>\n",
       "      <td>51-29</td>\n",
       "      <td>877</td>\n",
       "      <td>716</td>\n",
       "      <td>161</td>\n",
       "      <td>W2</td>\n",
       "      <td>7-3</td>\n",
       "      <td>* -- NYY New York Yankees</td>\n",
       "      <td>2003</td>\n",
       "    </tr>\n",
       "    <tr>\n",
       "      <th>1</th>\n",
       "      <td>101</td>\n",
       "      <td>61</td>\n",
       "      <td>0.623</td>\n",
       "      <td>-</td>\n",
       "      <td>55-26</td>\n",
       "      <td>46-35</td>\n",
       "      <td>907</td>\n",
       "      <td>740</td>\n",
       "      <td>167</td>\n",
       "      <td>W1</td>\n",
       "      <td>7-3</td>\n",
       "      <td>* -- ATL Atlanta Braves</td>\n",
       "      <td>2003</td>\n",
       "    </tr>\n",
       "    <tr>\n",
       "      <th>2</th>\n",
       "      <td>100</td>\n",
       "      <td>61</td>\n",
       "      <td>0.621</td>\n",
       "      <td>0.5</td>\n",
       "      <td>57-24</td>\n",
       "      <td>43-37</td>\n",
       "      <td>755</td>\n",
       "      <td>638</td>\n",
       "      <td>117</td>\n",
       "      <td>W2</td>\n",
       "      <td>7-3</td>\n",
       "      <td>x -- SF San Francisco Giants</td>\n",
       "      <td>2003</td>\n",
       "    </tr>\n",
       "    <tr>\n",
       "      <th>3</th>\n",
       "      <td>96</td>\n",
       "      <td>66</td>\n",
       "      <td>0.593</td>\n",
       "      <td>5</td>\n",
       "      <td>57-24</td>\n",
       "      <td>39-42</td>\n",
       "      <td>768</td>\n",
       "      <td>643</td>\n",
       "      <td>125</td>\n",
       "      <td>L3</td>\n",
       "      <td>5-5</td>\n",
       "      <td>x -- OAK Oakland Athletics</td>\n",
       "      <td>2003</td>\n",
       "    </tr>\n",
       "    <tr>\n",
       "      <th>4</th>\n",
       "      <td>95</td>\n",
       "      <td>67</td>\n",
       "      <td>0.586</td>\n",
       "      <td>6</td>\n",
       "      <td>53-28</td>\n",
       "      <td>42-39</td>\n",
       "      <td>962</td>\n",
       "      <td>809</td>\n",
       "      <td>153</td>\n",
       "      <td>L2</td>\n",
       "      <td>6-4</td>\n",
       "      <td>y -- BOS Boston Red Sox</td>\n",
       "      <td>2003</td>\n",
       "    </tr>\n",
       "  </tbody>\n",
       "</table>\n",
       "</div>"
      ],
      "text/plain": [
       "     W   L    PCT   GB   HOME   AWAY   RS   RA  DIFF STRK  L10  \\\n",
       "0  101  61  0.623    -  50-32  51-29  877  716   161   W2  7-3   \n",
       "1  101  61  0.623    -  55-26  46-35  907  740   167   W1  7-3   \n",
       "2  100  61  0.621  0.5  57-24  43-37  755  638   117   W2  7-3   \n",
       "3   96  66  0.593    5  57-24  39-42  768  643   125   L3  5-5   \n",
       "4   95  67  0.586    6  53-28  42-39  962  809   153   L2  6-4   \n",
       "\n",
       "                           Team  Year  \n",
       "0     * -- NYY New York Yankees  2003  \n",
       "1       * -- ATL Atlanta Braves  2003  \n",
       "2  x -- SF San Francisco Giants  2003  \n",
       "3    x -- OAK Oakland Athletics  2003  \n",
       "4       y -- BOS Boston Red Sox  2003  "
      ]
     },
     "execution_count": 2,
     "metadata": {},
     "output_type": "execute_result"
    }
   ],
   "source": [
    "df = pd.read_csv(\"../../raw_data/MLB/MLB_scrapped.csv\")\n",
    "df.head()"
   ]
  },
  {
   "attachments": {},
   "cell_type": "markdown",
   "metadata": {},
   "source": [
    "## Format of the data:\n",
    "\n",
    "- Wins, Losses and Ties per Team per Season from 1876 to 2016\n",
    "- We only need Year, Tm , W, L, Ties columns"
   ]
  },
  {
   "cell_type": "markdown",
   "metadata": {},
   "source": [
    "## Preprocessing"
   ]
  },
  {
   "cell_type": "code",
   "execution_count": null,
   "metadata": {},
   "outputs": [],
   "source": []
  },
  {
   "cell_type": "markdown",
   "metadata": {},
   "source": [
    "## Create new dataframe with desired output"
   ]
  },
  {
   "cell_type": "code",
   "execution_count": 3,
   "metadata": {},
   "outputs": [],
   "source": [
    "df_mlb_data = pd.DataFrame(\n",
    "    columns=[\"Year\", \"Teams\", \"Wins\", \"Losses\", \"Ties\", \"#Games\"]\n",
    ")"
   ]
  },
  {
   "cell_type": "code",
   "execution_count": 4,
   "metadata": {},
   "outputs": [],
   "source": [
    "grouped = df.groupby(\"Year\")\n",
    "\n",
    "for name, group in grouped:\n",
    "    teams = group[\"Team\"].tolist()\n",
    "    wins = group[\"W\"].tolist()\n",
    "    losses = group[\"L\"].tolist()\n",
    "    ties = [0 for i in range(len(wins))]\n",
    "\n",
    "    ngames = wins[0] + losses[0] + ties[0]\n",
    "    # concat to the dataframe\n",
    "\n",
    "    df_tmp = (\n",
    "        pd.Series(\n",
    "            {\n",
    "                \"Year\": name,\n",
    "                \"Teams\": teams,\n",
    "                \"Wins\": wins,\n",
    "                \"Losses\": losses,\n",
    "                \"Ties\": ties,\n",
    "                \"#Games\": ngames,\n",
    "            }\n",
    "        )\n",
    "        .to_frame()\n",
    "        .T\n",
    "    )\n",
    "    df_mlb_data = pd.concat([df_mlb_data, df_tmp])"
   ]
  },
  {
   "cell_type": "code",
   "execution_count": 5,
   "metadata": {},
   "outputs": [],
   "source": [
    "# Save the data\n",
    "df_mlb_data.to_parquet(\"../../prepared_data/MLB_data.parquet\", index=False)"
   ]
  },
  {
   "cell_type": "code",
   "execution_count": null,
   "metadata": {},
   "outputs": [],
   "source": []
  }
 ],
 "metadata": {
  "kernelspec": {
   "display_name": "dataliteracy",
   "language": "python",
   "name": "python3"
  },
  "language_info": {
   "codemirror_mode": {
    "name": "ipython",
    "version": 3
   },
   "file_extension": ".py",
   "mimetype": "text/x-python",
   "name": "python",
   "nbconvert_exporter": "python",
   "pygments_lexer": "ipython3",
   "version": "3.10.2"
  },
  "orig_nbformat": 4,
  "vscode": {
   "interpreter": {
    "hash": "2bc0032a6efffcf026ee51228acf37fbac28b847a6fc9afc8126f22c80bdbb7b"
   }
  }
 },
 "nbformat": 4,
 "nbformat_minor": 2
}
