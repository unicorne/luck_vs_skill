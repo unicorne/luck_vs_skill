{
 "cells": [
  {
   "cell_type": "code",
   "execution_count": 2,
   "metadata": {},
   "outputs": [],
   "source": [
    "import pandas as pd\n",
    "import numpy as np\n",
    "import warnings\n",
    "\n",
    "warnings.filterwarnings(\"ignore\")\n",
    "import itertools"
   ]
  },
  {
   "attachments": {},
   "cell_type": "markdown",
   "metadata": {},
   "source": [
    "# Create the schedule from game data\n",
    "\n",
    "Because the schedule for most football leagues is the same for each year we can construct one and use it for all years.\n",
    "The Teams playing in the e.g the Premier League are changing but because we are using the schedule just for simulation and the distribution of wins the team names themselves are not important. The only difference across the top 5 leagues in european soccer is the number of teams playing in that league.\n",
    "\n",
    "ESPN offers data for a variety of leagues. We want to look at the data of \n",
    "\n",
    "- English Premier league\n",
    "- Spanish La Liga\n",
    "- French Ligue 1\n",
    "- Italian Serie A\n",
    "- German Bundesliga\n",
    "\n",
    "The Bundesliga has 18 Teams while all other leagues have 20 Teams."
   ]
  },
  {
   "cell_type": "code",
   "execution_count": 11,
   "metadata": {},
   "outputs": [],
   "source": [
    "# For a 20 team league:\n",
    "teams = [f\"team{i}\" for i in range(1, 21)]\n",
    "\n",
    "all_home_games = list(itertools.combinations(teams, 2))\n",
    "all_away_games = [(x[1], x[0]) for x in all_home_games]\n",
    "all_games = all_home_games + all_away_games\n",
    "\n",
    "schedule = pd.DataFrame(all_games, columns=[\"Home\", \"Away\"])\n",
    "\n",
    "# There are 20 Teams in the league\n",
    "teams_18 = [f\"team{i}\" for i in range(1, 19)]\n",
    "\n",
    "all_home_games_18 = list(itertools.combinations(teams_18, 2))\n",
    "all_away_games_18 = [(x[1], x[0]) for x in all_home_games_18]\n",
    "all_games_18 = all_home_games_18 + all_away_games_18\n",
    "\n",
    "schedule_18 = pd.DataFrame(all_games_18, columns=[\"Home\", \"Away\"])"
   ]
  },
  {
   "cell_type": "code",
   "execution_count": 13,
   "metadata": {},
   "outputs": [],
   "source": [
    "years_to_include = range(2003, 2023)\n",
    "\n",
    "for year in years_to_include:\n",
    "    schedule.to_csv(\n",
    "        f\"../../prepared_data/schedules/20_teams_football_league/{year}.csv\",\n",
    "        index=False,\n",
    "    )\n",
    "    schedule_18.to_csv(\n",
    "        f\"../../prepared_data/schedules/18_teams_football_league/{year}.csv\",\n",
    "        index=False,\n",
    "    )"
   ]
  },
  {
   "cell_type": "code",
   "execution_count": null,
   "metadata": {},
   "outputs": [],
   "source": []
  }
 ],
 "metadata": {
  "kernelspec": {
   "display_name": "luckskill",
   "language": "python",
   "name": "luckskill"
  },
  "language_info": {
   "codemirror_mode": {
    "name": "ipython",
    "version": 3
   },
   "file_extension": ".py",
   "mimetype": "text/x-python",
   "name": "python",
   "nbconvert_exporter": "python",
   "pygments_lexer": "ipython3",
   "version": "3.8.15 | packaged by conda-forge | (default, Nov 22 2022, 08:49:06) \n[Clang 14.0.6 ]"
  },
  "orig_nbformat": 4,
  "vscode": {
   "interpreter": {
    "hash": "747efc146e86a5912f26e5d6b10798b21cba29e4347effd8c7cc42f26245deaf"
   }
  }
 },
 "nbformat": 4,
 "nbformat_minor": 2
}