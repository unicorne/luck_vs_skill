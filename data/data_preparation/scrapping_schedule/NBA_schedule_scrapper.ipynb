{
 "cells": [
  {
   "cell_type": "code",
   "execution_count": 1,
   "metadata": {},
   "outputs": [],
   "source": [
    "import pandas as pd\n",
    "import numpy as np\n",
    "from collections import Counter"
   ]
  },
  {
   "attachments": {},
   "cell_type": "markdown",
   "metadata": {},
   "source": [
    "# Create the NBA schedule from game data\n",
    "\n",
    "Because the NBA season format did not change since 2004 we can reuse the schedule of one year for the others.\n",
    "Except for the 2011 Lockdown season and the 2019 and 2020 Covid-19 seasons."
   ]
  },
  {
   "cell_type": "code",
   "execution_count": 2,
   "metadata": {},
   "outputs": [],
   "source": [
    "df_nba_example_schedule = pd.read_csv(\"../../raw_data/NBA/NBA_schedule_2016.csv\")"
   ]
  },
  {
   "cell_type": "code",
   "execution_count": 3,
   "metadata": {},
   "outputs": [],
   "source": [
    "years_to_include = list(range(2004, 2022))\n",
    "years_to_include.remove(2020)\n",
    "years_to_include.remove(2011)\n",
    "years_to_include.remove(2019)\n",
    "\n",
    "for year in years_to_include:\n",
    "    df_nba_example_schedule.to_csv(\n",
    "        f\"../../prepared_data/schedules/NBA/{year}.csv\", index=False\n",
    "    )"
   ]
  },
  {
   "cell_type": "code",
   "execution_count": null,
   "metadata": {},
   "outputs": [],
   "source": []
  }
 ],
 "metadata": {
  "kernelspec": {
   "display_name": "luckskill",
   "language": "python",
   "name": "luckskill"
  },
  "language_info": {
   "codemirror_mode": {
    "name": "ipython",
    "version": 3
   },
   "file_extension": ".py",
   "mimetype": "text/x-python",
   "name": "python",
   "nbconvert_exporter": "python",
   "pygments_lexer": "ipython3",
   "version": "3.8.15"
  },
  "orig_nbformat": 4,
  "vscode": {
   "interpreter": {
    "hash": "747efc146e86a5912f26e5d6b10798b21cba29e4347effd8c7cc42f26245deaf"
   }
  }
 },
 "nbformat": 4,
 "nbformat_minor": 2
}
