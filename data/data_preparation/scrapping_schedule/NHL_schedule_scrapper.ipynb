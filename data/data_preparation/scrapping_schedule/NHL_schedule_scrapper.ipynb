{
 "cells": [
  {
   "cell_type": "code",
   "execution_count": 1,
   "metadata": {},
   "outputs": [],
   "source": [
    "import pandas as pd\n",
    "import numpy as np\n",
    "from collections import Counter"
   ]
  },
  {
   "attachments": {},
   "cell_type": "markdown",
   "metadata": {},
   "source": [
    "# Create the NHL schedule from game data\n",
    "\n",
    "Data available from https://www.kaggle.com/datasets/martinellis/nhl-game-data\n",
    "\n"
   ]
  },
  {
   "cell_type": "code",
   "execution_count": 2,
   "metadata": {},
   "outputs": [],
   "source": [
    "df = pd.read_csv(\"../../raw_data/NHL/NHL_game_data_kaggle.csv\")\n",
    "df = df.drop_duplicates(subset=[\"game_id\"])\n",
    "\n",
    "team_info = pd.read_csv(\"../../raw_data/NHL/team_info_kaggle.csv\")\n",
    "\n",
    "# create a mapping of team id with team abbreviation\n",
    "team_id_mapping = dict(\n",
    "    zip(team_info[\"team_id\"].values, team_info[\"abbreviation\"].values)\n",
    ")"
   ]
  },
  {
   "cell_type": "code",
   "execution_count": 3,
   "metadata": {},
   "outputs": [],
   "source": [
    "# We only need Regular Season data\n",
    "df = df[df[\"type\"] == \"R\"]\n",
    "# We filter the 2020 season because it is not complete and has an irregular amount of games per team\n",
    "df = df[df[\"season\"] != 20192020]\n",
    "df[\"away_team\"] = df[\"away_team_id\"].map(team_id_mapping)\n",
    "df[\"home_team\"] = df[\"home_team_id\"].map(team_id_mapping)\n",
    "df = df[[\"game_id\", \"season\", \"away_team\", \"home_team\"]]\n",
    "df = df.rename(columns={\"away_team\": \"Away\", \"home_team\": \"Home\"})"
   ]
  },
  {
   "cell_type": "code",
   "execution_count": 4,
   "metadata": {},
   "outputs": [],
   "source": [
    "grpy = df.groupby(\"season\")\n",
    "\n",
    "# iterate ofer pandas groupby object and save schedule for each season\n",
    "for season, season_df in grpy:\n",
    "    season_str = str(season)[:4]\n",
    "    season_df.to_csv(f\"../../prepared_data/schedules/NHL/{season_str}.csv\", index=False)"
   ]
  },
  {
   "cell_type": "code",
   "execution_count": null,
   "metadata": {},
   "outputs": [],
   "source": []
  }
 ],
 "metadata": {
  "kernelspec": {
   "display_name": "luckskill",
   "language": "python",
   "name": "luckskill"
  },
  "language_info": {
   "codemirror_mode": {
    "name": "ipython",
    "version": 3
   },
   "file_extension": ".py",
   "mimetype": "text/x-python",
   "name": "python",
   "nbconvert_exporter": "python",
   "pygments_lexer": "ipython3",
   "version": "3.8.15"
  },
  "orig_nbformat": 4,
  "vscode": {
   "interpreter": {
    "hash": "747efc146e86a5912f26e5d6b10798b21cba29e4347effd8c7cc42f26245deaf"
   }
  }
 },
 "nbformat": 4,
 "nbformat_minor": 2
}