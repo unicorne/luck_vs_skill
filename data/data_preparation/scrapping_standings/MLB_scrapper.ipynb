{
 "cells": [
  {
   "cell_type": "code",
   "execution_count": 12,
   "metadata": {},
   "outputs": [],
   "source": [
    "import pandas as pd\n",
    "import numpy as np\n",
    "from scrapping_utils import get_tables"
   ]
  },
  {
   "attachments": {},
   "cell_type": "markdown",
   "metadata": {},
   "source": [
    "## Functions for scrapping ESPN MLB standings\n",
    "\n",
    "- example url: https://www.espn.com/mlb/standings/_/season/2016/group/overall"
   ]
  },
  {
   "cell_type": "code",
   "execution_count": 13,
   "metadata": {},
   "outputs": [],
   "source": [
    "def get_mlb_standings_df(url, year):\n",
    "    # Transforming the data into a pandas dataframe\n",
    "    ptables = get_tables(url)\n",
    "    df = pd.DataFrame(ptables[1])\n",
    "    # set first row as header\n",
    "    df.columns = df.iloc[0]\n",
    "    df[\"Team\"] = np.array(ptables[0]).reshape(-1)\n",
    "    df[\"Year\"] = year\n",
    "    df = df.drop(df.index[0])\n",
    "    return df"
   ]
  },
  {
   "cell_type": "code",
   "execution_count": null,
   "metadata": {},
   "outputs": [],
   "source": []
  },
  {
   "attachments": {},
   "cell_type": "markdown",
   "metadata": {},
   "source": [
    "## Scrape available data from espn.com"
   ]
  },
  {
   "cell_type": "code",
   "execution_count": 14,
   "metadata": {},
   "outputs": [],
   "source": [
    "years = range(2003, 2023)\n",
    "# urls = [f\"https://www.espn.com/nhl/standings/_/season/{year + 1}/group/league\" for year in years]\n",
    "urls = [\n",
    "    f\"https://www.espn.com/mlb/standings/_/season/{year}/group/overall\"\n",
    "    for year in years\n",
    "]\n",
    "df_list = []\n",
    "for url, year in zip(urls, years):\n",
    "    df_list.append(get_mlb_standings_df(url, year))\n",
    "\n",
    "df_complete = pd.concat(df_list)"
   ]
  },
  {
   "cell_type": "code",
   "execution_count": 16,
   "metadata": {},
   "outputs": [],
   "source": [
    "df_complete.to_csv(\"../../raw_data/MLB/MLB_scrapped.csv\", index=False)"
   ]
  }
 ],
 "metadata": {
  "kernelspec": {
   "display_name": "luckskill",
   "language": "python",
   "name": "luckskill"
  },
  "language_info": {
   "codemirror_mode": {
    "name": "ipython",
    "version": 3
   },
   "file_extension": ".py",
   "mimetype": "text/x-python",
   "name": "python",
   "nbconvert_exporter": "python",
   "pygments_lexer": "ipython3",
   "version": "3.8.15"
  },
  "orig_nbformat": 4,
  "vscode": {
   "interpreter": {
    "hash": "747efc146e86a5912f26e5d6b10798b21cba29e4347effd8c7cc42f26245deaf"
   }
  }
 },
 "nbformat": 4,
 "nbformat_minor": 2
}