{
 "cells": [
  {
   "cell_type": "code",
   "execution_count": 1,
   "metadata": {},
   "outputs": [],
   "source": [
    "import pandas as pd\n",
    "import numpy as np\n",
    "from scrapping_utils import get_tables"
   ]
  },
  {
   "attachments": {},
   "cell_type": "markdown",
   "metadata": {},
   "source": [
    "## Functions for scrapping ESPN MLS standings\n",
    "\n",
    "- example url: https://www.espn.com/soccer/standings/_/league/USA.1/season/2016"
   ]
  },
  {
   "cell_type": "code",
   "execution_count": 2,
   "metadata": {},
   "outputs": [],
   "source": [
    "def get_mls_standings_df(url, year):\n",
    "    # Transforming the data into a pandas dataframe\n",
    "    ptables = get_tables(url)\n",
    "    df = pd.DataFrame(ptables[1])\n",
    "    # set first row as header\n",
    "    df.columns = df.iloc[0]\n",
    "    df[\"Team\"] = np.array(ptables[0]).reshape(-1)\n",
    "    df[\"Year\"] = year\n",
    "    df = df.drop(df.index[0])\n",
    "    df = df[df[\"Team\"] != \"Western Conference\"]\n",
    "    return df"
   ]
  },
  {
   "attachments": {},
   "cell_type": "markdown",
   "metadata": {},
   "source": [
    "## Scrape available data from espn.com"
   ]
  },
  {
   "cell_type": "code",
   "execution_count": 3,
   "metadata": {},
   "outputs": [],
   "source": [
    "# choose Years from 2006 to 2021 because NHL got rid of ties in 2005/06\n",
    "years = range(2003, 2022)\n",
    "urls = [\n",
    "    f\"https://www.espn.com/soccer/standings/_/league/USA.1/season/{year}\"\n",
    "    for year in years\n",
    "]\n",
    "df_list = []\n",
    "for url, year in zip(urls, years):\n",
    "    df_list.append(get_mls_standings_df(url, year))\n",
    "\n",
    "df_complete = pd.concat(df_list)"
   ]
  },
  {
   "cell_type": "code",
   "execution_count": 4,
   "metadata": {},
   "outputs": [],
   "source": [
    "df_complete.to_csv(\"../../raw_data/MLS/MLS_scrapped.csv\", index=False)"
   ]
  },
  {
   "cell_type": "code",
   "execution_count": null,
   "metadata": {},
   "outputs": [],
   "source": []
  }
 ],
 "metadata": {
  "kernelspec": {
   "display_name": "luckskill",
   "language": "python",
   "name": "luckskill"
  },
  "language_info": {
   "codemirror_mode": {
    "name": "ipython",
    "version": 3
   },
   "file_extension": ".py",
   "mimetype": "text/x-python",
   "name": "python",
   "nbconvert_exporter": "python",
   "pygments_lexer": "ipython3",
   "version": "3.8.15"
  },
  "orig_nbformat": 4,
  "vscode": {
   "interpreter": {
    "hash": "747efc146e86a5912f26e5d6b10798b21cba29e4347effd8c7cc42f26245deaf"
   }
  }
 },
 "nbformat": 4,
 "nbformat_minor": 2
}