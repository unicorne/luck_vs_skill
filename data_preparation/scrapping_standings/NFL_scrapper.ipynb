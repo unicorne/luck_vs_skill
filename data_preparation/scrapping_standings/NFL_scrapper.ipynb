{
    "cells": [
        {
            "cell_type": "code",
            "execution_count": 2,
            "metadata": {},
            "outputs": [],
            "source": [
                "import pandas as pd\n",
                "import numpy as np\n",
                "\n",
                "from scrapping_utils import get_tables"
            ]
        },
        {
            "attachments": {},
            "cell_type": "markdown",
            "metadata": {},
            "source": [
                "## Functions for scrapping ESPN NFL standings\n",
                "\n",
                "- example url: https://www.espn.com/nfl/standings/_/season/2003/group/league"
            ]
        },
        {
            "cell_type": "code",
            "execution_count": 3,
            "metadata": {},
            "outputs": [],
            "source": [
                "\n",
                "\n",
                "def get_nfl_standings_df(url, year):\n",
                "\t# Transforming the data into a pandas dataframe\n",
                "\tptables = get_tables(url)\n",
                "\tdf = pd.DataFrame(ptables[1])\n",
                "\t# set first row as header\n",
                "\tdf.columns = df.iloc[0]\n",
                "\tdf[\"Team\"] = np.array(ptables[0]).reshape(-1)\n",
                "\tdf[\"Year\"] = year\n",
                "\tdf = df.drop(df.index[0])\n",
                "\treturn df\n"
            ]
        },
        {
            "attachments": {},
            "cell_type": "markdown",
            "metadata": {},
            "source": [
                "## Scrape available data from espn.com"
            ]
        },
        {
            "cell_type": "code",
            "execution_count": 4,
            "metadata": {},
            "outputs": [],
            "source": [
                "years = range(2003,2022)\n",
                "urls = [f\"https://www.espn.com/nfl/standings/_/season/{year}/group/league\" for year in years]\n",
                "df_list = []\n",
                "for url, year in zip(urls, years):\n",
                "    df_list.append(get_nfl_standings_df(url, year))\n",
                "\n",
                "df_complete = pd.concat(df_list)"
            ]
        },
        {
            "cell_type": "code",
            "execution_count": 5,
            "metadata": {},
            "outputs": [],
            "source": [
                "df_complete.to_csv(\"../../raw_data/NFL/NFL_scrapped.csv\", index=False)"
            ]
        },
        {
            "cell_type": "code",
            "execution_count": null,
            "metadata": {},
            "outputs": [],
            "source": []
        }
    ],
    "metadata": {
        "kernelspec": {
            "display_name": "luckskill",
            "language": "python",
            "name": "luckskill"
        },
        "language_info": {
            "codemirror_mode": {
                "name": "ipython",
                "version": 3
            },
            "file_extension": ".py",
            "mimetype": "text/x-python",
            "name": "python",
            "nbconvert_exporter": "python",
            "pygments_lexer": "ipython3",
            "version": "3.8.15"
        },
        "orig_nbformat": 4,
        "vscode": {
            "interpreter": {
                "hash": "747efc146e86a5912f26e5d6b10798b21cba29e4347effd8c7cc42f26245deaf"
            }
        }
    },
    "nbformat": 4,
    "nbformat_minor": 2
}