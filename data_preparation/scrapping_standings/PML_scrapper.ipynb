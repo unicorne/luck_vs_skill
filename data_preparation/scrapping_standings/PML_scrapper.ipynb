{
 "cells": [
  {
   "cell_type": "code",
   "execution_count": 4,
   "metadata": {},
   "outputs": [],
   "source": [
    "import pandas as pd\n",
    "import numpy as np\n",
    "\n",
    "\n",
    "from scrapping_utils import get_tables\n"
   ]
  },
  {
   "attachments": {},
   "cell_type": "markdown",
   "metadata": {},
   "source": [
    "## Functions for scrapping ESPN Premier League standings\n",
    "\n",
    "- example url: https://www.espn.com/soccer/standings/_/league/ENG.1/season/2021"
   ]
  },
  {
   "cell_type": "code",
   "execution_count": 5,
   "metadata": {},
   "outputs": [],
   "source": [
    "def get_pml_standings_df(url, year):\n",
    "    # Transforming the data into a pandas dataframe\n",
    "    ptables = get_tables(url)\n",
    "    df = pd.DataFrame(ptables[1])\n",
    "    # set first row as header‚\n",
    "    df.columns = df.iloc[0]\n",
    "    df[\"Team\"] = np.array(ptables[0]).reshape(-1)\n",
    "    df[\"Year\"] = year\n",
    "    df = df.drop(df.index[0])\n",
    "    return df\n"
   ]
  },
  {
   "attachments": {},
   "cell_type": "markdown",
   "metadata": {},
   "source": [
    "## Scrape available data from espn.com"
   ]
  },
  {
   "cell_type": "code",
   "execution_count": 6,
   "metadata": {},
   "outputs": [],
   "source": [
    "# choose Years from 2006 to 2021 because NHL got rid of ties in 2005/06\n",
    "years = range(2003, 2022)\n",
    "urls = [\n",
    "    f\"https://www.espn.com/soccer/standings/_/league/ENG.1/season/{year}\"\n",
    "    for year in years\n",
    "]\n",
    "df_list = []\n",
    "for url, year in zip(urls, years):\n",
    "    df_list.append(get_pml_standings_df(url, year))\n",
    "\n",
    "df_complete = pd.concat(df_list)\n"
   ]
  },
  {
   "cell_type": "code",
   "execution_count": 9,
   "metadata": {},
   "outputs": [],
   "source": [
    "df_complete.to_csv(\"../../raw_data/PML/PML_scrapped.csv\", index=False)"
   ]
  },
  {
   "cell_type": "code",
   "execution_count": null,
   "metadata": {},
   "outputs": [],
   "source": []
  }
 ],
 "metadata": {
  "kernelspec": {
   "display_name": "luckskill",
   "language": "python",
   "name": "luckskill"
  },
  "orig_nbformat": 4,
  "vscode": {
   "interpreter": {
    "hash": "747efc146e86a5912f26e5d6b10798b21cba29e4347effd8c7cc42f26245deaf"
   }
  }
 },
 "nbformat": 4,
 "nbformat_minor": 2
}
