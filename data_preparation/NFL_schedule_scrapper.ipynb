{
 "cells": [
  {
   "cell_type": "code",
   "execution_count": 2,
   "metadata": {},
   "outputs": [],
   "source": [
    "import urllib.request\n",
    "from pprint import pprint\n",
    "from html_table_parser.parser import HTMLTableParser\n",
    "import pandas as pd\n",
    "import numpy as np\n",
    "\n",
    "from scrapping_utils import url_get_contents, get_tables"
   ]
  },
  {
   "cell_type": "markdown",
   "metadata": {},
   "source": [
    "# Scrapping the schedule of the NFL season"
   ]
  },
  {
   "attachments": {},
   "cell_type": "markdown",
   "metadata": {},
   "source": [
    "from e.g here: http://www.espn.com/nfl/schedulegrid/_/year/2018 for the 2018 season."
   ]
  },
  {
   "cell_type": "code",
   "execution_count": 3,
   "metadata": {},
   "outputs": [],
   "source": [
    "def get_schedule_from_espn(url):\n",
    "    \"\"\" Reformat schedule table from espn site to fit our needs\"\"\"\n",
    "    # Scrape table from espn.com\n",
    "    ptables = get_tables(url)\n",
    "\n",
    "    # Preprocessing to remove unnecessary information after scrapping\n",
    "    df = pd.DataFrame(ptables[0])\n",
    "    df.columns = df.iloc[1]\n",
    "    df = df.drop(df.index[0])\n",
    "    df = df.drop(df.index[0])\n",
    "    df = df.replace(np.nan, 'BYE')\n",
    "\n",
    "    # replace all away games to BYE to remove them later to avoid duplicates\n",
    "    for col in df.columns:\n",
    "        if col == \"TEAM\":\n",
    "            continue\n",
    "        else:\n",
    "            df.loc[df[col].str.contains(\"@\"), col] = 'BYE'\n",
    "\n",
    "    # melt the table to be in Home/Away format\n",
    "    df = df.melt('TEAM', var_name='Week', value_name='Opponent')\n",
    "    # remove BYE weeks and duplicates\n",
    "    df = df[df[\"Opponent\"] != \"BYE\"]\n",
    "    df = df.drop(\"Week\", axis=1)\n",
    "    df = df.rename(columns={\"TEAM\": \"Home\", \"Opponent\": \"Away\"})\n",
    "    df = df.drop_duplicates(subset=[\"Home\", \"Away\"])\n",
    "    df = df[[\"Home\", \"Away\"]]\n",
    "    return df\n"
   ]
  },
  {
   "cell_type": "code",
   "execution_count": 118,
   "metadata": {},
   "outputs": [],
   "source": [
    "years = range(2002, 2022)\n",
    "urls = [f'http://www.espn.com/nfl/schedulegrid/_/year/{year}' for year in years]\n",
    "\n",
    "for year, url in zip(years, urls):\n",
    "    df_tmp = get_schedule_from_espn(url)\n",
    "    df_tmp.to_csv(f'../prepared_data/schedules/NFL_{year}.csv', index=False)"
   ]
  },
  {
   "cell_type": "code",
   "execution_count": 4,
   "metadata": {},
   "outputs": [],
   "source": [
    "df_tmp = get_schedule_from_espn(\"http://www.espn.com/nfl/schedulegrid/_/year/2018\")"
   ]
  },
  {
   "cell_type": "code",
   "execution_count": 5,
   "metadata": {},
   "outputs": [
    {
     "data": {
      "text/html": [
       "<div>\n",
       "<style scoped>\n",
       "    .dataframe tbody tr th:only-of-type {\n",
       "        vertical-align: middle;\n",
       "    }\n",
       "\n",
       "    .dataframe tbody tr th {\n",
       "        vertical-align: top;\n",
       "    }\n",
       "\n",
       "    .dataframe thead th {\n",
       "        text-align: right;\n",
       "    }\n",
       "</style>\n",
       "<table border=\"1\" class=\"dataframe\">\n",
       "  <thead>\n",
       "    <tr style=\"text-align: right;\">\n",
       "      <th></th>\n",
       "      <th>Home</th>\n",
       "      <th>Away</th>\n",
       "    </tr>\n",
       "  </thead>\n",
       "  <tbody>\n",
       "    <tr>\n",
       "      <th>0</th>\n",
       "      <td>ARI</td>\n",
       "      <td>WSH</td>\n",
       "    </tr>\n",
       "    <tr>\n",
       "      <th>2</th>\n",
       "      <td>BAL</td>\n",
       "      <td>BUF</td>\n",
       "    </tr>\n",
       "    <tr>\n",
       "      <th>4</th>\n",
       "      <td>CAR</td>\n",
       "      <td>DAL</td>\n",
       "    </tr>\n",
       "    <tr>\n",
       "      <th>7</th>\n",
       "      <td>CLE</td>\n",
       "      <td>PIT</td>\n",
       "    </tr>\n",
       "    <tr>\n",
       "      <th>9</th>\n",
       "      <td>DEN</td>\n",
       "      <td>SEA</td>\n",
       "    </tr>\n",
       "    <tr>\n",
       "      <th>...</th>\n",
       "      <td>...</td>\n",
       "      <td>...</td>\n",
       "    </tr>\n",
       "    <tr>\n",
       "      <th>538</th>\n",
       "      <td>PIT</td>\n",
       "      <td>CIN</td>\n",
       "    </tr>\n",
       "    <tr>\n",
       "      <th>540</th>\n",
       "      <td>SEA</td>\n",
       "      <td>ARI</td>\n",
       "    </tr>\n",
       "    <tr>\n",
       "      <th>541</th>\n",
       "      <td>TB</td>\n",
       "      <td>ATL</td>\n",
       "    </tr>\n",
       "    <tr>\n",
       "      <th>542</th>\n",
       "      <td>TEN</td>\n",
       "      <td>IND</td>\n",
       "    </tr>\n",
       "    <tr>\n",
       "      <th>543</th>\n",
       "      <td>WSH</td>\n",
       "      <td>PHI</td>\n",
       "    </tr>\n",
       "  </tbody>\n",
       "</table>\n",
       "<p>256 rows × 2 columns</p>\n",
       "</div>"
      ],
      "text/plain": [
       "    Home Away\n",
       "0    ARI  WSH\n",
       "2    BAL  BUF\n",
       "4    CAR  DAL\n",
       "7    CLE  PIT\n",
       "9    DEN  SEA\n",
       "..   ...  ...\n",
       "538  PIT  CIN\n",
       "540  SEA  ARI\n",
       "541   TB  ATL\n",
       "542  TEN  IND\n",
       "543  WSH  PHI\n",
       "\n",
       "[256 rows x 2 columns]"
      ]
     },
     "execution_count": 5,
     "metadata": {},
     "output_type": "execute_result"
    }
   ],
   "source": [
    "df_tmp"
   ]
  },
  {
   "cell_type": "code",
   "execution_count": null,
   "metadata": {},
   "outputs": [],
   "source": []
  }
 ],
 "metadata": {
  "kernelspec": {
   "display_name": "luckskill",
   "language": "python",
   "name": "luckskill"
  },
  "language_info": {
   "codemirror_mode": {
    "name": "ipython",
    "version": 3
   },
   "file_extension": ".py",
   "mimetype": "text/x-python",
   "name": "python",
   "nbconvert_exporter": "python",
   "pygments_lexer": "ipython3",
   "version": "3.8.15"
  },
  "orig_nbformat": 4,
  "vscode": {
   "interpreter": {
    "hash": "747efc146e86a5912f26e5d6b10798b21cba29e4347effd8c7cc42f26245deaf"
   }
  }
 },
 "nbformat": 4,
 "nbformat_minor": 2
}
