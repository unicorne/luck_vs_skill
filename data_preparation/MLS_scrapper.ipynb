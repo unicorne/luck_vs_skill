{
 "cells": [
  {
   "cell_type": "code",
   "execution_count": 11,
   "metadata": {},
   "outputs": [],
   "source": [
    "import urllib.request\n",
    "from pprint import pprint\n",
    "from html_table_parser.parser import HTMLTableParser\n",
    "import pandas as pd\n",
    "import numpy as np\n",
    "\n",
    "# Some code taken from https://www.geeksforgeeks.org/scrape-tables-from-any-website-using-python/\n"
   ]
  },
  {
   "attachments": {},
   "cell_type": "markdown",
   "metadata": {},
   "source": [
    "## Functions for scrapping ESPN MLS standings\n",
    "\n",
    "- example url: https://www.espn.com/soccer/standings/_/league/USA.1/season/2016"
   ]
  },
  {
   "cell_type": "code",
   "execution_count": 12,
   "metadata": {},
   "outputs": [],
   "source": [
    "# Opens a website and read its\n",
    "# binary contents (HTTP Response Body)\n",
    "def url_get_contents(url):\n",
    "\n",
    "\t# Opens a website and read its\n",
    "\t# binary contents (HTTP Response Body)\n",
    "\n",
    "\t#making request to the website\n",
    "\treq = urllib.request.Request(url=url)\n",
    "\tf = urllib.request.urlopen(req)\n",
    "\n",
    "\t#reading contents of the website\n",
    "\treturn f.read()\n",
    "\n",
    "def get_mls_standings(url):\n",
    "\t# defining the html contents of a URL.\n",
    "\txhtml = url_get_contents(url).decode('utf-8')\n",
    "\n",
    "\t# Defining the HTMLTableParser object\n",
    "\tp = HTMLTableParser()\n",
    "\n",
    "\t# feeding the html contents in the\n",
    "\t# HTMLTableParser object\n",
    "\tp.feed(xhtml)\n",
    "\treturn p.tables\n",
    "\n",
    "def get_mls_standings_df(url, year):\n",
    "\t# Transforming the data into a pandas dataframe\n",
    "\tptables = get_mls_standings(url)\n",
    "\tdf = pd.DataFrame(ptables[1])\n",
    "\t# set first row as header\n",
    "\tdf.columns = df.iloc[0]\n",
    "\tdf[\"Team\"] = np.array(ptables[0]).reshape(-1)\n",
    "\tdf[\"Year\"] = year\n",
    "\tdf = df.drop(df.index[0])\n",
    "\tdf = df[df[\"Team\"] != \"Western Conference\"] \n",
    "\treturn df\n"
   ]
  },
  {
   "attachments": {},
   "cell_type": "markdown",
   "metadata": {},
   "source": [
    "## Scrape available data from espn.com"
   ]
  },
  {
   "cell_type": "code",
   "execution_count": 13,
   "metadata": {},
   "outputs": [],
   "source": [
    "# choose Years from 2006 to 2021 because NHL got rid of ties in 2005/06\n",
    "years = range(2003,2022)\n",
    "urls = [f\"https://www.espn.com/soccer/standings/_/league/USA.1/season/{year}\" for year in years]\n",
    "df_list = []\n",
    "for url, year in zip(urls, years):\n",
    "    df_list.append(get_mls_standings_df(url, year))\n",
    "\n",
    "df_complete = pd.concat(df_list)"
   ]
  },
  {
   "cell_type": "code",
   "execution_count": 15,
   "metadata": {},
   "outputs": [],
   "source": [
    "df_complete.to_csv(\"raw_data/MLS_scrapped_data_2003_to_2022.csv\", index=False)"
   ]
  },
  {
   "cell_type": "code",
   "execution_count": null,
   "metadata": {},
   "outputs": [],
   "source": []
  }
 ],
 "metadata": {
  "kernelspec": {
   "display_name": "Python 3",
   "language": "python",
   "name": "python3"
  },
  "language_info": {
   "codemirror_mode": {
    "name": "ipython",
    "version": 3
   },
   "file_extension": ".py",
   "mimetype": "text/x-python",
   "name": "python",
   "nbconvert_exporter": "python",
   "pygments_lexer": "ipython3",
   "version": "3.9.4 (default, Dec 24 2021, 15:30:50) \n[Clang 13.0.0 (clang-1300.0.29.30)]"
  },
  "orig_nbformat": 4,
  "vscode": {
   "interpreter": {
    "hash": "747efc146e86a5912f26e5d6b10798b21cba29e4347effd8c7cc42f26245deaf"
   }
  }
 },
 "nbformat": 4,
 "nbformat_minor": 2
}
