{
 "cells": [
  {
   "cell_type": "code",
   "execution_count": 2,
   "metadata": {},
   "outputs": [],
   "source": [
    "import pandas as pd\n",
    "import numpy as np\n",
    "import warnings\n",
    "warnings.filterwarnings('ignore')"
   ]
  },
  {
   "attachments": {},
   "cell_type": "markdown",
   "metadata": {},
   "source": [
    "# Create the MLB schedule from game data\n",
    "\n",
    "Data available here https://www.baseball-reference.com/leagues/majors/2022-schedule.shtml\n",
    "\n",
    "Because the MLB regular Season format did not change since the last expansion (except for the 2020 season) we can use the schedule of e.g 2022 as an example for the years from 1998."
   ]
  },
  {
   "cell_type": "code",
   "execution_count": 8,
   "metadata": {},
   "outputs": [],
   "source": [
    "# Data is not downloadable directly so we can save the needed information in a txt file and preprocess the data from there\n",
    "df = pd.read_csv(\"../raw_data/MLB/MLB_schedule_2022.txt\")"
   ]
  },
  {
   "cell_type": "markdown",
   "metadata": {},
   "source": [
    "#### Preprocessing of unstructured text file"
   ]
  },
  {
   "cell_type": "code",
   "execution_count": 9,
   "metadata": {},
   "outputs": [
    {
     "data": {
      "text/html": [
       "<div>\n",
       "<style scoped>\n",
       "    .dataframe tbody tr th:only-of-type {\n",
       "        vertical-align: middle;\n",
       "    }\n",
       "\n",
       "    .dataframe tbody tr th {\n",
       "        vertical-align: top;\n",
       "    }\n",
       "\n",
       "    .dataframe thead th {\n",
       "        text-align: right;\n",
       "    }\n",
       "</style>\n",
       "<table border=\"1\" class=\"dataframe\">\n",
       "  <thead>\n",
       "    <tr style=\"text-align: right;\">\n",
       "      <th></th>\n",
       "      <th>Away</th>\n",
       "      <th>Home</th>\n",
       "    </tr>\n",
       "  </thead>\n",
       "  <tbody>\n",
       "    <tr>\n",
       "      <th>0</th>\n",
       "      <td>HoustonAstros</td>\n",
       "      <td>LosAngelesAngels</td>\n",
       "    </tr>\n",
       "    <tr>\n",
       "      <th>1</th>\n",
       "      <td>SanDiegoPadres</td>\n",
       "      <td>ArizonaD'Backs</td>\n",
       "    </tr>\n",
       "    <tr>\n",
       "      <th>2</th>\n",
       "      <td>CincinnatiReds</td>\n",
       "      <td>AtlantaBraves</td>\n",
       "    </tr>\n",
       "    <tr>\n",
       "      <th>3</th>\n",
       "      <td>MilwaukeeBrewers</td>\n",
       "      <td>ChicagoCubs</td>\n",
       "    </tr>\n",
       "    <tr>\n",
       "      <th>4</th>\n",
       "      <td>ClevelandGuardians</td>\n",
       "      <td>KansasCityRoyals</td>\n",
       "    </tr>\n",
       "  </tbody>\n",
       "</table>\n",
       "</div>"
      ],
      "text/plain": [
       "                 Away              Home\n",
       "0       HoustonAstros  LosAngelesAngels\n",
       "1      SanDiegoPadres    ArizonaD'Backs\n",
       "2      CincinnatiReds     AtlantaBraves\n",
       "3    MilwaukeeBrewers       ChicagoCubs\n",
       "4  ClevelandGuardians  KansasCityRoyals"
      ]
     },
     "execution_count": 9,
     "metadata": {},
     "output_type": "execute_result"
    }
   ],
   "source": [
    "\n",
    "df = df[df[\"Thursday\"].str.contains(\"@\")]\n",
    "df[\"Thursday\"] = df[\"Thursday\"].apply(lambda x: x.split(\"@\"))\n",
    "df = pd.DataFrame(df.Thursday.tolist(), index = df.index)\n",
    "df = df.rename(columns={0: \"Away\", 1: \"Home\"})\n",
    "df[\"Home\"] = df[\"Home\"].map(lambda x: x.replace(\"Boxscore\", \"\"))\n",
    "df[\"Home\"] = df[\"Home\"].str.replace('\\(\\d+\\)', '')\n",
    "df[\"Away\"] = df[\"Away\"].str.replace('\\(\\d+\\)', '')\n",
    "df[\"Away\"] = df[\"Away\"].str.replace('\\s+', '')\n",
    "df[\"Home\"] = df[\"Home\"].str.replace('\\s+', '')\n",
    "df.head(5)\n"
   ]
  },
  {
   "cell_type": "code",
   "execution_count": 10,
   "metadata": {},
   "outputs": [],
   "source": [
    "df.to_csv(\"../prepared_data/schedules/MLB/MLB_schedule_2022.csv\", index=False)"
   ]
  },
  {
   "cell_type": "code",
   "execution_count": 7,
   "metadata": {},
   "outputs": [
    {
     "data": {
      "text/html": [
       "<div>\n",
       "<style scoped>\n",
       "    .dataframe tbody tr th:only-of-type {\n",
       "        vertical-align: middle;\n",
       "    }\n",
       "\n",
       "    .dataframe tbody tr th {\n",
       "        vertical-align: top;\n",
       "    }\n",
       "\n",
       "    .dataframe thead th {\n",
       "        text-align: right;\n",
       "    }\n",
       "</style>\n",
       "<table border=\"1\" class=\"dataframe\">\n",
       "  <thead>\n",
       "    <tr style=\"text-align: right;\">\n",
       "      <th></th>\n",
       "      <th>away_team</th>\n",
       "      <th>home_team</th>\n",
       "    </tr>\n",
       "  </thead>\n",
       "  <tbody>\n",
       "    <tr>\n",
       "      <th>0</th>\n",
       "      <td>HoustonAstros</td>\n",
       "      <td>LosAngelesAngels</td>\n",
       "    </tr>\n",
       "    <tr>\n",
       "      <th>1</th>\n",
       "      <td>SanDiegoPadres</td>\n",
       "      <td>ArizonaD'Backs</td>\n",
       "    </tr>\n",
       "    <tr>\n",
       "      <th>2</th>\n",
       "      <td>CincinnatiReds</td>\n",
       "      <td>AtlantaBraves</td>\n",
       "    </tr>\n",
       "    <tr>\n",
       "      <th>3</th>\n",
       "      <td>MilwaukeeBrewers</td>\n",
       "      <td>ChicagoCubs</td>\n",
       "    </tr>\n",
       "    <tr>\n",
       "      <th>4</th>\n",
       "      <td>ClevelandGuardians</td>\n",
       "      <td>KansasCityRoyals</td>\n",
       "    </tr>\n",
       "    <tr>\n",
       "      <th>...</th>\n",
       "      <td>...</td>\n",
       "      <td>...</td>\n",
       "    </tr>\n",
       "    <tr>\n",
       "      <th>2781</th>\n",
       "      <td>LosAngelesAngels</td>\n",
       "      <td>OaklandAthletics</td>\n",
       "    </tr>\n",
       "    <tr>\n",
       "      <th>2782</th>\n",
       "      <td>St.LouisCardinals</td>\n",
       "      <td>PittsburghPirates</td>\n",
       "    </tr>\n",
       "    <tr>\n",
       "      <th>2783</th>\n",
       "      <td>SanFranciscoGiants</td>\n",
       "      <td>SanDiegoPadres</td>\n",
       "    </tr>\n",
       "    <tr>\n",
       "      <th>2784</th>\n",
       "      <td>DetroitTigers</td>\n",
       "      <td>SeattleMariners</td>\n",
       "    </tr>\n",
       "    <tr>\n",
       "      <th>2785</th>\n",
       "      <td>NewYorkYankees</td>\n",
       "      <td>TexasRangers</td>\n",
       "    </tr>\n",
       "  </tbody>\n",
       "</table>\n",
       "<p>2430 rows × 2 columns</p>\n",
       "</div>"
      ],
      "text/plain": [
       "               away_team          home_team\n",
       "0          HoustonAstros   LosAngelesAngels\n",
       "1         SanDiegoPadres     ArizonaD'Backs\n",
       "2         CincinnatiReds      AtlantaBraves\n",
       "3       MilwaukeeBrewers        ChicagoCubs\n",
       "4     ClevelandGuardians   KansasCityRoyals\n",
       "...                  ...                ...\n",
       "2781    LosAngelesAngels   OaklandAthletics\n",
       "2782   St.LouisCardinals  PittsburghPirates\n",
       "2783  SanFranciscoGiants     SanDiegoPadres\n",
       "2784       DetroitTigers    SeattleMariners\n",
       "2785      NewYorkYankees       TexasRangers\n",
       "\n",
       "[2430 rows x 2 columns]"
      ]
     },
     "execution_count": 7,
     "metadata": {},
     "output_type": "execute_result"
    }
   ],
   "source": [
    "df"
   ]
  },
  {
   "cell_type": "code",
   "execution_count": null,
   "metadata": {},
   "outputs": [],
   "source": []
  }
 ],
 "metadata": {
  "kernelspec": {
   "display_name": "luckskill",
   "language": "python",
   "name": "luckskill"
  },
  "language_info": {
   "codemirror_mode": {
    "name": "ipython",
    "version": 3
   },
   "file_extension": ".py",
   "mimetype": "text/x-python",
   "name": "python",
   "nbconvert_exporter": "python",
   "pygments_lexer": "ipython3",
   "version": "3.8.15"
  },
  "orig_nbformat": 4,
  "vscode": {
   "interpreter": {
    "hash": "747efc146e86a5912f26e5d6b10798b21cba29e4347effd8c7cc42f26245deaf"
   }
  }
 },
 "nbformat": 4,
 "nbformat_minor": 2
}
