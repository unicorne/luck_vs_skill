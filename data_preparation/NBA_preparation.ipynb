{
 "cells": [
  {
   "cell_type": "code",
   "execution_count": 1,
   "metadata": {},
   "outputs": [],
   "source": [
    "import pandas as pd\n",
    "import numpy as np\n",
    "import matplotlib.pyplot as plt"
   ]
  },
  {
   "cell_type": "markdown",
   "metadata": {},
   "source": [
    "# Load Data"
   ]
  },
  {
   "cell_type": "code",
   "execution_count": 2,
   "metadata": {},
   "outputs": [
    {
     "data": {
      "text/html": [
       "<div>\n",
       "<style scoped>\n",
       "    .dataframe tbody tr th:only-of-type {\n",
       "        vertical-align: middle;\n",
       "    }\n",
       "\n",
       "    .dataframe tbody tr th {\n",
       "        vertical-align: top;\n",
       "    }\n",
       "\n",
       "    .dataframe thead th {\n",
       "        text-align: right;\n",
       "    }\n",
       "</style>\n",
       "<table border=\"1\" class=\"dataframe\">\n",
       "  <thead>\n",
       "    <tr style=\"text-align: right;\">\n",
       "      <th></th>\n",
       "      <th>Season</th>\n",
       "      <th>Lg</th>\n",
       "      <th>Team</th>\n",
       "      <th>W</th>\n",
       "      <th>L</th>\n",
       "      <th>W/L%</th>\n",
       "      <th>Finish</th>\n",
       "      <th>SRS</th>\n",
       "      <th>Pace</th>\n",
       "      <th>Rel_Pace</th>\n",
       "      <th>ORtg</th>\n",
       "      <th>Rel_ORtg</th>\n",
       "      <th>DRtg</th>\n",
       "      <th>Rel_DRtg</th>\n",
       "      <th>Playoffs</th>\n",
       "      <th>Coaches</th>\n",
       "      <th>Top WS</th>\n",
       "    </tr>\n",
       "  </thead>\n",
       "  <tbody>\n",
       "    <tr>\n",
       "      <th>0</th>\n",
       "      <td>2017-18</td>\n",
       "      <td>NBA</td>\n",
       "      <td>Boston Celtics</td>\n",
       "      <td>29</td>\n",
       "      <td>10</td>\n",
       "      <td>0.744</td>\n",
       "      <td>1</td>\n",
       "      <td>4.38</td>\n",
       "      <td>95.4</td>\n",
       "      <td>-1.7</td>\n",
       "      <td>108.0</td>\n",
       "      <td>0.2</td>\n",
       "      <td>102.8</td>\n",
       "      <td>-5.0</td>\n",
       "      <td>NaN</td>\n",
       "      <td>B. Stevens (29-10)</td>\n",
       "      <td>K. Irving (5.7)</td>\n",
       "    </tr>\n",
       "    <tr>\n",
       "      <th>1</th>\n",
       "      <td>2016-17</td>\n",
       "      <td>NBA</td>\n",
       "      <td>Boston Celtics*</td>\n",
       "      <td>53</td>\n",
       "      <td>29</td>\n",
       "      <td>0.646</td>\n",
       "      <td>1</td>\n",
       "      <td>2.25</td>\n",
       "      <td>96.8</td>\n",
       "      <td>0.4</td>\n",
       "      <td>111.2</td>\n",
       "      <td>2.4</td>\n",
       "      <td>108.4</td>\n",
       "      <td>-0.4</td>\n",
       "      <td>Lost E. Conf. Finals</td>\n",
       "      <td>B. Stevens (53-29)</td>\n",
       "      <td>I. Thomas (12.5)</td>\n",
       "    </tr>\n",
       "    <tr>\n",
       "      <th>2</th>\n",
       "      <td>2015-16</td>\n",
       "      <td>NBA</td>\n",
       "      <td>Boston Celtics*</td>\n",
       "      <td>48</td>\n",
       "      <td>34</td>\n",
       "      <td>0.585</td>\n",
       "      <td>2</td>\n",
       "      <td>2.84</td>\n",
       "      <td>98.5</td>\n",
       "      <td>2.7</td>\n",
       "      <td>106.8</td>\n",
       "      <td>0.4</td>\n",
       "      <td>103.6</td>\n",
       "      <td>-2.8</td>\n",
       "      <td>Lost E. Conf. 1st Rnd.</td>\n",
       "      <td>B. Stevens (48-34)</td>\n",
       "      <td>I. Thomas (9.7)</td>\n",
       "    </tr>\n",
       "    <tr>\n",
       "      <th>3</th>\n",
       "      <td>2014-15</td>\n",
       "      <td>NBA</td>\n",
       "      <td>Boston Celtics*</td>\n",
       "      <td>40</td>\n",
       "      <td>42</td>\n",
       "      <td>0.488</td>\n",
       "      <td>2</td>\n",
       "      <td>-0.40</td>\n",
       "      <td>95.8</td>\n",
       "      <td>1.9</td>\n",
       "      <td>104.7</td>\n",
       "      <td>-0.9</td>\n",
       "      <td>104.5</td>\n",
       "      <td>-1.1</td>\n",
       "      <td>Lost E. Conf. 1st Rnd.</td>\n",
       "      <td>B. Stevens (40-42)</td>\n",
       "      <td>T. Zeller (6.5)</td>\n",
       "    </tr>\n",
       "    <tr>\n",
       "      <th>4</th>\n",
       "      <td>2013-14</td>\n",
       "      <td>NBA</td>\n",
       "      <td>Boston Celtics</td>\n",
       "      <td>25</td>\n",
       "      <td>57</td>\n",
       "      <td>0.305</td>\n",
       "      <td>4</td>\n",
       "      <td>-4.97</td>\n",
       "      <td>93.3</td>\n",
       "      <td>-0.6</td>\n",
       "      <td>102.9</td>\n",
       "      <td>-3.8</td>\n",
       "      <td>107.7</td>\n",
       "      <td>1.0</td>\n",
       "      <td>NaN</td>\n",
       "      <td>B. Stevens (25-57)</td>\n",
       "      <td>B. Bass (5.1)</td>\n",
       "    </tr>\n",
       "  </tbody>\n",
       "</table>\n",
       "</div>"
      ],
      "text/plain": [
       "    Season   Lg             Team   W   L   W/L%  Finish   SRS  Pace  Rel_Pace  \\\n",
       "0  2017-18  NBA   Boston Celtics  29  10  0.744       1  4.38  95.4      -1.7   \n",
       "1  2016-17  NBA  Boston Celtics*  53  29  0.646       1  2.25  96.8       0.4   \n",
       "2  2015-16  NBA  Boston Celtics*  48  34  0.585       2  2.84  98.5       2.7   \n",
       "3  2014-15  NBA  Boston Celtics*  40  42  0.488       2 -0.40  95.8       1.9   \n",
       "4  2013-14  NBA   Boston Celtics  25  57  0.305       4 -4.97  93.3      -0.6   \n",
       "\n",
       "    ORtg  Rel_ORtg   DRtg  Rel_DRtg                Playoffs  \\\n",
       "0  108.0       0.2  102.8      -5.0                     NaN   \n",
       "1  111.2       2.4  108.4      -0.4    Lost E. Conf. Finals   \n",
       "2  106.8       0.4  103.6      -2.8  Lost E. Conf. 1st Rnd.   \n",
       "3  104.7      -0.9  104.5      -1.1  Lost E. Conf. 1st Rnd.   \n",
       "4  102.9      -3.8  107.7       1.0                     NaN   \n",
       "\n",
       "              Coaches            Top WS  \n",
       "0  B. Stevens (29-10)   K. Irving (5.7)  \n",
       "1  B. Stevens (53-29)  I. Thomas (12.5)  \n",
       "2  B. Stevens (48-34)   I. Thomas (9.7)  \n",
       "3  B. Stevens (40-42)   T. Zeller (6.5)  \n",
       "4  B. Stevens (25-57)     B. Bass (5.1)  "
      ]
     },
     "execution_count": 2,
     "metadata": {},
     "output_type": "execute_result"
    }
   ],
   "source": [
    "df = pd.read_csv(\"../raw_data/Team_Records_NBA_until_2017.csv\")\n",
    "df.head()"
   ]
  },
  {
   "attachments": {},
   "cell_type": "markdown",
   "metadata": {},
   "source": [
    "## Format of the data:\n",
    "\n",
    "- Wins per Team per Season up to 2017\n",
    "- We only need NBA data and exclude earlier League formats as BAA or ABA\n",
    "- We only need Season, Team, W, L columns"
   ]
  },
  {
   "cell_type": "markdown",
   "metadata": {},
   "source": [
    "## Preprocessing"
   ]
  },
  {
   "cell_type": "code",
   "execution_count": 8,
   "metadata": {},
   "outputs": [],
   "source": [
    "df = df[df[\"Lg\"] == \"NBA\"]\n",
    "\n",
    "# Set correct Year format\n",
    "df[\"Season\"] = df[\"Season\"].apply(lambda x: x[:4])\n",
    "\n",
    "# Since there are no Ties we can set the Ties to zero\n",
    "df[\"T\"] = 0"
   ]
  },
  {
   "cell_type": "markdown",
   "metadata": {},
   "source": [
    "## Create new dataframe with desired output"
   ]
  },
  {
   "cell_type": "code",
   "execution_count": 9,
   "metadata": {},
   "outputs": [],
   "source": [
    "df_nba_data = pd.DataFrame(columns=[\"Year\", \"Teams\", \"Wins\", \"Losses\", \"Ties\", \"#Games\"])"
   ]
  },
  {
   "cell_type": "code",
   "execution_count": 10,
   "metadata": {},
   "outputs": [],
   "source": [
    "grouped = df.groupby('Season')\n",
    "\n",
    "for name, group in grouped:\n",
    "    teams = group['Team'].tolist()\n",
    "    wins = group['W'].tolist()\n",
    "    losses = group['L'].tolist()\n",
    "    ties = group['T'].tolist()\n",
    "\n",
    "    ngames = wins[0]+losses[0]+ties[0]\n",
    "    # concat to the dataframe\n",
    "\n",
    "    df_tmp = pd.Series({\"Year\": name, \"Teams\": teams, \"Wins\": wins, \"Losses\": losses, \"Ties\": ties, \"#Games\": ngames}).to_frame().T\n",
    "    df_nba_data = pd.concat([df_nba_data ,df_tmp])"
   ]
  },
  {
   "cell_type": "code",
   "execution_count": 12,
   "metadata": {},
   "outputs": [],
   "source": [
    "# Save the data\n",
    "df_nba_data.to_parquet(\"../prepared_data/NBA_data.parquet\", index=False)"
   ]
  },
  {
   "cell_type": "code",
   "execution_count": null,
   "metadata": {},
   "outputs": [],
   "source": []
  }
 ],
 "metadata": {
  "kernelspec": {
   "display_name": "luckskill",
   "language": "python",
   "name": "luckskill"
  },
  "language_info": {
   "codemirror_mode": {
    "name": "ipython",
    "version": 3
   },
   "file_extension": ".py",
   "mimetype": "text/x-python",
   "name": "python",
   "nbconvert_exporter": "python",
   "pygments_lexer": "ipython3",
   "version": "3.8.15"
  },
  "orig_nbformat": 4,
  "vscode": {
   "interpreter": {
    "hash": "747efc146e86a5912f26e5d6b10798b21cba29e4347effd8c7cc42f26245deaf"
   }
  }
 },
 "nbformat": 4,
 "nbformat_minor": 2
}
