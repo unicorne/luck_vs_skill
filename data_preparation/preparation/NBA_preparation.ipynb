{
    "cells": [
        {
            "cell_type": "code",
            "execution_count": 2,
            "metadata": {},
            "outputs": [],
            "source": [
                "import pandas as pd\n",
                "import numpy as np"
            ]
        },
        {
            "cell_type": "markdown",
            "metadata": {},
            "source": [
                "# Load Data"
            ]
        },
        {
            "cell_type": "code",
            "execution_count": 3,
            "metadata": {},
            "outputs": [
                {
                    "data": {
                        "text/html": [
                            "<div>\n",
                            "<style scoped>\n",
                            "    .dataframe tbody tr th:only-of-type {\n",
                            "        vertical-align: middle;\n",
                            "    }\n",
                            "\n",
                            "    .dataframe tbody tr th {\n",
                            "        vertical-align: top;\n",
                            "    }\n",
                            "\n",
                            "    .dataframe thead th {\n",
                            "        text-align: right;\n",
                            "    }\n",
                            "</style>\n",
                            "<table border=\"1\" class=\"dataframe\">\n",
                            "  <thead>\n",
                            "    <tr style=\"text-align: right;\">\n",
                            "      <th></th>\n",
                            "      <th>W</th>\n",
                            "      <th>L</th>\n",
                            "      <th>PCT</th>\n",
                            "      <th>GB</th>\n",
                            "      <th>HOME</th>\n",
                            "      <th>AWAY</th>\n",
                            "      <th>DIV</th>\n",
                            "      <th>CONF</th>\n",
                            "      <th>PPG</th>\n",
                            "      <th>OPP PPG</th>\n",
                            "      <th>DIFF</th>\n",
                            "      <th>STRK</th>\n",
                            "      <th>L10</th>\n",
                            "      <th>Team</th>\n",
                            "      <th>Year</th>\n",
                            "    </tr>\n",
                            "  </thead>\n",
                            "  <tbody>\n",
                            "    <tr>\n",
                            "      <th>0</th>\n",
                            "      <td>62</td>\n",
                            "      <td>20</td>\n",
                            "      <td>0.756</td>\n",
                            "      <td>-</td>\n",
                            "      <td>31-10</td>\n",
                            "      <td>31-10</td>\n",
                            "      <td>12-4</td>\n",
                            "      <td>38-14</td>\n",
                            "      <td>110.4</td>\n",
                            "      <td>103.3</td>\n",
                            "      <td>7.1</td>\n",
                            "      <td>L1</td>\n",
                            "      <td>7-3</td>\n",
                            "      <td>z -- PHX Phoenix Suns</td>\n",
                            "      <td>2004</td>\n",
                            "    </tr>\n",
                            "    <tr>\n",
                            "      <th>1</th>\n",
                            "      <td>59</td>\n",
                            "      <td>23</td>\n",
                            "      <td>0.720</td>\n",
                            "      <td>3</td>\n",
                            "      <td>35-6</td>\n",
                            "      <td>24-17</td>\n",
                            "      <td>15-1</td>\n",
                            "      <td>41-11</td>\n",
                            "      <td>101.5</td>\n",
                            "      <td>95.0</td>\n",
                            "      <td>6.5</td>\n",
                            "      <td>W3</td>\n",
                            "      <td>5-5</td>\n",
                            "      <td>z -- MIA Miami Heat</td>\n",
                            "      <td>2004</td>\n",
                            "    </tr>\n",
                            "    <tr>\n",
                            "      <th>2</th>\n",
                            "      <td>59</td>\n",
                            "      <td>23</td>\n",
                            "      <td>0.720</td>\n",
                            "      <td>3</td>\n",
                            "      <td>38-3</td>\n",
                            "      <td>21-20</td>\n",
                            "      <td>10-6</td>\n",
                            "      <td>36-16</td>\n",
                            "      <td>96.2</td>\n",
                            "      <td>88.4</td>\n",
                            "      <td>7.8</td>\n",
                            "      <td>L2</td>\n",
                            "      <td>6-4</td>\n",
                            "      <td>y -- SA San Antonio Spurs</td>\n",
                            "      <td>2004</td>\n",
                            "    </tr>\n",
                            "    <tr>\n",
                            "      <th>3</th>\n",
                            "      <td>58</td>\n",
                            "      <td>24</td>\n",
                            "      <td>0.707</td>\n",
                            "      <td>4</td>\n",
                            "      <td>29-12</td>\n",
                            "      <td>29-12</td>\n",
                            "      <td>11-5</td>\n",
                            "      <td>35-17</td>\n",
                            "      <td>102.5</td>\n",
                            "      <td>96.8</td>\n",
                            "      <td>5.7</td>\n",
                            "      <td>W9</td>\n",
                            "      <td>9-1</td>\n",
                            "      <td>x -- DAL Dallas Mavericks</td>\n",
                            "      <td>2004</td>\n",
                            "    </tr>\n",
                            "    <tr>\n",
                            "      <th>4</th>\n",
                            "      <td>54</td>\n",
                            "      <td>28</td>\n",
                            "      <td>0.659</td>\n",
                            "      <td>8</td>\n",
                            "      <td>32-9</td>\n",
                            "      <td>22-19</td>\n",
                            "      <td>8-8</td>\n",
                            "      <td>35-17</td>\n",
                            "      <td>93.3</td>\n",
                            "      <td>89.5</td>\n",
                            "      <td>3.8</td>\n",
                            "      <td>L1</td>\n",
                            "      <td>9-1</td>\n",
                            "      <td>y -- DET Detroit Pistons</td>\n",
                            "      <td>2004</td>\n",
                            "    </tr>\n",
                            "  </tbody>\n",
                            "</table>\n",
                            "</div>"
                        ],
                        "text/plain": [
                            "    W   L    PCT GB   HOME   AWAY   DIV   CONF    PPG  OPP PPG  DIFF STRK  \\\n",
                            "0  62  20  0.756  -  31-10  31-10  12-4  38-14  110.4    103.3   7.1   L1   \n",
                            "1  59  23  0.720  3   35-6  24-17  15-1  41-11  101.5     95.0   6.5   W3   \n",
                            "2  59  23  0.720  3   38-3  21-20  10-6  36-16   96.2     88.4   7.8   L2   \n",
                            "3  58  24  0.707  4  29-12  29-12  11-5  35-17  102.5     96.8   5.7   W9   \n",
                            "4  54  28  0.659  8   32-9  22-19   8-8  35-17   93.3     89.5   3.8   L1   \n",
                            "\n",
                            "   L10                       Team  Year  \n",
                            "0  7-3      z -- PHX Phoenix Suns  2004  \n",
                            "1  5-5        z -- MIA Miami Heat  2004  \n",
                            "2  6-4  y -- SA San Antonio Spurs  2004  \n",
                            "3  9-1  x -- DAL Dallas Mavericks  2004  \n",
                            "4  9-1   y -- DET Detroit Pistons  2004  "
                        ]
                    },
                    "execution_count": 3,
                    "metadata": {},
                    "output_type": "execute_result"
                }
            ],
            "source": [
                "df = pd.read_csv(\"../../raw_data/NBA/NBA_scrapped.csv\")\n",
                "df.head()"
            ]
        },
        {
            "attachments": {},
            "cell_type": "markdown",
            "metadata": {},
            "source": [
                "## Format of the data:\n",
                "\n",
                "- Wins per Team per Season up to 2017\n",
                "- We only need NBA data and exclude earlier League formats as BAA or ABA\n",
                "- We only need Season, Team, W, L columns"
            ]
        },
        {
            "cell_type": "markdown",
            "metadata": {},
            "source": [
                "## Preprocessing"
            ]
        },
        {
            "cell_type": "code",
            "execution_count": 15,
            "metadata": {},
            "outputs": [],
            "source": [
                "# Since there are no Ties we can set the Ties to zero\n",
                "df[\"T\"] = 0"
            ]
        },
        {
            "cell_type": "markdown",
            "metadata": {},
            "source": [
                "## Create new dataframe with desired output"
            ]
        },
        {
            "cell_type": "code",
            "execution_count": 16,
            "metadata": {},
            "outputs": [],
            "source": [
                "df_nba_data = pd.DataFrame(columns=[\"Year\", \"Teams\", \"Wins\", \"Losses\", \"Ties\", \"#Games\"])"
            ]
        },
        {
            "cell_type": "code",
            "execution_count": 17,
            "metadata": {},
            "outputs": [],
            "source": [
                "grouped = df.groupby('Year')\n",
                "\n",
                "for year, group in grouped:\n",
                "    teams = group['Team'].tolist()\n",
                "    wins = group['W'].tolist()\n",
                "    losses = group['L'].tolist()\n",
                "    ties = group['T'].tolist()\n",
                "\n",
                "    ngames = wins[0]+losses[0]+ties[0]\n",
                "    # concat to the dataframe\n",
                "\n",
                "    df_tmp = pd.Series({\"Year\": year, \"Teams\": teams, \"Wins\": wins, \"Losses\": losses, \"Ties\": ties, \"#Games\": ngames}).to_frame().T\n",
                "    df_nba_data = pd.concat([df_nba_data ,df_tmp])"
            ]
        },
        {
            "cell_type": "code",
            "execution_count": 19,
            "metadata": {},
            "outputs": [],
            "source": [
                "# Save the data\n",
                "df_nba_data.to_parquet(\"../../prepared_data/NBA_data.parquet\", index=False)"
            ]
        },
        {
            "cell_type": "code",
            "execution_count": null,
            "metadata": {},
            "outputs": [],
            "source": []
        }
    ],
    "metadata": {
        "kernelspec": {
            "display_name": "luckskill",
            "language": "python",
            "name": "luckskill"
        },
        "language_info": {
            "codemirror_mode": {
                "name": "ipython",
                "version": 3
            },
            "file_extension": ".py",
            "mimetype": "text/x-python",
            "name": "python",
            "nbconvert_exporter": "python",
            "pygments_lexer": "ipython3",
            "version": "3.8.15"
        },
        "orig_nbformat": 4,
        "vscode": {
            "interpreter": {
                "hash": "747efc146e86a5912f26e5d6b10798b21cba29e4347effd8c7cc42f26245deaf"
            }
        }
    },
    "nbformat": 4,
    "nbformat_minor": 2
}