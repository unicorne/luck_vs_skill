{
    "cells": [
        {
            "cell_type": "code",
            "execution_count": 1,
            "metadata": {},
            "outputs": [],
            "source": [
                "import pandas as pd\n",
                "import numpy as np"
            ]
        },
        {
            "cell_type": "markdown",
            "metadata": {},
            "source": [
                "# Load Data"
            ]
        },
        {
            "cell_type": "code",
            "execution_count": 2,
            "metadata": {},
            "outputs": [
                {
                    "data": {
                        "text/html": [
                            "<div>\n",
                            "<style scoped>\n",
                            "    .dataframe tbody tr th:only-of-type {\n",
                            "        vertical-align: middle;\n",
                            "    }\n",
                            "\n",
                            "    .dataframe tbody tr th {\n",
                            "        vertical-align: top;\n",
                            "    }\n",
                            "\n",
                            "    .dataframe thead th {\n",
                            "        text-align: right;\n",
                            "    }\n",
                            "</style>\n",
                            "<table border=\"1\" class=\"dataframe\">\n",
                            "  <thead>\n",
                            "    <tr style=\"text-align: right;\">\n",
                            "      <th></th>\n",
                            "      <th>GP</th>\n",
                            "      <th>W</th>\n",
                            "      <th>D</th>\n",
                            "      <th>L</th>\n",
                            "      <th>F</th>\n",
                            "      <th>A</th>\n",
                            "      <th>GD</th>\n",
                            "      <th>P</th>\n",
                            "      <th>Team</th>\n",
                            "      <th>Year</th>\n",
                            "    </tr>\n",
                            "  </thead>\n",
                            "  <tbody>\n",
                            "    <tr>\n",
                            "      <th>0</th>\n",
                            "      <td>38</td>\n",
                            "      <td>26</td>\n",
                            "      <td>12</td>\n",
                            "      <td>0</td>\n",
                            "      <td>73</td>\n",
                            "      <td>26</td>\n",
                            "      <td>47</td>\n",
                            "      <td>90</td>\n",
                            "      <td>1 ARS Arsenal</td>\n",
                            "      <td>2003</td>\n",
                            "    </tr>\n",
                            "    <tr>\n",
                            "      <th>1</th>\n",
                            "      <td>38</td>\n",
                            "      <td>24</td>\n",
                            "      <td>7</td>\n",
                            "      <td>7</td>\n",
                            "      <td>67</td>\n",
                            "      <td>30</td>\n",
                            "      <td>37</td>\n",
                            "      <td>79</td>\n",
                            "      <td>2 CHE Chelsea</td>\n",
                            "      <td>2003</td>\n",
                            "    </tr>\n",
                            "    <tr>\n",
                            "      <th>2</th>\n",
                            "      <td>38</td>\n",
                            "      <td>23</td>\n",
                            "      <td>6</td>\n",
                            "      <td>9</td>\n",
                            "      <td>64</td>\n",
                            "      <td>35</td>\n",
                            "      <td>29</td>\n",
                            "      <td>75</td>\n",
                            "      <td>3 MAN Manchester United</td>\n",
                            "      <td>2003</td>\n",
                            "    </tr>\n",
                            "    <tr>\n",
                            "      <th>3</th>\n",
                            "      <td>38</td>\n",
                            "      <td>16</td>\n",
                            "      <td>12</td>\n",
                            "      <td>10</td>\n",
                            "      <td>55</td>\n",
                            "      <td>37</td>\n",
                            "      <td>18</td>\n",
                            "      <td>60</td>\n",
                            "      <td>4 LIV Liverpool</td>\n",
                            "      <td>2003</td>\n",
                            "    </tr>\n",
                            "    <tr>\n",
                            "      <th>4</th>\n",
                            "      <td>38</td>\n",
                            "      <td>13</td>\n",
                            "      <td>17</td>\n",
                            "      <td>8</td>\n",
                            "      <td>52</td>\n",
                            "      <td>40</td>\n",
                            "      <td>12</td>\n",
                            "      <td>56</td>\n",
                            "      <td>5 NEW Newcastle United</td>\n",
                            "      <td>2003</td>\n",
                            "    </tr>\n",
                            "  </tbody>\n",
                            "</table>\n",
                            "</div>"
                        ],
                        "text/plain": [
                            "   GP   W   D   L   F   A  GD   P                     Team  Year\n",
                            "0  38  26  12   0  73  26  47  90            1 ARS Arsenal  2003\n",
                            "1  38  24   7   7  67  30  37  79            2 CHE Chelsea  2003\n",
                            "2  38  23   6   9  64  35  29  75  3 MAN Manchester United  2003\n",
                            "3  38  16  12  10  55  37  18  60          4 LIV Liverpool  2003\n",
                            "4  38  13  17   8  52  40  12  56   5 NEW Newcastle United  2003"
                        ]
                    },
                    "execution_count": 2,
                    "metadata": {},
                    "output_type": "execute_result"
                }
            ],
            "source": [
                "df = pd.read_csv(\"../../raw_data/PML/PML_scrapped.csv\")\n",
                "df.head()"
            ]
        },
        {
            "attachments": {},
            "cell_type": "markdown",
            "metadata": {},
            "source": [
                "## Format of the data:\n",
                "\n",
                "- Wins per Team per Season from 2003/04up to 2021\n",
                "- We only need Year, Team, W, D, L columns\n"
            ]
        },
        {
            "cell_type": "markdown",
            "metadata": {},
            "source": [
                "## Preprocessing"
            ]
        },
        {
            "cell_type": "code",
            "execution_count": null,
            "metadata": {},
            "outputs": [],
            "source": []
        },
        {
            "cell_type": "markdown",
            "metadata": {},
            "source": [
                "## Create new dataframe with desired output"
            ]
        },
        {
            "cell_type": "code",
            "execution_count": 3,
            "metadata": {},
            "outputs": [],
            "source": [
                "df_pml_data = pd.DataFrame(columns=[\"Year\", \"Teams\", \"Wins\", \"Losses\", \"Ties\", \"#Games\"])"
            ]
        },
        {
            "cell_type": "code",
            "execution_count": 4,
            "metadata": {},
            "outputs": [],
            "source": [
                "grouped = df.groupby('Year')\n",
                "\n",
                "for year, group in grouped:\n",
                "    teams = group['Team'].tolist()\n",
                "    wins = group['W'].tolist()\n",
                "    losses = group['L'].tolist()\n",
                "    ties = group['D'].tolist()\n",
                "\n",
                "    ngames = wins[0]+losses[0]+ties[0]\n",
                "    # concat to the dataframe\n",
                "\n",
                "    df_tmp = pd.Series({\"Year\": year, \"Teams\": teams, \"Wins\": wins, \"Losses\": losses, \"Ties\": ties, \"#Games\": ngames}).to_frame().T\n",
                "    df_pml_data = pd.concat([df_pml_data ,df_tmp])"
            ]
        },
        {
            "cell_type": "code",
            "execution_count": 5,
            "metadata": {},
            "outputs": [],
            "source": [
                "# Save the data\n",
                "df_pml_data.to_parquet(\"../../prepared_data/PML_data.parquet\", index=False)"
            ]
        },
        {
            "cell_type": "code",
            "execution_count": null,
            "metadata": {},
            "outputs": [],
            "source": []
        }
    ],
    "metadata": {
        "kernelspec": {
            "display_name": "luckskill",
            "language": "python",
            "name": "luckskill"
        },
        "language_info": {
            "codemirror_mode": {
                "name": "ipython",
                "version": 3
            },
            "file_extension": ".py",
            "mimetype": "text/x-python",
            "name": "python",
            "nbconvert_exporter": "python",
            "pygments_lexer": "ipython3",
            "version": "3.8.15"
        },
        "orig_nbformat": 4,
        "vscode": {
            "interpreter": {
                "hash": "747efc146e86a5912f26e5d6b10798b21cba29e4347effd8c7cc42f26245deaf"
            }
        }
    },
    "nbformat": 4,
    "nbformat_minor": 2
}