{
    "cells": [
        {
            "cell_type": "code",
            "execution_count": 2,
            "metadata": {},
            "outputs": [],
            "source": [
                "import pandas as pd\n",
                "import numpy as np"
            ]
        },
        {
            "cell_type": "markdown",
            "metadata": {},
            "source": [
                "# Load Data"
            ]
        },
        {
            "cell_type": "code",
            "execution_count": 3,
            "metadata": {},
            "outputs": [
                {
                    "data": {
                        "text/html": [
                            "<div>\n",
                            "<style scoped>\n",
                            "    .dataframe tbody tr th:only-of-type {\n",
                            "        vertical-align: middle;\n",
                            "    }\n",
                            "\n",
                            "    .dataframe tbody tr th {\n",
                            "        vertical-align: top;\n",
                            "    }\n",
                            "\n",
                            "    .dataframe thead th {\n",
                            "        text-align: right;\n",
                            "    }\n",
                            "</style>\n",
                            "<table border=\"1\" class=\"dataframe\">\n",
                            "  <thead>\n",
                            "    <tr style=\"text-align: right;\">\n",
                            "      <th></th>\n",
                            "      <th>GP</th>\n",
                            "      <th>W</th>\n",
                            "      <th>L</th>\n",
                            "      <th>OTL</th>\n",
                            "      <th>PTS</th>\n",
                            "      <th>ROW</th>\n",
                            "      <th>SOW</th>\n",
                            "      <th>SOL</th>\n",
                            "      <th>HOME</th>\n",
                            "      <th>AWAY</th>\n",
                            "      <th>GF</th>\n",
                            "      <th>GA</th>\n",
                            "      <th>DIFF</th>\n",
                            "      <th>L10</th>\n",
                            "      <th>STRK</th>\n",
                            "      <th>Team</th>\n",
                            "      <th>Year</th>\n",
                            "      <th>RW</th>\n",
                            "    </tr>\n",
                            "  </thead>\n",
                            "  <tbody>\n",
                            "    <tr>\n",
                            "      <th>0</th>\n",
                            "      <td>82</td>\n",
                            "      <td>58</td>\n",
                            "      <td>16</td>\n",
                            "      <td>8</td>\n",
                            "      <td>124</td>\n",
                            "      <td>58</td>\n",
                            "      <td>0</td>\n",
                            "      <td>0</td>\n",
                            "      <td>27-9-5</td>\n",
                            "      <td>31-7-3</td>\n",
                            "      <td>305</td>\n",
                            "      <td>209</td>\n",
                            "      <td>96</td>\n",
                            "      <td>8-1-1</td>\n",
                            "      <td>L1</td>\n",
                            "      <td>*-z -- DET Detroit Red Wings</td>\n",
                            "      <td>2005</td>\n",
                            "      <td>NaN</td>\n",
                            "    </tr>\n",
                            "    <tr>\n",
                            "      <th>1</th>\n",
                            "      <td>82</td>\n",
                            "      <td>52</td>\n",
                            "      <td>21</td>\n",
                            "      <td>9</td>\n",
                            "      <td>113</td>\n",
                            "      <td>52</td>\n",
                            "      <td>0</td>\n",
                            "      <td>0</td>\n",
                            "      <td>29-9-3</td>\n",
                            "      <td>23-12-6</td>\n",
                            "      <td>314</td>\n",
                            "      <td>211</td>\n",
                            "      <td>103</td>\n",
                            "      <td>3-5-2</td>\n",
                            "      <td>W1</td>\n",
                            "      <td>y -- OTT Ottawa Senators</td>\n",
                            "      <td>2005</td>\n",
                            "      <td>NaN</td>\n",
                            "    </tr>\n",
                            "    <tr>\n",
                            "      <th>2</th>\n",
                            "      <td>82</td>\n",
                            "      <td>53</td>\n",
                            "      <td>23</td>\n",
                            "      <td>6</td>\n",
                            "      <td>112</td>\n",
                            "      <td>53</td>\n",
                            "      <td>0</td>\n",
                            "      <td>0</td>\n",
                            "      <td>28-11-2</td>\n",
                            "      <td>25-12-4</td>\n",
                            "      <td>265</td>\n",
                            "      <td>218</td>\n",
                            "      <td>47</td>\n",
                            "      <td>4-3-3</td>\n",
                            "      <td>L2</td>\n",
                            "      <td>y -- DAL Dallas Stars</td>\n",
                            "      <td>2005</td>\n",
                            "      <td>NaN</td>\n",
                            "    </tr>\n",
                            "    <tr>\n",
                            "      <th>3</th>\n",
                            "      <td>82</td>\n",
                            "      <td>52</td>\n",
                            "      <td>22</td>\n",
                            "      <td>8</td>\n",
                            "      <td>112</td>\n",
                            "      <td>52</td>\n",
                            "      <td>0</td>\n",
                            "      <td>0</td>\n",
                            "      <td>31-8-2</td>\n",
                            "      <td>21-14-6</td>\n",
                            "      <td>294</td>\n",
                            "      <td>260</td>\n",
                            "      <td>34</td>\n",
                            "      <td>5-3-2</td>\n",
                            "      <td>L2</td>\n",
                            "      <td>y -- CAR Carolina Hurricanes</td>\n",
                            "      <td>2005</td>\n",
                            "      <td>NaN</td>\n",
                            "    </tr>\n",
                            "    <tr>\n",
                            "      <th>4</th>\n",
                            "      <td>82</td>\n",
                            "      <td>52</td>\n",
                            "      <td>24</td>\n",
                            "      <td>6</td>\n",
                            "      <td>110</td>\n",
                            "      <td>52</td>\n",
                            "      <td>0</td>\n",
                            "      <td>0</td>\n",
                            "      <td>27-11-3</td>\n",
                            "      <td>25-13-3</td>\n",
                            "      <td>281</td>\n",
                            "      <td>239</td>\n",
                            "      <td>42</td>\n",
                            "      <td>7-3-0</td>\n",
                            "      <td>W5</td>\n",
                            "      <td>x -- BUF Buffalo Sabres</td>\n",
                            "      <td>2005</td>\n",
                            "      <td>NaN</td>\n",
                            "    </tr>\n",
                            "  </tbody>\n",
                            "</table>\n",
                            "</div>"
                        ],
                        "text/plain": [
                            "   GP   W   L  OTL  PTS  ROW  SOW  SOL     HOME     AWAY   GF   GA  DIFF  \\\n",
                            "0  82  58  16    8  124   58    0    0   27-9-5   31-7-3  305  209    96   \n",
                            "1  82  52  21    9  113   52    0    0   29-9-3  23-12-6  314  211   103   \n",
                            "2  82  53  23    6  112   53    0    0  28-11-2  25-12-4  265  218    47   \n",
                            "3  82  52  22    8  112   52    0    0   31-8-2  21-14-6  294  260    34   \n",
                            "4  82  52  24    6  110   52    0    0  27-11-3  25-13-3  281  239    42   \n",
                            "\n",
                            "     L10 STRK                          Team  Year  RW  \n",
                            "0  8-1-1   L1  *-z -- DET Detroit Red Wings  2005 NaN  \n",
                            "1  3-5-2   W1      y -- OTT Ottawa Senators  2005 NaN  \n",
                            "2  4-3-3   L2         y -- DAL Dallas Stars  2005 NaN  \n",
                            "3  5-3-2   L2  y -- CAR Carolina Hurricanes  2005 NaN  \n",
                            "4  7-3-0   W5       x -- BUF Buffalo Sabres  2005 NaN  "
                        ]
                    },
                    "execution_count": 3,
                    "metadata": {},
                    "output_type": "execute_result"
                }
            ],
            "source": [
                "df = pd.read_csv(\"../../raw_data/NHL/NHL_scrapped.csv\")\n",
                "df.head()"
            ]
        },
        {
            "attachments": {},
            "cell_type": "markdown",
            "metadata": {},
            "source": [
                "## Format of the data:\n",
                "\n",
                "- Wins per Team per Season from 2005/06 up to 2021\n",
                "- We only need Year, Team, W, L, OTL columns\n",
                "\n",
                "In the 2014-15 NHL Season OTL (Overtime Losses) were counted twice. Once as Losses and then seperately as OTL. In Order to adjust this to the other seasons it is necessary to subtract the OTL losses from the losses for the 2014-15 Season."
            ]
        },
        {
            "cell_type": "markdown",
            "metadata": {},
            "source": [
                "## Preprocessing"
            ]
        },
        {
            "cell_type": "code",
            "execution_count": null,
            "metadata": {},
            "outputs": [],
            "source": []
        },
        {
            "cell_type": "markdown",
            "metadata": {},
            "source": [
                "## Create new dataframe with desired output"
            ]
        },
        {
            "cell_type": "code",
            "execution_count": 30,
            "metadata": {},
            "outputs": [],
            "source": [
                "df_nhl_data = pd.DataFrame(columns=[\"Year\", \"Teams\", \"Wins\", \"Losses\", \"Ties\", \"#Games\"])"
            ]
        },
        {
            "cell_type": "code",
            "execution_count": 31,
            "metadata": {},
            "outputs": [],
            "source": [
                "grouped = df.groupby('Year')\n",
                "\n",
                "for year, group in grouped:\n",
                "    teams = group['Team'].tolist()\n",
                "    wins = group['W'].tolist()\n",
                "    losses = group['L'].tolist()\n",
                "    ties = group['OTL'].tolist()\n",
                "\n",
                "    if year == 2014:\n",
                "        losses = [x-y for x,y in zip(losses, ties)]\n",
                "\n",
                "    ngames = wins[0]+losses[0]+ties[0]\n",
                "    # concat to the dataframe\n",
                "\n",
                "    df_tmp = pd.Series({\"Year\": year, \"Teams\": teams, \"Wins\": wins, \"Losses\": losses, \"Ties\": ties, \"#Games\": ngames}).to_frame().T\n",
                "    df_nhl_data = pd.concat([df_nhl_data ,df_tmp])"
            ]
        },
        {
            "cell_type": "code",
            "execution_count": 32,
            "metadata": {},
            "outputs": [],
            "source": [
                "# Save the data\n",
                "df_nhl_data.to_parquet(\"../../prepared_data/NHL_data.parquet\", index=False)"
            ]
        }
    ],
    "metadata": {
        "kernelspec": {
            "display_name": "luckskill",
            "language": "python",
            "name": "luckskill"
        },
        "language_info": {
            "codemirror_mode": {
                "name": "ipython",
                "version": 3
            },
            "file_extension": ".py",
            "mimetype": "text/x-python",
            "name": "python",
            "nbconvert_exporter": "python",
            "pygments_lexer": "ipython3",
            "version": "3.8.15"
        },
        "orig_nbformat": 4,
        "vscode": {
            "interpreter": {
                "hash": "747efc146e86a5912f26e5d6b10798b21cba29e4347effd8c7cc42f26245deaf"
            }
        }
    },
    "nbformat": 4,
    "nbformat_minor": 2
}