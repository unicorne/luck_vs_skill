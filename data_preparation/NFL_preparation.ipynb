{
 "cells": [
  {
   "cell_type": "code",
   "execution_count": 2,
   "metadata": {},
   "outputs": [],
   "source": [
    "import pandas as pd\n",
    "import numpy as np\n",
    "import matplotlib.pyplot as plt"
   ]
  },
  {
   "cell_type": "markdown",
   "metadata": {},
   "source": [
    "# Load Data"
   ]
  },
  {
   "cell_type": "code",
   "execution_count": 4,
   "metadata": {},
   "outputs": [
    {
     "data": {
      "text/html": [
       "<div>\n",
       "<style scoped>\n",
       "    .dataframe tbody tr th:only-of-type {\n",
       "        vertical-align: middle;\n",
       "    }\n",
       "\n",
       "    .dataframe tbody tr th {\n",
       "        vertical-align: top;\n",
       "    }\n",
       "\n",
       "    .dataframe thead th {\n",
       "        text-align: right;\n",
       "    }\n",
       "</style>\n",
       "<table border=\"1\" class=\"dataframe\">\n",
       "  <thead>\n",
       "    <tr style=\"text-align: right;\">\n",
       "      <th></th>\n",
       "      <th>Unnamed: 0</th>\n",
       "      <th>NFL Team</th>\n",
       "      <th>W</th>\n",
       "      <th>L</th>\n",
       "      <th>T</th>\n",
       "      <th>PCT</th>\n",
       "      <th>PF</th>\n",
       "      <th>PA</th>\n",
       "      <th>Net Pts</th>\n",
       "      <th>Home</th>\n",
       "      <th>Road</th>\n",
       "      <th>Div</th>\n",
       "      <th>Pct</th>\n",
       "      <th>Conf</th>\n",
       "      <th>Pct.1</th>\n",
       "      <th>Non-Conf</th>\n",
       "      <th>Strk</th>\n",
       "      <th>Last 5</th>\n",
       "      <th>Year</th>\n",
       "    </tr>\n",
       "  </thead>\n",
       "  <tbody>\n",
       "    <tr>\n",
       "      <th>0</th>\n",
       "      <td>0</td>\n",
       "      <td>Los Angeles Chargers</td>\n",
       "      <td>1</td>\n",
       "      <td>15</td>\n",
       "      <td>0</td>\n",
       "      <td>0.063</td>\n",
       "      <td>269</td>\n",
       "      <td>440</td>\n",
       "      <td>-171</td>\n",
       "      <td>1 - 7 - 0</td>\n",
       "      <td>0 - 8 - 0</td>\n",
       "      <td>1 - 7 - 0</td>\n",
       "      <td>0.125</td>\n",
       "      <td>1 - 11 - 0</td>\n",
       "      <td>0.083</td>\n",
       "      <td>0 - 4 - 0</td>\n",
       "      <td>4L</td>\n",
       "      <td>1 - 4 - 0</td>\n",
       "      <td>2000</td>\n",
       "    </tr>\n",
       "    <tr>\n",
       "      <th>1</th>\n",
       "      <td>1</td>\n",
       "      <td>Arizona Cardinals</td>\n",
       "      <td>3</td>\n",
       "      <td>13</td>\n",
       "      <td>0</td>\n",
       "      <td>0.188</td>\n",
       "      <td>210</td>\n",
       "      <td>443</td>\n",
       "      <td>-233</td>\n",
       "      <td>3 - 5 - 0</td>\n",
       "      <td>0 - 8 - 0</td>\n",
       "      <td>2 - 6 - 0</td>\n",
       "      <td>0.250</td>\n",
       "      <td>2 - 10 - 0</td>\n",
       "      <td>0.167</td>\n",
       "      <td>1 - 3 - 0</td>\n",
       "      <td>7L</td>\n",
       "      <td>0 - 5 - 0</td>\n",
       "      <td>2000</td>\n",
       "    </tr>\n",
       "    <tr>\n",
       "      <th>2</th>\n",
       "      <td>2</td>\n",
       "      <td>Cleveland Browns</td>\n",
       "      <td>3</td>\n",
       "      <td>13</td>\n",
       "      <td>0</td>\n",
       "      <td>0.188</td>\n",
       "      <td>161</td>\n",
       "      <td>419</td>\n",
       "      <td>-258</td>\n",
       "      <td>2 - 6 - 0</td>\n",
       "      <td>1 - 7 - 0</td>\n",
       "      <td>2 - 8 - 0</td>\n",
       "      <td>0.200</td>\n",
       "      <td>3 - 10 - 0</td>\n",
       "      <td>0.231</td>\n",
       "      <td>0 - 3 - 0</td>\n",
       "      <td>5L</td>\n",
       "      <td>0 - 5 - 0</td>\n",
       "      <td>2000</td>\n",
       "    </tr>\n",
       "    <tr>\n",
       "      <th>3</th>\n",
       "      <td>3</td>\n",
       "      <td>Atlanta Falcons</td>\n",
       "      <td>4</td>\n",
       "      <td>12</td>\n",
       "      <td>0</td>\n",
       "      <td>0.250</td>\n",
       "      <td>252</td>\n",
       "      <td>413</td>\n",
       "      <td>-161</td>\n",
       "      <td>3 - 5 - 0</td>\n",
       "      <td>1 - 7 - 0</td>\n",
       "      <td>3 - 5 - 0</td>\n",
       "      <td>0.375</td>\n",
       "      <td>3 - 9 - 0</td>\n",
       "      <td>0.250</td>\n",
       "      <td>1 - 3 - 0</td>\n",
       "      <td>1W</td>\n",
       "      <td>1 - 4 - 0</td>\n",
       "      <td>2000</td>\n",
       "    </tr>\n",
       "    <tr>\n",
       "      <th>4</th>\n",
       "      <td>4</td>\n",
       "      <td>Cincinnati Bengals</td>\n",
       "      <td>4</td>\n",
       "      <td>12</td>\n",
       "      <td>0</td>\n",
       "      <td>0.250</td>\n",
       "      <td>185</td>\n",
       "      <td>359</td>\n",
       "      <td>-174</td>\n",
       "      <td>3 - 5 - 0</td>\n",
       "      <td>1 - 7 - 0</td>\n",
       "      <td>2 - 8 - 0</td>\n",
       "      <td>0.200</td>\n",
       "      <td>3 - 10 - 0</td>\n",
       "      <td>0.231</td>\n",
       "      <td>1 - 2 - 0</td>\n",
       "      <td>1L</td>\n",
       "      <td>2 - 3 - 0</td>\n",
       "      <td>2000</td>\n",
       "    </tr>\n",
       "  </tbody>\n",
       "</table>\n",
       "</div>"
      ],
      "text/plain": [
       "   Unnamed: 0              NFL Team  W   L  T    PCT   PF   PA  Net Pts  \\\n",
       "0           0  Los Angeles Chargers  1  15  0  0.063  269  440     -171   \n",
       "1           1     Arizona Cardinals  3  13  0  0.188  210  443     -233   \n",
       "2           2      Cleveland Browns  3  13  0  0.188  161  419     -258   \n",
       "3           3       Atlanta Falcons  4  12  0  0.250  252  413     -161   \n",
       "4           4    Cincinnati Bengals  4  12  0  0.250  185  359     -174   \n",
       "\n",
       "        Home       Road        Div    Pct        Conf  Pct.1   Non-Conf Strk  \\\n",
       "0  1 - 7 - 0  0 - 8 - 0  1 - 7 - 0  0.125  1 - 11 - 0  0.083  0 - 4 - 0   4L   \n",
       "1  3 - 5 - 0  0 - 8 - 0  2 - 6 - 0  0.250  2 - 10 - 0  0.167  1 - 3 - 0   7L   \n",
       "2  2 - 6 - 0  1 - 7 - 0  2 - 8 - 0  0.200  3 - 10 - 0  0.231  0 - 3 - 0   5L   \n",
       "3  3 - 5 - 0  1 - 7 - 0  3 - 5 - 0  0.375   3 - 9 - 0  0.250  1 - 3 - 0   1W   \n",
       "4  3 - 5 - 0  1 - 7 - 0  2 - 8 - 0  0.200  3 - 10 - 0  0.231  1 - 2 - 0   1L   \n",
       "\n",
       "      Last 5  Year  \n",
       "0  1 - 4 - 0  2000  \n",
       "1  0 - 5 - 0  2000  \n",
       "2  0 - 5 - 0  2000  \n",
       "3  1 - 4 - 0  2000  \n",
       "4  2 - 3 - 0  2000  "
      ]
     },
     "execution_count": 4,
     "metadata": {},
     "output_type": "execute_result"
    }
   ],
   "source": [
    "df = pd.read_csv(\"../raw_data/NFL_League_Master.csv\")\n",
    "df.head()"
   ]
  },
  {
   "attachments": {},
   "cell_type": "markdown",
   "metadata": {},
   "source": [
    "## Format of the data:\n",
    "\n",
    "- Wins, Losses and Ties per Team per Season from 2000 to 2021\n",
    "- We only need Year, NFL Team, W, L, T columns"
   ]
  },
  {
   "cell_type": "markdown",
   "metadata": {},
   "source": [
    "## Preprocessing"
   ]
  },
  {
   "cell_type": "code",
   "execution_count": 3,
   "metadata": {},
   "outputs": [],
   "source": []
  },
  {
   "cell_type": "markdown",
   "metadata": {},
   "source": [
    "## Create new dataframe with desired output"
   ]
  },
  {
   "cell_type": "code",
   "execution_count": 6,
   "metadata": {},
   "outputs": [],
   "source": [
    "df_nfl_data = pd.DataFrame(columns=[\"Year\", \"Teams\", \"Wins\", \"Losses\", \"Ties\", \"#Games\"])"
   ]
  },
  {
   "cell_type": "code",
   "execution_count": 7,
   "metadata": {},
   "outputs": [],
   "source": [
    "grouped = df.groupby('Year')\n",
    "\n",
    "for name, group in grouped:\n",
    "    teams = group['NFL Team'].tolist()\n",
    "    wins = group['W'].tolist()\n",
    "    losses = group['L'].tolist()\n",
    "    ties = group['T'].tolist()\n",
    "\n",
    "    ngames = wins[0]+losses[0]+ties[0]\n",
    "    # concat to the dataframe\n",
    "\n",
    "    df_tmp = pd.Series({\"Year\": name, \"Teams\": teams, \"Wins\": wins, \"Losses\": losses, \"Ties\": ties, \"#Games\": ngames}).to_frame().T\n",
    "    df_nfl_data = pd.concat([df_nfl_data ,df_tmp])"
   ]
  },
  {
   "cell_type": "code",
   "execution_count": 9,
   "metadata": {},
   "outputs": [],
   "source": [
    "# Save the data\n",
    "df_nfl_data.to_parquet(\"../prepared_data/NFL_data.parquet\", index=False)"
   ]
  },
  {
   "cell_type": "code",
   "execution_count": null,
   "metadata": {},
   "outputs": [],
   "source": []
  }
 ],
 "metadata": {
  "kernelspec": {
   "display_name": "luckskill",
   "language": "python",
   "name": "luckskill"
  },
  "language_info": {
   "codemirror_mode": {
    "name": "ipython",
    "version": 3
   },
   "file_extension": ".py",
   "mimetype": "text/x-python",
   "name": "python",
   "nbconvert_exporter": "python",
   "pygments_lexer": "ipython3",
   "version": "3.8.15"
  },
  "orig_nbformat": 4,
  "vscode": {
   "interpreter": {
    "hash": "747efc146e86a5912f26e5d6b10798b21cba29e4347effd8c7cc42f26245deaf"
   }
  }
 },
 "nbformat": 4,
 "nbformat_minor": 2
}
