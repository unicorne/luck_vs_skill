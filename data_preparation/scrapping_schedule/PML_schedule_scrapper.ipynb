{
    "cells": [
        {
            "cell_type": "code",
            "execution_count": 2,
            "metadata": {},
            "outputs": [],
            "source": [
                "import pandas as pd\n",
                "import numpy as np\n",
                "import warnings\n",
                "warnings.filterwarnings('ignore')\n",
                "import itertools"
            ]
        },
        {
            "attachments": {},
            "cell_type": "markdown",
            "metadata": {},
            "source": [
                "# Create the PML schedule from game data\n",
                "\n",
                "Because the PML schedule is the same for each year we can construct one and use it for all years.\n",
                "The Teams playing in the Premier League are changing but because we are using the schedule just for simulation and the distribution of wins the team names themselves are not important."
            ]
        },
        {
            "cell_type": "code",
            "execution_count": 16,
            "metadata": {},
            "outputs": [],
            "source": [
                "# There are 20 Teams in the league\n",
                "teams = [f\"team{i}\" for i in range(1, 21)]\n",
                "\n",
                "all_home_games = list(itertools.combinations(teams, 2))\n",
                "all_away_games = [(x[1], x[0]) for x in all_home_games]\n",
                "all_games = all_home_games + all_away_games\n",
                "\n",
                "schedule = pd.DataFrame(all_games, columns=[\"Home\", \"Away\"])"
            ]
        },
        {
            "cell_type": "code",
            "execution_count": 18,
            "metadata": {},
            "outputs": [],
            "source": [
                "years_to_include = range(2003,2023)\n",
                "\n",
                "for year in years_to_include:\n",
                "    schedule.to_csv(f\"../../prepared_data/schedules/PML/{year}.csv\", index=False)"
            ]
        },
        {
            "cell_type": "code",
            "execution_count": null,
            "metadata": {},
            "outputs": [],
            "source": []
        }
    ],
    "metadata": {
        "kernelspec": {
            "display_name": "luckskill",
            "language": "python",
            "name": "luckskill"
        },
        "language_info": {
            "codemirror_mode": {
                "name": "ipython",
                "version": 3
            },
            "file_extension": ".py",
            "mimetype": "text/x-python",
            "name": "python",
            "nbconvert_exporter": "python",
            "pygments_lexer": "ipython3",
            "version": "3.8.15"
        },
        "orig_nbformat": 4,
        "vscode": {
            "interpreter": {
                "hash": "747efc146e86a5912f26e5d6b10798b21cba29e4347effd8c7cc42f26245deaf"
            }
        }
    },
    "nbformat": 4,
    "nbformat_minor": 2
}