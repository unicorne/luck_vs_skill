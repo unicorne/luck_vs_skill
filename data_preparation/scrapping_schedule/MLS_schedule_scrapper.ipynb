{
 "cells": [
  {
   "cell_type": "code",
   "execution_count": 1,
   "metadata": {},
   "outputs": [],
   "source": [
    "import pandas as pd\n",
    "import numpy as np\n",
    "from collections import Counter\n"
   ]
  },
  {
   "attachments": {},
   "cell_type": "markdown",
   "metadata": {},
   "source": [
    "# Create the MLS schedule from game data\n",
    "\n",
    "Data available from https://www.kaggle.com/datasets/josephvm/major-league-soccer-dataset?select=matches.csv\n",
    "\n",
    "\n",
    "Unfortunately the dataset is not complete. The following games are missing in dataset and have to be added:\n",
    "\n",
    "2006: \"Chivas FC\" vs \"Colorado Rapids\"\n",
    "\n",
    "2005: \"Sporting Kansas City\" vs \"LA Galaxy\"\n",
    "\n",
    "2004: \"DC United\" vs \"New England Revolution\", \"Columbus Crew SC\" vs \"New York Red Bulls\", \"San Jose Earthquakes\" vs \"Sporting Kansas City\", \"FC Dalls\" vs \"LA Galaxy\"\n",
    "\n",
    "\n"
   ]
  },
  {
   "cell_type": "code",
   "execution_count": 2,
   "metadata": {},
   "outputs": [
    {
     "name": "stderr",
     "output_type": "stream",
     "text": [
      "/var/folders/vx/56f7nbnd4x11hf9xxfw22kg40000gn/T/ipykernel_56359/2356028469.py:1: DtypeWarning: Columns (11,14,50,102,123,125,129,131,133,135,137,139,141,143,145,147,149,157,158,160,161,163,165,167,169,171,173,184,186,187,205,206) have mixed types. Specify dtype option on import or set low_memory=False.\n",
      "  df = pd.read_csv(\"../../raw_data/MLS/MLS_game_data_kaggle.csv\")\n"
     ]
    }
   ],
   "source": [
    "df = pd.read_csv(\"../../raw_data/MLS/MLS_game_data_kaggle.csv\")\n",
    "df = df.drop_duplicates(\"id\")\n"
   ]
  },
  {
   "cell_type": "code",
   "execution_count": 3,
   "metadata": {},
   "outputs": [],
   "source": [
    "# Only look at regular season games\n",
    "df = df[df[\"part_of_competition\"].str.contains(\"Regular\")]\n",
    "df = df[df[\"game_status\"] != \"Abandoned\"]\n",
    "# Exclude 2022 season because it is still running at this point (2023-01-05)\n",
    "# Exclude 2020 season because of covid\n",
    "df = df[df[\"year\"] != 2022]\n",
    "df = df[df[\"year\"] != 2020]\n",
    "df = df[[\"home\", \"away\", \"year\"]]\n",
    "df = df.rename(columns={\"home\": \"Home\", \"away\": \"Away\", \"year\": \"Year\"})\n"
   ]
  },
  {
   "cell_type": "code",
   "execution_count": 4,
   "metadata": {},
   "outputs": [],
   "source": [
    "def add_game_to_df(df, home, away, year):\n",
    "    tmp_series = pd.Series({\"Home\": home, \"Away\": away, \"Year\": year})\n",
    "    return pd.concat([df, tmp_series.to_frame().T], ignore_index=True)\n"
   ]
  },
  {
   "cell_type": "code",
   "execution_count": 5,
   "metadata": {},
   "outputs": [],
   "source": [
    "grpy = df.groupby(\"Year\")\n",
    "df_list = {}\n",
    "# iterate ofer pandas groupby object and save schedule for each season\n",
    "for year, season_df in grpy:\n",
    "    if year == 2004:\n",
    "        season_df = add_game_to_df(\n",
    "            season_df, \"DC United\", \"New England Revolution\", year\n",
    "        )\n",
    "        season_df = add_game_to_df(\n",
    "            season_df, \"Columbus Crew SC\", \"New York Red Bulls\", year\n",
    "        )\n",
    "        season_df = add_game_to_df(\n",
    "            season_df, \"San Jose Earthquakes\", \"Sporting Kansas City\", year\n",
    "        )\n",
    "        season_df = add_game_to_df(season_df, \"FC Dallas\", \"LA Galaxy\", year)\n",
    "    if year == 2005:\n",
    "        season_df = add_game_to_df(season_df, \"Sporting Kansas City\", \"LA Galaxy\", year)\n",
    "    if year == 2006:\n",
    "        season_df = add_game_to_df(season_df, \"Chivas USA\", \"Colorado Rapids\", year)\n",
    "    season_df.to_csv(f\"../../prepared_data/schedules/MLS/{year}.csv\", index=False)\n",
    "\n"
   ]
  },
  {
   "cell_type": "code",
   "execution_count": null,
   "metadata": {},
   "outputs": [],
   "source": []
  }
 ],
 "metadata": {
  "kernelspec": {
   "display_name": "Python 3",
   "language": "python",
   "name": "python3"
  },
  "language_info": {
   "codemirror_mode": {
    "name": "ipython",
    "version": 3
   },
   "file_extension": ".py",
   "mimetype": "text/x-python",
   "name": "python",
   "nbconvert_exporter": "python",
   "pygments_lexer": "ipython3",
   "version": "3.9.4 (default, Dec 24 2021, 15:30:50) \n[Clang 13.0.0 (clang-1300.0.29.30)]"
  },
  "orig_nbformat": 4,
  "vscode": {
   "interpreter": {
    "hash": "747efc146e86a5912f26e5d6b10798b21cba29e4347effd8c7cc42f26245deaf"
   }
  }
 },
 "nbformat": 4,
 "nbformat_minor": 2
}
