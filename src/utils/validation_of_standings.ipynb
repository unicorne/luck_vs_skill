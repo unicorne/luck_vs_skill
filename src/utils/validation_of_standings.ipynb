{
 "cells": [
  {
   "cell_type": "code",
   "execution_count": 1,
   "metadata": {},
   "outputs": [],
   "source": [
    "import pandas as pd\n",
    "import numpy as np\n",
    "from collections import Counter\n",
    "import os"
   ]
  },
  {
   "attachments": {},
   "cell_type": "markdown",
   "metadata": {},
   "source": [
    "# Validate the standings for correctness\n",
    "\n",
    "This notebooks helps to validate the schedules for different seasons and leagues.\n",
    "\n",
    "In some cases it is expected that teams to not have the same amount of games. E.g in MLB some games were cancelled."
   ]
  },
  {
   "cell_type": "code",
   "execution_count": 2,
   "metadata": {},
   "outputs": [],
   "source": [
    "def get_table(df, year):\n",
    "    df = df[df[\"Year\"] == year]\n",
    "    if len(df) == 1:\n",
    "        teams = list(df[\"Teams\"].values[0])\n",
    "        wins = list(df[\"Wins\"].values[0])\n",
    "        losses = list(df[\"Losses\"].values[0])\n",
    "        ties = list(df[\"Ties\"].values[0])\n",
    "        df = pd.DataFrame(\n",
    "            {\"Teams\": teams, \"Wins\": wins, \"Losses\": losses, \"Ties\": ties}\n",
    "        )\n",
    "    return df\n",
    "\n",
    "\n",
    "def check_every_team_has_the_same_amount_of_games(df):\n",
    "    years = df[\"Year\"].unique()\n",
    "    for year in years:\n",
    "        table = get_table(df, year)\n",
    "        if np.var(table[[\"Wins\", \"Losses\", \"Ties\"]].sum(axis=1)) > 0.0:\n",
    "            print(f\"For year {year} teams do not have the same amount of games\")"
   ]
  },
  {
   "cell_type": "markdown",
   "metadata": {},
   "source": [
    "## Read in the data"
   ]
  },
  {
   "cell_type": "code",
   "execution_count": 3,
   "metadata": {},
   "outputs": [],
   "source": [
    "df_nba = pd.read_parquet(\"../../data/prepared_data/NBA_data.parquet\")\n",
    "df_mlb = pd.read_parquet(\"../../data/prepared_data/MLB_data.parquet\")\n",
    "df_nfl = pd.read_parquet(\"../../data/prepared_data/NFL_data.parquet\")\n",
    "df_nhl = pd.read_parquet(\"../../data/prepared_data/NHL_data.parquet\")\n",
    "df_mls = pd.read_parquet(\"../../data/prepared_data/MLS_data.parquet\")\n",
    "df_pml = pd.read_parquet(\"../../data/prepared_data/PML_data.parquet\")"
   ]
  },
  {
   "cell_type": "markdown",
   "metadata": {},
   "source": [
    "### Check if every team has the same amount of games in the standings\n",
    "\n",
    "For some years it is expected that teams have a different amount of games."
   ]
  },
  {
   "cell_type": "code",
   "execution_count": 4,
   "metadata": {},
   "outputs": [
    {
     "name": "stdout",
     "output_type": "stream",
     "text": [
      "NBA\n",
      "For year 2012 teams do not have the same amount of games\n",
      "For year 2019 teams do not have the same amount of games\n",
      "MLB\n",
      "For year 2003 teams do not have the same amount of games\n",
      "For year 2004 teams do not have the same amount of games\n",
      "For year 2006 teams do not have the same amount of games\n",
      "For year 2007 teams do not have the same amount of games\n",
      "For year 2008 teams do not have the same amount of games\n",
      "For year 2009 teams do not have the same amount of games\n",
      "For year 2011 teams do not have the same amount of games\n",
      "For year 2013 teams do not have the same amount of games\n",
      "For year 2015 teams do not have the same amount of games\n",
      "For year 2016 teams do not have the same amount of games\n",
      "For year 2018 teams do not have the same amount of games\n",
      "For year 2019 teams do not have the same amount of games\n",
      "For year 2020 teams do not have the same amount of games\n",
      "For year 2021 teams do not have the same amount of games\n",
      "NFL\n",
      "NHL\n",
      "For year 2019 teams do not have the same amount of games\n",
      "MLS\n",
      "For year 2020 teams do not have the same amount of games\n",
      "PML\n"
     ]
    }
   ],
   "source": [
    "###\n",
    "print(\"NBA\")\n",
    "check_every_team_has_the_same_amount_of_games(df_nba)\n",
    "print(\"MLB\")\n",
    "check_every_team_has_the_same_amount_of_games(df_mlb)\n",
    "print(\"NFL\")\n",
    "check_every_team_has_the_same_amount_of_games(df_nfl)\n",
    "print(\"NHL\")\n",
    "check_every_team_has_the_same_amount_of_games(df_nhl)\n",
    "print(\"MLS\")\n",
    "check_every_team_has_the_same_amount_of_games(df_mls)\n",
    "print(\"PML\")\n",
    "check_every_team_has_the_same_amount_of_games(df_pml)"
   ]
  },
  {
   "cell_type": "markdown",
   "metadata": {},
   "source": [
    "### Check schedules for each league"
   ]
  },
  {
   "cell_type": "code",
   "execution_count": 5,
   "metadata": {},
   "outputs": [],
   "source": [
    "file_path = \"prepared_data/schedules/MLB/MLB_schedule_2022.csv\"\n",
    "\n",
    "\n",
    "def list_all_csv_files_in_directory(directory):\n",
    "    return [\n",
    "        os.path.join(directory, file)\n",
    "        for file in os.listdir(directory)\n",
    "        if file.endswith(\".csv\")\n",
    "    ]\n",
    "\n",
    "\n",
    "def check_every_team_has_the_same_amount_of_games_in_schedule(file_path):\n",
    "    df_schedule = pd.read_csv(file_path)\n",
    "    all_teams = (\n",
    "        df_schedule[\"Away\"].values.tolist() + df_schedule[\"Home\"].values.tolist()\n",
    "    )\n",
    "    if np.var(list(Counter(all_teams).values())) == 0.0:\n",
    "        return True\n",
    "    else:\n",
    "        return False\n",
    "\n",
    "\n",
    "def check_all_schedules_in_directory(directory):\n",
    "    files = list_all_csv_files_in_directory(directory)\n",
    "    is_any_schedule_incorrect = False\n",
    "    for file in files:\n",
    "        if not check_every_team_has_the_same_amount_of_games_in_schedule(file):\n",
    "            is_any_schedule_incorrect = True\n",
    "            print(\n",
    "                f\"Schedule {file} does not have the same amount of games for all teams\"\n",
    "            )\n",
    "\n",
    "    if not is_any_schedule_incorrect:\n",
    "        print(\"All schedules are correct\")"
   ]
  },
  {
   "cell_type": "markdown",
   "metadata": {},
   "source": [
    "#### NBA\n"
   ]
  },
  {
   "cell_type": "code",
   "execution_count": 6,
   "metadata": {},
   "outputs": [
    {
     "name": "stdout",
     "output_type": "stream",
     "text": [
      "All schedules are correct\n"
     ]
    }
   ],
   "source": [
    "nba_schedule_directory = \"../../data/prepared_data/schedules/NBA\"\n",
    "check_all_schedules_in_directory(nba_schedule_directory)"
   ]
  },
  {
   "cell_type": "markdown",
   "metadata": {},
   "source": [
    "#### NHL"
   ]
  },
  {
   "cell_type": "code",
   "execution_count": 7,
   "metadata": {},
   "outputs": [
    {
     "name": "stdout",
     "output_type": "stream",
     "text": [
      "All schedules are correct\n"
     ]
    }
   ],
   "source": [
    "nhl_schedule_directory = \"../../data/prepared_data/schedules/NHL\"\n",
    "check_all_schedules_in_directory(nhl_schedule_directory)"
   ]
  },
  {
   "cell_type": "markdown",
   "metadata": {},
   "source": [
    "#### NFL"
   ]
  },
  {
   "cell_type": "code",
   "execution_count": 8,
   "metadata": {},
   "outputs": [
    {
     "name": "stdout",
     "output_type": "stream",
     "text": [
      "All schedules are correct\n"
     ]
    }
   ],
   "source": [
    "nfl_schedule_directory = \"../../data/prepared_data/schedules/NFL\"\n",
    "check_all_schedules_in_directory(nfl_schedule_directory)"
   ]
  },
  {
   "cell_type": "markdown",
   "metadata": {},
   "source": [
    "#### MLB"
   ]
  },
  {
   "cell_type": "code",
   "execution_count": 9,
   "metadata": {},
   "outputs": [
    {
     "name": "stdout",
     "output_type": "stream",
     "text": [
      "All schedules are correct\n"
     ]
    }
   ],
   "source": [
    "mlb_schedule_directory = \"../../data/prepared_data/schedules/MLB\"\n",
    "check_all_schedules_in_directory(mlb_schedule_directory)"
   ]
  },
  {
   "cell_type": "markdown",
   "metadata": {},
   "source": [
    "#### MLS"
   ]
  },
  {
   "cell_type": "code",
   "execution_count": 10,
   "metadata": {},
   "outputs": [
    {
     "name": "stdout",
     "output_type": "stream",
     "text": [
      "Schedule ../../data/prepared_data/schedules/MLS/2001.csv does not have the same amount of games for all teams\n"
     ]
    }
   ],
   "source": [
    "mls_schedule_directory = \"../../data/prepared_data/schedules/MLS\"\n",
    "check_all_schedules_in_directory(mls_schedule_directory)"
   ]
  },
  {
   "cell_type": "markdown",
   "metadata": {},
   "source": [
    "#### PML"
   ]
  },
  {
   "cell_type": "code",
   "execution_count": 11,
   "metadata": {},
   "outputs": [
    {
     "name": "stdout",
     "output_type": "stream",
     "text": [
      "All schedules are correct\n"
     ]
    }
   ],
   "source": [
    "pml_schedule_directory = \"../../data/prepared_data/schedules/20_teams_football_league\"\n",
    "check_all_schedules_in_directory(pml_schedule_directory)"
   ]
  },
  {
   "cell_type": "code",
   "execution_count": null,
   "metadata": {},
   "outputs": [],
   "source": []
  },
  {
   "cell_type": "code",
   "execution_count": null,
   "metadata": {},
   "outputs": [],
   "source": []
  },
  {
   "cell_type": "code",
   "execution_count": null,
   "metadata": {},
   "outputs": [],
   "source": []
  }
 ],
 "metadata": {
  "kernelspec": {
   "display_name": "luckskill",
   "language": "python",
   "name": "python3"
  },
  "language_info": {
   "codemirror_mode": {
    "name": "ipython",
    "version": 3
   },
   "file_extension": ".py",
   "mimetype": "text/x-python",
   "name": "python",
   "nbconvert_exporter": "python",
   "pygments_lexer": "ipython3",
   "version": "3.8.15"
  },
  "orig_nbformat": 4,
  "vscode": {
   "interpreter": {
    "hash": "763636881a6605c83e340874671c6f68b7017ce8e96aa0136cfbfc9341fe809f"
   }
  }
 },
 "nbformat": 4,
 "nbformat_minor": 2
}
