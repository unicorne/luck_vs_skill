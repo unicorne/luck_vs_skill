{
 "cells": [
  {
   "cell_type": "code",
   "execution_count": null,
   "metadata": {},
   "outputs": [],
   "source": []
  }
 ],
 "metadata": {
  "kernelspec": {
   "display_name": "Python 3.10.2 ('dataliteracy')",
   "language": "python",
   "name": "python3"
  },
  "language_info": {
   "name": "python",
   "version": "3.10.2"
  },
  "orig_nbformat": 4,
  "vscode": {
   "interpreter": {
    "hash": "2bc0032a6efffcf026ee51228acf37fbac28b847a6fc9afc8126f22c80bdbb7b"
   }
  }
 },
 "nbformat": 4,
 "nbformat_minor": 2
}
