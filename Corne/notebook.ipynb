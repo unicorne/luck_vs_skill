{
 "cells": [
  {
   "cell_type": "code",
   "execution_count": null,
   "metadata": {},
   "outputs": [],
   "source": [
    "import pandas as pd\n",
    "import numpy as np"
   ]
  },
  {
   "cell_type": "code",
   "execution_count": null,
   "metadata": {},
   "outputs": [],
   "source": [
    "df = pd.read_csv(\"raw_data/NFL_League_Master.csv\")\n",
    "df.head()"
   ]
  },
  {
   "cell_type": "code",
   "execution_count": null,
   "metadata": {},
   "outputs": [],
   "source": [
    "df"
   ]
  },
  {
   "cell_type": "code",
   "execution_count": null,
   "metadata": {},
   "outputs": [],
   "source": [
    "df[\"points\"] = df[\"W\"]+0.5*df[\"T\"]\n",
    "df[\"Conf\"]\n"
   ]
  },
  {
   "cell_type": "code",
   "execution_count": null,
   "metadata": {},
   "outputs": [],
   "source": [
    "df_new = pd.DataFrame(columns=[\"Year\", \"Teams\", \"Wins\", \"Losses\", \"Ties\",\"Points\", \"N\"])\n",
    "\n",
    "grouped = df.groupby('Year')\n",
    "\n",
    "for name, group in grouped:\n",
    "    teams = group['NFL Team'].tolist()\n",
    "    wins = group['W'].tolist()\n",
    "    losses = group['L'].tolist()\n",
    "    ties = group['T'].tolist()\n",
    "    points = group['points'].tolist()\n",
    "    n = wins[0]+losses[0]+ties[0]\n",
    "    df_new = df_new.append({\"Year\": name, \"Teams\": teams, \"Wins\": wins, \"Losses\": losses, \"Ties\": ties,\"Points\":points, \"N\": n}, ignore_index=True)\n",
    "\n"
   ]
  },
  {
   "cell_type": "code",
   "execution_count": null,
   "metadata": {},
   "outputs": [],
   "source": [
    "df_new"
   ]
  },
  {
   "cell_type": "code",
   "execution_count": null,
   "metadata": {},
   "outputs": [],
   "source": [
    "df_new.to_parquet(\"prepared_data/NFL.parquet\", engine=\"pyarrow\")"
   ]
  },
  {
   "cell_type": "code",
   "execution_count": null,
   "metadata": {},
   "outputs": [],
   "source": [
    "df = pd.read_csv(\"raw_data/Team_Records_NBA_until_2017.csv\")"
   ]
  },
  {
   "cell_type": "code",
   "execution_count": null,
   "metadata": {},
   "outputs": [],
   "source": [
    "df[\"Year\"] = df[\"Season\"].apply(lambda x: int(x.split(\"-\")[0]))"
   ]
  },
  {
   "cell_type": "code",
   "execution_count": null,
   "metadata": {},
   "outputs": [],
   "source": [
    "df[\"Points\"] = df[\"W\"]\n",
    "\n"
   ]
  },
  {
   "cell_type": "code",
   "execution_count": null,
   "metadata": {},
   "outputs": [],
   "source": [
    "\n",
    "df[\"Team\"] = df[\"Team\"].apply(lambda x: x.replace(\"*\", \"\"))"
   ]
  },
  {
   "cell_type": "code",
   "execution_count": null,
   "metadata": {},
   "outputs": [],
   "source": [
    "df.head()"
   ]
  },
  {
   "cell_type": "code",
   "execution_count": null,
   "metadata": {},
   "outputs": [],
   "source": [
    "df_new = pd.DataFrame(columns=[\"Year\", \"Teams\", \"Wins\", \"Losses\", \"Ties\",\"Points\", \"N\"])\n",
    "\n",
    "grouped = df.groupby('Year')\n",
    "\n",
    "for name, group in grouped:\n",
    "    teams = group['Team'].tolist()\n",
    "    wins = group['W'].tolist()\n",
    "    losses = group['L'].tolist()\n",
    "    points = group['Points'].tolist()\n",
    "    n = wins[0]+losses[0]+ties[0]\n",
    "    ties = np.zeros(len(wins))\n",
    "    df_new = df_new.append({\"Year\": name, \"Teams\": teams, \"Wins\": wins, \"Losses\": losses, \"Ties\": ties,\"Points\":points, \"N\": n}, ignore_index=True)\n",
    "\n"
   ]
  },
  {
   "cell_type": "code",
   "execution_count": null,
   "metadata": {},
   "outputs": [],
   "source": [
    "df_new.to_parquet(\"prepared_data/NBA.parquet\", engine=\"pyarrow\")"
   ]
  },
  {
   "cell_type": "code",
   "execution_count": null,
   "metadata": {},
   "outputs": [],
   "source": [
    "df_new"
   ]
  },
  {
   "cell_type": "code",
   "execution_count": null,
   "metadata": {},
   "outputs": [],
   "source": [
    "df_new[\"Teams\"].values[0]"
   ]
  },
  {
   "cell_type": "code",
   "execution_count": null,
   "metadata": {},
   "outputs": [],
   "source": [
    "from collections import Counter\n",
    "Counter(df[\"Team\"].values)"
   ]
  },
  {
   "cell_type": "code",
   "execution_count": null,
   "metadata": {},
   "outputs": [],
   "source": [
    "test = pd.read_parquet(\"prepared_data/NFL.parquet\", engine=\"pyarrow\")\n",
    "test"
   ]
  },
  {
   "cell_type": "code",
   "execution_count": null,
   "metadata": {},
   "outputs": [],
   "source": [
    "df = pd.read_csv(\"raw_data/baseballdata.csv\")"
   ]
  },
  {
   "cell_type": "code",
   "execution_count": null,
   "metadata": {},
   "outputs": [],
   "source": [
    "df"
   ]
  },
  {
   "cell_type": "code",
   "execution_count": null,
   "metadata": {},
   "outputs": [],
   "source": [
    "df_new = pd.DataFrame(columns=[\"Year\", \"Teams\", \"Wins\", \"Losses\", \"Ties\",\"Points\", \"N\"])\n",
    "\n",
    "grouped = df.groupby('Year')\n",
    "\n",
    "for name, group in grouped:\n",
    "    teams = group['Tm'].tolist()\n",
    "    wins = group['W'].tolist()\n",
    "    losses = group['L'].tolist()\n",
    "    points = group['Points'].tolist()\n",
    "    ties = group['Ties'].tolist()\n",
    "    n = wins[0]+losses[0]+ties[0]\n",
    "    df_new = df_new.append({\"Year\": name, \"Teams\": teams, \"Wins\": wins, \"Losses\": losses, \"Ties\": ties,\"Points\":points, \"N\": n}, ignore_index=True)\n",
    "\n"
   ]
  },
  {
   "cell_type": "code",
   "execution_count": null,
   "metadata": {},
   "outputs": [],
   "source": [
    "df_new"
   ]
  },
  {
   "cell_type": "code",
   "execution_count": null,
   "metadata": {},
   "outputs": [],
   "source": [
    "df_new.to_parquet(\"prepared_data/MLB.parquet\", engine=\"pyarrow\")"
   ]
  },
  {
   "cell_type": "code",
   "execution_count": null,
   "metadata": {},
   "outputs": [],
   "source": []
  }
 ],
 "metadata": {
  "kernelspec": {
   "display_name": "Python 3.8.15 ('luckskill')",
   "language": "python",
   "name": "python3"
  },
  "language_info": {
   "codemirror_mode": {
    "name": "ipython",
    "version": 3
   },
   "file_extension": ".py",
   "mimetype": "text/x-python",
   "name": "python",
   "nbconvert_exporter": "python",
   "pygments_lexer": "ipython3",
   "version": "3.8.15 | packaged by conda-forge | (default, Nov 22 2022, 08:49:06) \n[Clang 14.0.6 ]"
  },
  "orig_nbformat": 4,
  "vscode": {
   "interpreter": {
    "hash": "763636881a6605c83e340874671c6f68b7017ce8e96aa0136cfbfc9341fe809f"
   }
  }
 },
 "nbformat": 4,
 "nbformat_minor": 2
}
