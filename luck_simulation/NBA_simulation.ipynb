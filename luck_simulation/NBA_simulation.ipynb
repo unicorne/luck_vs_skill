{
 "cells": [
  {
   "cell_type": "code",
   "execution_count": 28,
   "metadata": {},
   "outputs": [],
   "source": [
    "import numpy as np\n",
    "import pandas as pd\n",
    "from collections import Counter"
   ]
  },
  {
   "cell_type": "markdown",
   "metadata": {},
   "source": [
    "# Simulation of NBA regular season games with pure luck"
   ]
  },
  {
   "attachments": {},
   "cell_type": "markdown",
   "metadata": {},
   "source": [
    "### Goal: Simulate NBA regular season\n",
    " \n",
    "#### **League format:**\n",
    " - 82 games per team\n",
    " - 30 teams\n",
    " - 2 conferences\n",
    " - 15 teams per conference\n",
    " - 3 divisions per conference\n",
    " - 5 teams per division\n",
    "\n",
    "#### **Regular Season rules:**\n",
    "\n",
    "From Wikipedia:\n",
    "\n",
    "*During the regular season, each team plays 82 games, 41 each home and away. A team faces opponents in its own division four times a year (16 games). Each team plays six of the teams from the other two divisions in its conference four times (24 games), and the remaining four teams three times (12 games). Finally, each team plays all the teams in the other conference twice apiece (30 games).*\n",
    "\n",
    "#### **Winning condition:**\n",
    "\n",
    "As there are no ties the probability of winning a game is 0.5 for each team.\n",
    "\n",
    "\n"
   ]
  },
  {
   "attachments": {},
   "cell_type": "markdown",
   "metadata": {},
   "source": [
    "### Simulate NBA Seasons"
   ]
  },
  {
   "attachments": {},
   "cell_type": "markdown",
   "metadata": {},
   "source": [
    "Luckily the format of the NBA Season has not changed drastically since 1990. Therefore it is sufficient to take an example schedule (e.g 2016) and use that schedule for simulation. The actual team name does not matter only the result of the regular season is important.\n"
   ]
  },
  {
   "attachments": {},
   "cell_type": "markdown",
   "metadata": {},
   "source": [
    "#### Simulate NBA Seasons 2004-2022\n",
    "\n",
    "Schedule from https://www.basketball-reference.com/leagues/NBA_2016_games.html\n",
    "\n",
    "excludig 2020-2021 season (Covid-19) and Lockout Season 2011-2012."
   ]
  },
  {
   "cell_type": "code",
   "execution_count": 60,
   "metadata": {},
   "outputs": [],
   "source": [
    "# Get an example schedule for the years\n",
    "df = pd.read_csv(\"../prepared_data/schedules/NBA_schedule_2016.csv\")\n",
    "# look only at the regular season (first 1230 = 82*15 games)\n",
    "df = df[:1230]\n",
    "df = df[[\"Visitor/Neutral\", \"Home/Neutral\"]].rename(columns={\"Visitor/Neutral\": \"home\", \"Home/Neutral\": \"away\"})\n"
   ]
  },
  {
   "cell_type": "code",
   "execution_count": 59,
   "metadata": {},
   "outputs": [],
   "source": [
    "def simulate_season(df):\n",
    "    # Assign a winner 50/50\n",
    "    df[\"Winner\"] = np.random.choice([\"home\", \"away\"], size=len(df), p=[0.5, 0.5])\n",
    "    df[\"Winner Team\"] = np.where(df[\"Winner\"] == \"home\", df[\"home\"], df[\"away\"])\n",
    "    counts = Counter(df[\"Winner Team\"])\n",
    "    return counts"
   ]
  },
  {
   "cell_type": "code",
   "execution_count": 66,
   "metadata": {},
   "outputs": [],
   "source": [
    "years_to_simulate = np.arange(2004, 2023)\n",
    "# exclude lockdown season\n",
    "years_to_simulate = np.delete(years_to_simulate, np.where(years_to_simulate == 2020))\n",
    "\n",
    "# exclude lockout season\n",
    "years_to_simulate = np.delete(years_to_simulate, np.where(years_to_simulate == 2011))\n"
   ]
  },
  {
   "cell_type": "code",
   "execution_count": 74,
   "metadata": {},
   "outputs": [],
   "source": [
    "df_nba_simulated = pd.DataFrame(columns=[\"Year\" ,\"Teams\", \"Wins\", \"Losses\", \"Ties\", \"#Games\"])\n",
    "for year in years_to_simulate:\n",
    "    simulation = simulate_season(df)\n",
    "    teams = list(simulation.keys())\n",
    "    wins = list(simulation.values())\n",
    "    losses = [82 - x for x in wins]\n",
    "    ties = [0 for x in wins]\n",
    "    ngames = 82\n",
    "\n",
    "\n",
    "    df_tmp = pd.Series({\"Year\": year, \"Teams\": teams, \"Wins\": wins, \"Losses\": losses, \"Ties\": ties, \"#Games\": ngames}).to_frame().T\n",
    "    df_nba_simulated = pd.concat([df_nba_simulated ,df_tmp])"
   ]
  },
  {
   "cell_type": "code",
   "execution_count": 76,
   "metadata": {},
   "outputs": [],
   "source": [
    "df_nba_simulated.to_parquet(\"../prepared_data/simulations/NBA_simulated.parquet\")"
   ]
  },
  {
   "cell_type": "code",
   "execution_count": null,
   "metadata": {},
   "outputs": [],
   "source": []
  }
 ],
 "metadata": {
  "kernelspec": {
   "display_name": "luckskill",
   "language": "python",
   "name": "luckskill"
  },
  "language_info": {
   "codemirror_mode": {
    "name": "ipython",
    "version": 3
   },
   "file_extension": ".py",
   "mimetype": "text/x-python",
   "name": "python",
   "nbconvert_exporter": "python",
   "pygments_lexer": "ipython3",
   "version": "3.8.15"
  },
  "orig_nbformat": 4,
  "vscode": {
   "interpreter": {
    "hash": "747efc146e86a5912f26e5d6b10798b21cba29e4347effd8c7cc42f26245deaf"
   }
  }
 },
 "nbformat": 4,
 "nbformat_minor": 2
}
