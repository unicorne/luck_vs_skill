{
 "cells": [
  {
   "cell_type": "code",
   "execution_count": 1,
   "metadata": {},
   "outputs": [],
   "source": [
    "import pandas as pd\n",
    "import numpy as np\n",
    "from collections import Counter, OrderedDict"
   ]
  },
  {
   "cell_type": "markdown",
   "metadata": {},
   "source": [
    "# Simulation of NFL regular season games with pure luck"
   ]
  },
  {
   "attachments": {},
   "cell_type": "markdown",
   "metadata": {},
   "source": [
    "### Goal: Simulate NBA regular season\n",
    " \n",
    "#### **League format currently:**\n",
    "\n",
    "From Wikipedia: \n",
    "\n",
    "*Currently, the fourteen different opponents each team faces over the 17-game regular season schedule are set using a pre-determined formula:*\n",
    "\n",
    "*Each team plays twice against each of the other three teams in its division: once at home, and once on the road (six games).\n",
    "Each team plays once against each of the four teams from a predetermined division (based on a three-year rotation) within its own conference: two at home, and two on the road (four games).\n",
    "Each team plays once against one team from the remaining two divisions within its conference that finished in a similar placement in the final divisional standings in the prior season:[a] one at home, one on the road (two games).\n",
    "Each team plays once against each of the four teams from a predetermined division (based on a four-year rotation) in the other conference: two at home, and two on the road (four games).\n",
    "Each team also plays one game against the team from a predetermined division (based on a four-year rotation) in the other conference that finished in a similar placement in the final divisional standings in the prior season[a] (one game). Each team plays six of the teams from the other two divisions in its conference four times (24 games), and the remaining four teams three times (12 games). Finally, each team plays all the teams in the other conference twice apiece (30 games).*\n",
    "\n",
    "#### **Winning condition:**\n",
    "\n",
    "The probabilitie of a tie is very low in the NFL. According to [here](https://www.sports-king.com/odds-nfl-game-tie-2889/#:~:text=Based%20on%20the%20numbers%2C%20there,game%20ends%20in%20a%20tie.&text=The%20lowest%20scoring%20tie%20game,to%20a%207%2D7%20tie.) the probability is just 0.2%.\n",
    "\n",
    "Therefore we assign the probabilities of winning: Team A: 49.9%, Team B: 49.9%, Draw: 0.2%\n"
   ]
  },
  {
   "cell_type": "markdown",
   "metadata": {},
   "source": [
    "## Simulate NFL Seasons"
   ]
  },
  {
   "attachments": {},
   "cell_type": "markdown",
   "metadata": {},
   "source": [
    "### Use scrapped schedules for simulation\n",
    "\n",
    "Scrapped schedules are available in the `prepared_data/schedules` folder. Scrapping happened in `data_preparation/NFL_schedule_scrapper.ipynb`"
   ]
  },
  {
   "cell_type": "code",
   "execution_count": 2,
   "metadata": {},
   "outputs": [],
   "source": [
    "def simulate_season(df):\n",
    "\n",
    "    # get number of games played in the season\n",
    "    ngames = max((Counter(df[\"Home\"])+Counter(df[\"Away\"])).values())\n",
    "\n",
    "    # Assign a winner 0.4999, 0.4999, 0.0002\n",
    "    df[\"Winner\"] = np.random.choice([\"Home\", \"Away\", \"Tie\"], size=len(df), p=[0.4999, 0.4999, 0.0002])\n",
    "    df[\"Winner Team\"] = df.apply(lambda x: x[\"Home\"] if x[\"Winner\"]==\"Home\" else (x[\"Away\"] if x[\"Winner\"]==\"Away\" else \"Tie\"), axis=1)\n",
    "    df[\"Looser Team\"] = df.apply(lambda x: x[\"Home\"] if x[\"Winner\"]==\"Away\" else (x[\"Away\"] if x[\"Winner\"]==\"Home\" else \"Tie\"), axis=1)\n",
    "    return df, ngames"
   ]
  },
  {
   "cell_type": "code",
   "execution_count": 3,
   "metadata": {},
   "outputs": [],
   "source": [
    "df_nfl_simulated = pd.DataFrame(columns=[\"Year\" ,\"Teams\", \"Wins\", \"Losses\", \"Ties\", \"#Games\"])\n",
    "years_to_simulate = np.arange(2002, 2022)\n",
    "\n",
    "\n",
    "for year in years_to_simulate:\n",
    "    # Read schedule for the year\n",
    "    try:\n",
    "        df = pd.read_csv('../prepared_data/schedules/NFL_{}.csv'.format(year))\n",
    "    except:\n",
    "        print(\"No schedule data for year {}\".format(year))\n",
    "        continue\n",
    "\n",
    "    simulation, ngames = simulate_season(df)\n",
    "\n",
    "    win_dict = OrderedDict(sorted(Counter(simulation[\"Winner Team\"]).items()))\n",
    "    lose_dict = OrderedDict(sorted(Counter(simulation[\"Looser Team\"]).items()))\n",
    "\n",
    "    if \"Tie\" in win_dict:\n",
    "        win_dict.pop(\"Tie\")\n",
    "        lose_dict.pop(\"Tie\")\n",
    "\n",
    "\n",
    "    teams = list(win_dict.keys())\n",
    "    wins = list(win_dict.values())\n",
    "    losses = list(lose_dict.values())\n",
    "    ties = [ngames -x -y for x,y in zip(wins,losses)]\n",
    "\n",
    "\n",
    "    df_tmp = pd.Series({\"Year\": year, \"Teams\": teams, \"Wins\": wins, \"Losses\": losses, \"Ties\": ties, \"#Games\": ngames}).to_frame().T\n",
    "    df_nfl_simulated = pd.concat([df_nfl_simulated ,df_tmp])"
   ]
  },
  {
   "cell_type": "code",
   "execution_count": 4,
   "metadata": {},
   "outputs": [],
   "source": [
    "df_nfl_simulated.to_parquet(\"../prepared_data/simulations/NFL_simulated.parquet\")"
   ]
  },
  {
   "cell_type": "code",
   "execution_count": null,
   "metadata": {},
   "outputs": [],
   "source": []
  }
 ],
 "metadata": {
  "kernelspec": {
   "display_name": "luckskill",
   "language": "python",
   "name": "luckskill"
  },
  "language_info": {
   "codemirror_mode": {
    "name": "ipython",
    "version": 3
   },
   "file_extension": ".py",
   "mimetype": "text/x-python",
   "name": "python",
   "nbconvert_exporter": "python",
   "pygments_lexer": "ipython3",
   "version": "3.8.15"
  },
  "orig_nbformat": 4,
  "vscode": {
   "interpreter": {
    "hash": "747efc146e86a5912f26e5d6b10798b21cba29e4347effd8c7cc42f26245deaf"
   }
  }
 },
 "nbformat": 4,
 "nbformat_minor": 2
}
