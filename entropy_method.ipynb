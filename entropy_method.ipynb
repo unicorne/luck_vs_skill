{
 "cells": [
  {
   "cell_type": "code",
   "execution_count": 2,
   "metadata": {},
   "outputs": [],
   "source": [
    "import os\n",
    "import pandas as pd\n",
    "import numpy as np\n",
    "from collections import Counter\n",
    "from scipy.stats import entropy\n",
    "\n",
    "\n",
    "from utils_entropy import calculate_entropy\n",
    "from utils import load_yaml\n",
    "\n",
    "config = load_yaml()\n",
    "\n",
    "results_df = pd.DataFrame(columns=[\"Sport\", \"#Teams\", \"#Games\",\"#Seasons\", \"Entropy Observed\", \"Entropy Luck\"])"
   ]
  },
  {
   "cell_type": "code",
   "execution_count": 3,
   "metadata": {},
   "outputs": [],
   "source": [
    "\n",
    "def append_to_results_df(observed_entropy, luck_entropy, n_years, n_teams, n_games, sport):\n",
    "    \"\"\"\n",
    "    Append the results to the results dataframe.\n",
    "\n",
    "    Parameters\n",
    "    ----------\n",
    "    observed_entropy : float\n",
    "        The observed entropy.\n",
    "    luck_entropy : float\n",
    "        The entropy of the luck simulation.\n",
    "    n_years : int\n",
    "        The number of years used for calculation.\n",
    "    n_teams : int\n",
    "        The number of teams.\n",
    "    sport : str\n",
    "        The name of the sport.\n",
    "\n",
    "    Returns\n",
    "    -------\n",
    "    None.\n",
    "\n",
    "    \"\"\"\n",
    "    global results_df\n",
    "    # concat to results df\n",
    "    tmp_df = pd.DataFrame(\n",
    "        {\n",
    "            \"Sport\": [sport],\n",
    "            \"#Teams\": [n_teams],\n",
    "            \"#Seasons\": [n_years],\n",
    "            \"#Games\": [n_games],\n",
    "            \"Entropy Observed\": [observed_entropy],\n",
    "            \"Entropy Luck\": [luck_entropy],\n",
    "        }\n",
    "    )\n",
    "    results_df = pd.concat([results_df, tmp_df], ignore_index=True)\n",
    "\n",
    "\n",
    "def calculate_entropy_and_append_to_results_df(path_to_prepared_data, sport_name):\n",
    "    \"\"\"\n",
    "    Calculate the entropy of the observed and simulated results of a sport/league and append the results to the results dataframe.\n",
    "\n",
    "    Parameters\n",
    "    ----------\n",
    "    path_to_prepared_data : str\n",
    "        Path to the prepared data.\n",
    "    sport_name : str\n",
    "        The name of the sport.\n",
    "\n",
    "    Returns\n",
    "    -------\n",
    "    None.\n",
    "\n",
    "    \"\"\"\n",
    "    df, observed_entropy, simulated_entropy = calculate_entropy(path_to_prepared_data, sport_name)\n",
    "    n_teams = df[\"#Teams\"].mean()\n",
    "    n_games = df[\"#Games\"].mean()\n",
    "    n_years = len(df)\n",
    "    append_to_results_df(observed_entropy, simulated_entropy, n_years, n_teams, n_games, sport_name)\n",
    "\n",
    "\n",
    "\n",
    "    "
   ]
  },
  {
   "attachments": {},
   "cell_type": "markdown",
   "metadata": {},
   "source": [
    "# Calculate observed and simulated Entropy"
   ]
  },
  {
   "cell_type": "code",
   "execution_count": 4,
   "metadata": {},
   "outputs": [
    {
     "name": "stdout",
     "output_type": "stream",
     "text": [
      "################################################################################\n",
      "Sport:  NBA\n"
     ]
    },
    {
     "ename": "KeyError",
     "evalue": "'results_path'",
     "output_type": "error",
     "traceback": [
      "\u001b[0;31m---------------------------------------------------------------------------\u001b[0m",
      "\u001b[0;31mKeyError\u001b[0m                                  Traceback (most recent call last)",
      "Cell \u001b[0;32mIn[4], line 5\u001b[0m\n\u001b[1;32m      3\u001b[0m \u001b[39mprint\u001b[39m(\u001b[39m\"\u001b[39m\u001b[39m#\u001b[39m\u001b[39m\"\u001b[39m \u001b[39m*\u001b[39m \u001b[39m80\u001b[39m)\n\u001b[1;32m      4\u001b[0m \u001b[39mprint\u001b[39m(\u001b[39m\"\u001b[39m\u001b[39mSport: \u001b[39m\u001b[39m\"\u001b[39m, sport)\n\u001b[0;32m----> 5\u001b[0m calculate_entropy_and_append_to_results_df(config[sport][\u001b[39m\"\u001b[39;49m\u001b[39mresults_path\u001b[39;49m\u001b[39m\"\u001b[39;49m], sport)\n",
      "\u001b[0;31mKeyError\u001b[0m: 'results_path'"
     ]
    }
   ],
   "source": [
    "sport_list = [x for x in config.keys() if \"General\" not in x]\n",
    "for sport in sport_list:\n",
    "    print(\"#\" * 80)\n",
    "    print(\"Sport: \", sport)\n",
    "    calculate_entropy_and_append_to_results_df(config[sport][\"results_path\"], sport)"
   ]
  },
  {
   "cell_type": "code",
   "execution_count": null,
   "metadata": {},
   "outputs": [
    {
     "data": {
      "text/plain": [
       "['NBA',\n",
       " 'NFL',\n",
       " 'NHL',\n",
       " 'MLS',\n",
       " 'MLB',\n",
       " 'PML',\n",
       " 'LaLiga',\n",
       " 'Bundesliga',\n",
       " 'Ligue1',\n",
       " 'SerieA']"
      ]
     },
     "execution_count": 19,
     "metadata": {},
     "output_type": "execute_result"
    }
   ],
   "source": [
    "results_df"
   ]
  },
  {
   "cell_type": "code",
   "execution_count": null,
   "metadata": {},
   "outputs": [],
   "source": []
  }
 ],
 "metadata": {
  "kernelspec": {
   "display_name": "luckskill",
   "language": "python",
   "name": "python3"
  },
  "language_info": {
   "codemirror_mode": {
    "name": "ipython",
    "version": 3
   },
   "file_extension": ".py",
   "mimetype": "text/x-python",
   "name": "python",
   "nbconvert_exporter": "python",
   "pygments_lexer": "ipython3",
   "version": "3.8.15"
  },
  "orig_nbformat": 4,
  "vscode": {
   "interpreter": {
    "hash": "763636881a6605c83e340874671c6f68b7017ce8e96aa0136cfbfc9341fe809f"
   }
  }
 },
 "nbformat": 4,
 "nbformat_minor": 2
}
