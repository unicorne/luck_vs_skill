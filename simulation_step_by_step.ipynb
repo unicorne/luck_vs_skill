{
    "cells": [
        {
            "cell_type": "code",
            "execution_count": 2,
            "metadata": {},
            "outputs": [],
            "source": [
                "import pandas as pd\n",
                "import numpy as np\n",
                "from collections import Counter\n",
                "from sklearn.preprocessing import MinMaxScaler\n",
                "import matplotlib.pyplot as plt\n",
                "from visualization_utils import plot_points_as_histogramm\n"
            ]
        },
        {
            "attachments": {},
            "cell_type": "markdown",
            "metadata": {},
            "source": [
                "# Simulation of NFL Season 2015\n",
                "\n",
                "As an example we simulate the NFL season 2015 with the schedule of that season"
            ]
        },
        {
            "attachments": {},
            "cell_type": "markdown",
            "metadata": {},
            "source": [
                "### Load schedule\n",
                "\n",
                "Here we have the 2015 schedule of the NFL season containing all games that were played.\n",
                "We want to simulate each game and assign a winner or a tie."
            ]
        },
        {
            "cell_type": "code",
            "execution_count": 3,
            "metadata": {},
            "outputs": [
                {
                    "data": {
                        "text/html": [
                            "<div>\n",
                            "<style scoped>\n",
                            "    .dataframe tbody tr th:only-of-type {\n",
                            "        vertical-align: middle;\n",
                            "    }\n",
                            "\n",
                            "    .dataframe tbody tr th {\n",
                            "        vertical-align: top;\n",
                            "    }\n",
                            "\n",
                            "    .dataframe thead th {\n",
                            "        text-align: right;\n",
                            "    }\n",
                            "</style>\n",
                            "<table border=\"1\" class=\"dataframe\">\n",
                            "  <thead>\n",
                            "    <tr style=\"text-align: right;\">\n",
                            "      <th></th>\n",
                            "      <th>Home</th>\n",
                            "      <th>Away</th>\n",
                            "    </tr>\n",
                            "  </thead>\n",
                            "  <tbody>\n",
                            "    <tr>\n",
                            "      <th>0</th>\n",
                            "      <td>ARI</td>\n",
                            "      <td>NO</td>\n",
                            "    </tr>\n",
                            "    <tr>\n",
                            "      <th>1</th>\n",
                            "      <td>ATL</td>\n",
                            "      <td>PHI</td>\n",
                            "    </tr>\n",
                            "    <tr>\n",
                            "      <th>2</th>\n",
                            "      <td>BUF</td>\n",
                            "      <td>IND</td>\n",
                            "    </tr>\n",
                            "    <tr>\n",
                            "      <th>3</th>\n",
                            "      <td>CHI</td>\n",
                            "      <td>GB</td>\n",
                            "    </tr>\n",
                            "    <tr>\n",
                            "      <th>4</th>\n",
                            "      <td>DAL</td>\n",
                            "      <td>NYG</td>\n",
                            "    </tr>\n",
                            "  </tbody>\n",
                            "</table>\n",
                            "</div>"
                        ],
                        "text/plain": [
                            "  Home Away\n",
                            "0  ARI   NO\n",
                            "1  ATL  PHI\n",
                            "2  BUF  IND\n",
                            "3  CHI   GB\n",
                            "4  DAL  NYG"
                        ]
                    },
                    "execution_count": 3,
                    "metadata": {},
                    "output_type": "execute_result"
                }
            ],
            "source": [
                "nfl_schedule_2015 = pd.read_csv(\"prepared_data/schedules/NFL/2015.csv\")\n",
                "nfl_schedule_2015.head()"
            ]
        },
        {
            "attachments": {},
            "cell_type": "markdown",
            "metadata": {},
            "source": [
                "### Assign a winner to each game\n",
                "\n",
                "In this case the probabilities for winning, losing and a tie are [0.4999, 0.4999, 0.0002]"
            ]
        },
        {
            "cell_type": "code",
            "execution_count": 6,
            "metadata": {},
            "outputs": [
                {
                    "data": {
                        "text/html": [
                            "<div>\n",
                            "<style scoped>\n",
                            "    .dataframe tbody tr th:only-of-type {\n",
                            "        vertical-align: middle;\n",
                            "    }\n",
                            "\n",
                            "    .dataframe tbody tr th {\n",
                            "        vertical-align: top;\n",
                            "    }\n",
                            "\n",
                            "    .dataframe thead th {\n",
                            "        text-align: right;\n",
                            "    }\n",
                            "</style>\n",
                            "<table border=\"1\" class=\"dataframe\">\n",
                            "  <thead>\n",
                            "    <tr style=\"text-align: right;\">\n",
                            "      <th></th>\n",
                            "      <th>Home</th>\n",
                            "      <th>Away</th>\n",
                            "      <th>Winner</th>\n",
                            "      <th>Outcome</th>\n",
                            "    </tr>\n",
                            "  </thead>\n",
                            "  <tbody>\n",
                            "    <tr>\n",
                            "      <th>0</th>\n",
                            "      <td>ARI</td>\n",
                            "      <td>NO</td>\n",
                            "      <td>Away</td>\n",
                            "      <td>NO</td>\n",
                            "    </tr>\n",
                            "    <tr>\n",
                            "      <th>1</th>\n",
                            "      <td>ATL</td>\n",
                            "      <td>PHI</td>\n",
                            "      <td>Home</td>\n",
                            "      <td>ATL</td>\n",
                            "    </tr>\n",
                            "    <tr>\n",
                            "      <th>2</th>\n",
                            "      <td>BUF</td>\n",
                            "      <td>IND</td>\n",
                            "      <td>Home</td>\n",
                            "      <td>BUF</td>\n",
                            "    </tr>\n",
                            "    <tr>\n",
                            "      <th>3</th>\n",
                            "      <td>CHI</td>\n",
                            "      <td>GB</td>\n",
                            "      <td>Home</td>\n",
                            "      <td>CHI</td>\n",
                            "    </tr>\n",
                            "    <tr>\n",
                            "      <th>4</th>\n",
                            "      <td>DAL</td>\n",
                            "      <td>NYG</td>\n",
                            "      <td>Away</td>\n",
                            "      <td>NYG</td>\n",
                            "    </tr>\n",
                            "  </tbody>\n",
                            "</table>\n",
                            "</div>"
                        ],
                        "text/plain": [
                            "  Home Away Winner Outcome\n",
                            "0  ARI   NO   Away      NO\n",
                            "1  ATL  PHI   Home     ATL\n",
                            "2  BUF  IND   Home     BUF\n",
                            "3  CHI   GB   Home     CHI\n",
                            "4  DAL  NYG   Away     NYG"
                        ]
                    },
                    "execution_count": 6,
                    "metadata": {},
                    "output_type": "execute_result"
                }
            ],
            "source": [
                "nfl_schedule_2015[\"Winner\"] = np.random.choice([\"Home\", \"Away\", \"Tie\"], size=len(nfl_schedule_2015), p=[0.4999, 0.4999, 0.0002])\n",
                "nfl_schedule_2015[\"Outcome\"] = nfl_schedule_2015.apply(lambda x: x[\"Home\"] if x[\"Winner\"]==\"Home\" else (x[\"Away\"] if x[\"Winner\"]==\"Away\" else \"Tie\"), axis=1)\n",
                "nfl_schedule_2015.head()"
            ]
        },
        {
            "cell_type": "code",
            "execution_count": 7,
            "metadata": {},
            "outputs": [],
            "source": [
                "# Count the number of wins per team\n",
                "win_counter = Counter(nfl_schedule_2015[\"Outcome\"])\n",
                "\n",
                "# As ties are unlikely to happen, it is possible that no ties occurred in the simulation\n",
                "if \"Tie\" in win_counter:\n",
                "    print(\"Tie\")\n",
                "    win_counter.pop(\"Tie\")\n",
                "\n",
                "# count the number of ties per team\n",
                "tie_df = nfl_schedule_2015[nfl_schedule_2015[\"Outcome\"]==\"Tie\"]\n",
                "tie_list = list(tie_df[\"Home\"].values) + list(tie_df[\"Away\"].values) \n",
                "tie_counter = Counter(tie_list)\n",
                "\n",
                "# count the number of losses per team by subtracting the number of wins and ties from the number of games played for each team\n",
                "loss_counter = Counter(nfl_schedule_2015[\"Home\"].values) + Counter(nfl_schedule_2015[\"Away\"].values) - win_counter - tie_counter"
            ]
        },
        {
            "attachments": {},
            "cell_type": "markdown",
            "metadata": {},
            "source": [
                "### Visualize simulation results\n",
                "\n",
                "To get the final table we need to calculate the overall points\n",
                "\n",
                "$$ Points = Wins + 0.5*Ties $$"
            ]
        },
        {
            "cell_type": "code",
            "execution_count": 8,
            "metadata": {},
            "outputs": [],
            "source": [
                "simulated_results_2015 = pd.DataFrame([win_counter, loss_counter, tie_counter], index=[\"Wins\", \"Loses\", \"Ties\"]).T\n",
                "# Replace NaN with 0 to avoid errors\n",
                "simulated_results_2015.replace(np.nan, 0, inplace=True)\n",
                "simulated_results_2015[\"Points\"] = simulated_results_2015[\"Wins\"] + 0.5*simulated_results_2015[\"Ties\"]"
            ]
        },
        {
            "cell_type": "markdown",
            "metadata": {},
            "source": [
                "#### Final table of simulated results"
            ]
        },
        {
            "cell_type": "code",
            "execution_count": 9,
            "metadata": {},
            "outputs": [
                {
                    "data": {
                        "text/html": [
                            "<div>\n",
                            "<style scoped>\n",
                            "    .dataframe tbody tr th:only-of-type {\n",
                            "        vertical-align: middle;\n",
                            "    }\n",
                            "\n",
                            "    .dataframe tbody tr th {\n",
                            "        vertical-align: top;\n",
                            "    }\n",
                            "\n",
                            "    .dataframe thead th {\n",
                            "        text-align: right;\n",
                            "    }\n",
                            "</style>\n",
                            "<table border=\"1\" class=\"dataframe\">\n",
                            "  <thead>\n",
                            "    <tr style=\"text-align: right;\">\n",
                            "      <th></th>\n",
                            "      <th>Wins</th>\n",
                            "      <th>Loses</th>\n",
                            "      <th>Ties</th>\n",
                            "      <th>Points</th>\n",
                            "    </tr>\n",
                            "  </thead>\n",
                            "  <tbody>\n",
                            "    <tr>\n",
                            "      <th>HOU</th>\n",
                            "      <td>12.0</td>\n",
                            "      <td>4.0</td>\n",
                            "      <td>0.0</td>\n",
                            "      <td>12.0</td>\n",
                            "    </tr>\n",
                            "    <tr>\n",
                            "      <th>LAC</th>\n",
                            "      <td>11.0</td>\n",
                            "      <td>5.0</td>\n",
                            "      <td>0.0</td>\n",
                            "      <td>11.0</td>\n",
                            "    </tr>\n",
                            "    <tr>\n",
                            "      <th>BUF</th>\n",
                            "      <td>11.0</td>\n",
                            "      <td>5.0</td>\n",
                            "      <td>0.0</td>\n",
                            "      <td>11.0</td>\n",
                            "    </tr>\n",
                            "    <tr>\n",
                            "      <th>TB</th>\n",
                            "      <td>11.0</td>\n",
                            "      <td>5.0</td>\n",
                            "      <td>0.0</td>\n",
                            "      <td>11.0</td>\n",
                            "    </tr>\n",
                            "    <tr>\n",
                            "      <th>SF</th>\n",
                            "      <td>11.0</td>\n",
                            "      <td>5.0</td>\n",
                            "      <td>0.0</td>\n",
                            "      <td>11.0</td>\n",
                            "    </tr>\n",
                            "    <tr>\n",
                            "      <th>MIN</th>\n",
                            "      <td>10.0</td>\n",
                            "      <td>6.0</td>\n",
                            "      <td>0.0</td>\n",
                            "      <td>10.0</td>\n",
                            "    </tr>\n",
                            "    <tr>\n",
                            "      <th>MIA</th>\n",
                            "      <td>10.0</td>\n",
                            "      <td>6.0</td>\n",
                            "      <td>0.0</td>\n",
                            "      <td>10.0</td>\n",
                            "    </tr>\n",
                            "    <tr>\n",
                            "      <th>LV</th>\n",
                            "      <td>10.0</td>\n",
                            "      <td>6.0</td>\n",
                            "      <td>0.0</td>\n",
                            "      <td>10.0</td>\n",
                            "    </tr>\n",
                            "    <tr>\n",
                            "      <th>TEN</th>\n",
                            "      <td>9.0</td>\n",
                            "      <td>7.0</td>\n",
                            "      <td>0.0</td>\n",
                            "      <td>9.0</td>\n",
                            "    </tr>\n",
                            "    <tr>\n",
                            "      <th>NE</th>\n",
                            "      <td>9.0</td>\n",
                            "      <td>7.0</td>\n",
                            "      <td>0.0</td>\n",
                            "      <td>9.0</td>\n",
                            "    </tr>\n",
                            "    <tr>\n",
                            "      <th>CLE</th>\n",
                            "      <td>9.0</td>\n",
                            "      <td>7.0</td>\n",
                            "      <td>0.0</td>\n",
                            "      <td>9.0</td>\n",
                            "    </tr>\n",
                            "    <tr>\n",
                            "      <th>CAR</th>\n",
                            "      <td>9.0</td>\n",
                            "      <td>7.0</td>\n",
                            "      <td>0.0</td>\n",
                            "      <td>9.0</td>\n",
                            "    </tr>\n",
                            "    <tr>\n",
                            "      <th>KC</th>\n",
                            "      <td>9.0</td>\n",
                            "      <td>7.0</td>\n",
                            "      <td>0.0</td>\n",
                            "      <td>9.0</td>\n",
                            "    </tr>\n",
                            "    <tr>\n",
                            "      <th>SEA</th>\n",
                            "      <td>8.0</td>\n",
                            "      <td>8.0</td>\n",
                            "      <td>0.0</td>\n",
                            "      <td>8.0</td>\n",
                            "    </tr>\n",
                            "    <tr>\n",
                            "      <th>LAR</th>\n",
                            "      <td>8.0</td>\n",
                            "      <td>8.0</td>\n",
                            "      <td>0.0</td>\n",
                            "      <td>8.0</td>\n",
                            "    </tr>\n",
                            "    <tr>\n",
                            "      <th>DEN</th>\n",
                            "      <td>8.0</td>\n",
                            "      <td>8.0</td>\n",
                            "      <td>0.0</td>\n",
                            "      <td>8.0</td>\n",
                            "    </tr>\n",
                            "    <tr>\n",
                            "      <th>CHI</th>\n",
                            "      <td>8.0</td>\n",
                            "      <td>8.0</td>\n",
                            "      <td>0.0</td>\n",
                            "      <td>8.0</td>\n",
                            "    </tr>\n",
                            "    <tr>\n",
                            "      <th>NO</th>\n",
                            "      <td>8.0</td>\n",
                            "      <td>8.0</td>\n",
                            "      <td>0.0</td>\n",
                            "      <td>8.0</td>\n",
                            "    </tr>\n",
                            "    <tr>\n",
                            "      <th>WSH</th>\n",
                            "      <td>7.0</td>\n",
                            "      <td>9.0</td>\n",
                            "      <td>0.0</td>\n",
                            "      <td>7.0</td>\n",
                            "    </tr>\n",
                            "    <tr>\n",
                            "      <th>PHI</th>\n",
                            "      <td>7.0</td>\n",
                            "      <td>9.0</td>\n",
                            "      <td>0.0</td>\n",
                            "      <td>7.0</td>\n",
                            "    </tr>\n",
                            "    <tr>\n",
                            "      <th>CIN</th>\n",
                            "      <td>7.0</td>\n",
                            "      <td>9.0</td>\n",
                            "      <td>0.0</td>\n",
                            "      <td>7.0</td>\n",
                            "    </tr>\n",
                            "    <tr>\n",
                            "      <th>DET</th>\n",
                            "      <td>7.0</td>\n",
                            "      <td>9.0</td>\n",
                            "      <td>0.0</td>\n",
                            "      <td>7.0</td>\n",
                            "    </tr>\n",
                            "    <tr>\n",
                            "      <th>JAX</th>\n",
                            "      <td>7.0</td>\n",
                            "      <td>9.0</td>\n",
                            "      <td>0.0</td>\n",
                            "      <td>7.0</td>\n",
                            "    </tr>\n",
                            "    <tr>\n",
                            "      <th>PIT</th>\n",
                            "      <td>6.0</td>\n",
                            "      <td>10.0</td>\n",
                            "      <td>0.0</td>\n",
                            "      <td>6.0</td>\n",
                            "    </tr>\n",
                            "    <tr>\n",
                            "      <th>GB</th>\n",
                            "      <td>6.0</td>\n",
                            "      <td>10.0</td>\n",
                            "      <td>0.0</td>\n",
                            "      <td>6.0</td>\n",
                            "    </tr>\n",
                            "    <tr>\n",
                            "      <th>DAL</th>\n",
                            "      <td>6.0</td>\n",
                            "      <td>10.0</td>\n",
                            "      <td>0.0</td>\n",
                            "      <td>6.0</td>\n",
                            "    </tr>\n",
                            "    <tr>\n",
                            "      <th>BAL</th>\n",
                            "      <td>6.0</td>\n",
                            "      <td>10.0</td>\n",
                            "      <td>0.0</td>\n",
                            "      <td>6.0</td>\n",
                            "    </tr>\n",
                            "    <tr>\n",
                            "      <th>NYJ</th>\n",
                            "      <td>6.0</td>\n",
                            "      <td>10.0</td>\n",
                            "      <td>0.0</td>\n",
                            "      <td>6.0</td>\n",
                            "    </tr>\n",
                            "    <tr>\n",
                            "      <th>ATL</th>\n",
                            "      <td>6.0</td>\n",
                            "      <td>10.0</td>\n",
                            "      <td>0.0</td>\n",
                            "      <td>6.0</td>\n",
                            "    </tr>\n",
                            "    <tr>\n",
                            "      <th>NYG</th>\n",
                            "      <td>5.0</td>\n",
                            "      <td>11.0</td>\n",
                            "      <td>0.0</td>\n",
                            "      <td>5.0</td>\n",
                            "    </tr>\n",
                            "    <tr>\n",
                            "      <th>ARI</th>\n",
                            "      <td>5.0</td>\n",
                            "      <td>11.0</td>\n",
                            "      <td>0.0</td>\n",
                            "      <td>5.0</td>\n",
                            "    </tr>\n",
                            "    <tr>\n",
                            "      <th>IND</th>\n",
                            "      <td>4.0</td>\n",
                            "      <td>12.0</td>\n",
                            "      <td>0.0</td>\n",
                            "      <td>4.0</td>\n",
                            "    </tr>\n",
                            "  </tbody>\n",
                            "</table>\n",
                            "</div>"
                        ],
                        "text/plain": [
                            "     Wins  Loses  Ties  Points\n",
                            "HOU  12.0    4.0   0.0    12.0\n",
                            "LAC  11.0    5.0   0.0    11.0\n",
                            "BUF  11.0    5.0   0.0    11.0\n",
                            "TB   11.0    5.0   0.0    11.0\n",
                            "SF   11.0    5.0   0.0    11.0\n",
                            "MIN  10.0    6.0   0.0    10.0\n",
                            "MIA  10.0    6.0   0.0    10.0\n",
                            "LV   10.0    6.0   0.0    10.0\n",
                            "TEN   9.0    7.0   0.0     9.0\n",
                            "NE    9.0    7.0   0.0     9.0\n",
                            "CLE   9.0    7.0   0.0     9.0\n",
                            "CAR   9.0    7.0   0.0     9.0\n",
                            "KC    9.0    7.0   0.0     9.0\n",
                            "SEA   8.0    8.0   0.0     8.0\n",
                            "LAR   8.0    8.0   0.0     8.0\n",
                            "DEN   8.0    8.0   0.0     8.0\n",
                            "CHI   8.0    8.0   0.0     8.0\n",
                            "NO    8.0    8.0   0.0     8.0\n",
                            "WSH   7.0    9.0   0.0     7.0\n",
                            "PHI   7.0    9.0   0.0     7.0\n",
                            "CIN   7.0    9.0   0.0     7.0\n",
                            "DET   7.0    9.0   0.0     7.0\n",
                            "JAX   7.0    9.0   0.0     7.0\n",
                            "PIT   6.0   10.0   0.0     6.0\n",
                            "GB    6.0   10.0   0.0     6.0\n",
                            "DAL   6.0   10.0   0.0     6.0\n",
                            "BAL   6.0   10.0   0.0     6.0\n",
                            "NYJ   6.0   10.0   0.0     6.0\n",
                            "ATL   6.0   10.0   0.0     6.0\n",
                            "NYG   5.0   11.0   0.0     5.0\n",
                            "ARI   5.0   11.0   0.0     5.0\n",
                            "IND   4.0   12.0   0.0     4.0"
                        ]
                    },
                    "execution_count": 9,
                    "metadata": {},
                    "output_type": "execute_result"
                }
            ],
            "source": [
                "points = simulated_results_2015[\"Points\"].values\n",
                "simulated_results_2015.sort_values(by=\"Points\", ascending=False)"
            ]
        },
        {
            "cell_type": "code",
            "execution_count": null,
            "metadata": {},
            "outputs": [
                {
                    "data": {
                        "image/png": "[encoded data removed]",
                        "text/plain": [
                            "<Figure size 500x300 with 1 Axes>"
                        ]
                    },
                    "metadata": {},
                    "output_type": "display_data"
                }
            ],
            "source": [
                "plot_points_as_histogramm(points, \"Points distribution of simulated 2015 NFL season\", stepsize=2, figsize=(5,3))"
            ]
        },
        {
            "attachments": {},
            "cell_type": "markdown",
            "metadata": {},
            "source": [
                "### Calculate variance of the points\n",
                "\n",
                "We calculate the sample variance of the final results (points). In order to make that value comparable across sports we min max scale the point vector first so the number of points per win and tie a team gets is irrelevant."
            ]
        },
        {
            "cell_type": "code",
            "execution_count": null,
            "metadata": {},
            "outputs": [
                {
                    "name": "stdout",
                    "output_type": "stream",
                    "text": [
                        "Variance: 0.067626953125\n"
                    ]
                }
            ],
            "source": [
                "points_scaled = MinMaxScaler().fit_transform(points.reshape(-1, 1))\n",
                "variance = np.var(points_scaled)\n",
                "print(f\"Variance: {variance}\")"
            ]
        },
        {
            "cell_type": "markdown",
            "metadata": {},
            "source": [
                "### Simulate results for 1000 seasons"
            ]
        },
        {
            "cell_type": "code",
            "execution_count": null,
            "metadata": {},
            "outputs": [],
            "source": [
                "from simulation_utils import simulate_league\n",
                "sim_1000 = [simulate_league(nfl_schedule_2015, probabilities_win_loss_tie = [0.4999, 0.4999, 0.0002], points_for_win_loss_tie = [1,0,0.5], return_table=False, min_max_scaling=False) for i in range(1000)]"
            ]
        },
        {
            "cell_type": "markdown",
            "metadata": {},
            "source": [
                "#### Plot some simulations"
            ]
        },
        {
            "cell_type": "code",
            "execution_count": null,
            "metadata": {},
            "outputs": [
                {
                    "data": {
                        "image/png": "[encoded data removed]",
                        "text/plain": [
                            "<Figure size 300x300 with 1 Axes>"
                        ]
                    },
                    "metadata": {},
                    "output_type": "display_data"
                },
                {
                    "data": {
                        "image/png": "[encoded data removed]",
                        "text/plain": [
                            "<Figure size 300x300 with 1 Axes>"
                        ]
                    },
                    "metadata": {},
                    "output_type": "display_data"
                },
                {
                    "data": {
                        "image/png": "[encoded data removed]",
                        "text/plain": [
                            "<Figure size 300x300 with 1 Axes>"
                        ]
                    },
                    "metadata": {},
                    "output_type": "display_data"
                },
                {
                    "data": {
                        "image/png": "[encoded data removed]",
                        "text/plain": [
                            "<Figure size 300x300 with 1 Axes>"
                        ]
                    },
                    "metadata": {},
                    "output_type": "display_data"
                },
                {
                    "data": {
                        "image/png": "[encoded data removed]",
                        "text/plain": [
                            "<Figure size 300x300 with 1 Axes>"
                        ]
                    },
                    "metadata": {},
                    "output_type": "display_data"
                }
            ],
            "source": [
                "for sim in sim_1000[:5]:\n",
                "    plot_points_as_histogramm(sim, \"Points distribution of simulated 2015 NFL season\", stepsize=2, figsize=(3,3))"
            ]
        },
        {
            "cell_type": "markdown",
            "metadata": {},
            "source": [
                "#### Calculate the average variance over the simulated season"
            ]
        },
        {
            "cell_type": "code",
            "execution_count": null,
            "metadata": {},
            "outputs": [
                {
                    "name": "stdout",
                    "output_type": "stream",
                    "text": [
                        "Mean variance: 0.06018163863703505\n"
                    ]
                }
            ],
            "source": [
                "sim_1000_scaled = [MinMaxScaler().fit_transform(sim.reshape(-1, 1)) for sim in sim_1000]\n",
                "mean_var = np.mean([np.var(sim) for sim in sim_1000_scaled])\n",
                "\n",
                "print(f\"Mean variance: {mean_var}\")"
            ]
        },
        {
            "cell_type": "code",
            "execution_count": null,
            "metadata": {},
            "outputs": [],
            "source": [
                "from simulation_utils import simulate_league_multiple_times, calculate_variance_of_simulated_leagues"
            ]
        },
        {
            "cell_type": "code",
            "execution_count": null,
            "metadata": {},
            "outputs": [],
            "source": [
                "sims_1000 = simulate_league_multiple_times(nfl_schedule_2015, probabilities_win_loss_tie = [0.4999, 0.4999, 0.0002], points_for_win_loss_tie = [1,0,0.5], return_table=False, min_max_scaling=True, n=1000)"
            ]
        },
        {
            "cell_type": "code",
            "execution_count": null,
            "metadata": {},
            "outputs": [
                {
                    "data": {
                        "text/plain": [
                            "0.060523325648730204"
                        ]
                    },
                    "execution_count": 16,
                    "metadata": {},
                    "output_type": "execute_result"
                }
            ],
            "source": [
                "calculate_variance_of_simulated_leagues(sims_1000)"
            ]
        },
        {
            "cell_type": "code",
            "execution_count": null,
            "metadata": {},
            "outputs": [],
            "source": []
        }
    ],
    "metadata": {
        "kernelspec": {
            "display_name": "luckskill",
            "language": "python",
            "name": "python3"
        },
        "language_info": {
            "codemirror_mode": {
                "name": "ipython",
                "version": 3
            },
            "file_extension": ".py",
            "mimetype": "text/x-python",
            "name": "python",
            "nbconvert_exporter": "python",
            "pygments_lexer": "ipython3",
            "version": "3.8.15"
        },
        "orig_nbformat": 4,
        "vscode": {
            "interpreter": {
                "hash": "ad85a60e12f1042fdce4a1c6f47534a445d4f508efc6ac06c16784279ba25686"
            }
        }
    },
    "nbformat": 4,
    "nbformat_minor": 2
}
