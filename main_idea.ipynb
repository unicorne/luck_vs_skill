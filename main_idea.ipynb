{
    "cells": [
        {
            "cell_type": "code",
            "execution_count": 6,
            "metadata": {},
            "outputs": [],
            "source": [
                "import pandas as pd\n",
                "import numpy as np\n",
                "import matplotlib.pyplot as plt\n",
                "\n",
                "import warnings\n",
                "warnings.filterwarnings('ignore')"
            ]
        },
        {
            "cell_type": "markdown",
            "metadata": {},
            "source": [
                "# Functions"
            ]
        },
        {
            "cell_type": "code",
            "execution_count": 106,
            "metadata": {},
            "outputs": [],
            "source": [
                "def make_luck_skill_continuum():\n",
                "\n",
                "    # Set the figure size\n",
                "    plt.figure(figsize=(12,6))\n",
                "\n",
                "    # Set the range of the x-axis\n",
                "    plt.xlim(0, 100)\n",
                "\n",
                "    # Set the range of the y-axis\n",
                "    plt.ylim(0, 1)\n",
                "    plt.hlines(0.5, 0, 100, linestyles='dashed', colors='grey')\n",
                "\n",
                "    plt.text(1, 0.52, \"Luck\", fontsize=20, color='red')\n",
                "    plt.text(93, 0.52, \"Skill\", fontsize=20, color='red')\n",
                "\n",
                "    # Add texts at the specified locations\n",
                "    plt.text(25, 0.52, \"Soccer?\")\n",
                "    plt.text(50, 0.52, \"Esports?\")\n",
                "    plt.text(75, 0.52, \"Basketball?\")\n",
                "    plt.text(85, 0.52, \"Chess?\")\n",
                "    plt.text(60, 0.52, \"Climbing?\")\n",
                "\n",
                "    plt.vlines(25, 0.48, 0.52, linestyles='dashed', colors='blue')\n",
                "    plt.vlines(50, 0.48, 0.52, linestyles='dashed', colors='blue')\n",
                "    plt.vlines(75, 0.48, 0.52, linestyles='dashed', colors='blue')\n",
                "    plt.vlines(85, 0.48, 0.52, linestyles='dashed', colors='blue')\n",
                "    plt.vlines(60, 0.48, 0.52, linestyles='dashed', colors='blue')\n",
                "\n",
                "    plt.text(25,0.85, \"Luck and Skill Continuum\", fontsize=30, color='red')\n",
                "\n",
                "    # Show the plot\n",
                "    plt.show()\n",
                "\n",
                "\n",
                "def make_comparison_plot():\n",
                "    fig, ax = plt.subplots(1,2,figsize=(12,6))\n",
                "\n",
                "    ax[0].hist(nba_points[-2],bins=np.arange(0,60,2))\n",
                "    ax[0].set_title(\"NBA Season 2015\")\n",
                "    ax[0].set_xlabel(\"#Wins\")\n",
                "    ax[0].set_ylabel(\"#Teams\")\n",
                "    ax[0].set_ylim(0,10)\n",
                "    var = round(df_nba_filtered[\"Var\"].values[-2],2)\n",
                "    ax[0].text(5,8,f\"Variance: {var}\",fontsize=15,color='red')\n",
                "\n",
                "    ax[1].hist(nfl_points[16],bins=np.arange(0,60,2))\n",
                "    ax[1].set_title(\"NFL Season 2015\")\n",
                "    ax[1].set_xlabel(\"#Wins\")\n",
                "    ax[1].set_ylabel(\"#Teams\")\n",
                "    var = round(df_nfl_filtered[\"Var\"].values[16],2)\n",
                "    ax[1].text(12,8,f\"Variance: {var}\",fontsize=15,color='red')\n",
                "    ax[1].set_ylim(0,10)\n",
                "    fig.show()\n",
                "\n",
                "def make_luck_comparison():\n",
                "    p=0.5\n",
                "\n",
                "    fig, ax = plt.subplots(1,2,figsize=(12,6))\n",
                "\n",
                "    # Set the number of trials (n)\n",
                "    n = 82\n",
                "    x = np.arange(0, n+1)\n",
                "    y = np.power(p, x) * np.power(1-p, n-x) * np.array([np.math.comb(n, xs) for xs in x])\n",
                "    y=y*30\n",
                "    ax[0].plot(x,y,linewidth=3)\n",
                "    ax[0].set_title(\"NBA Season just luck\")\n",
                "    ax[0].set_xlabel(\"#Wins\")\n",
                "    ax[0].set_ylabel(\"#Teams\")\n",
                "    ax[0].set_ylim(0,10)\n",
                "    ax[0].set_xlim(0,60)\n",
                "\n",
                "    n = 16\n",
                "    x = np.arange(0, n+1)\n",
                "    y = np.power(p, x) * np.power(1-p, n-x) * np.array([np.math.comb(n, xs) for xs in x])\n",
                "    y=y*32\n",
                "    ax[1].plot(x,y,linewidth=3)\n",
                "    ax[1].set_title(\"NFL Season just luck\")\n",
                "    ax[1].set_xlabel(\"#Wins\")\n",
                "    ax[1].set_ylabel(\"#Teams\")\n",
                "    ax[1].set_ylim(0,10)\n",
                "    ax[1].set_xlim(0,60)\n",
                "\n",
                "    fig.show()"
            ]
        },
        {
            "cell_type": "code",
            "execution_count": 27,
            "metadata": {},
            "outputs": [],
            "source": [
                "df_nba = pd.read_parquet('prepared_data/NBA.parquet')\n",
                "df_nfl = pd.read_parquet('prepared_data/NFL.parquet')\n",
                "df_nfl_filtered = df_nfl[df_nfl[\"N\"]>10]\n",
                "df_nfl_filtered[\"#Teams\"] = df_nfl_filtered[\"Teams\"].apply(lambda x: len(x))\n",
                "df_nfl_filtered[\"Var\"] = df_nfl_filtered[\"Points\"].apply(lambda x: np.var(x))\n",
                "nfl_points = df_nfl_filtered[\"Points\"].values\n",
                "\n",
                "df_nba_filtered = df_nba[df_nba[\"N\"]>80]\n",
                "df_nba_filtered[\"#Teams\"] = df_nba_filtered[\"Teams\"].apply(lambda x: len(x))\n",
                "df_nba_filtered[\"Var\"] = df_nba_filtered[\"Points\"].apply(lambda x: np.var(x))\n",
                "nba_points = df_nba_filtered[\"Points\"].values"
            ]
        },
        {
            "cell_type": "code",
            "execution_count": 108,
            "metadata": {},
            "outputs": [
                {
                    "data": {
                        "text/html": [
                            "<div>\n",
                            "<style scoped>\n",
                            "    .dataframe tbody tr th:only-of-type {\n",
                            "        vertical-align: middle;\n",
                            "    }\n",
                            "\n",
                            "    .dataframe tbody tr th {\n",
                            "        vertical-align: top;\n",
                            "    }\n",
                            "\n",
                            "    .dataframe thead th {\n",
                            "        text-align: right;\n",
                            "    }\n",
                            "</style>\n",
                            "<table border=\"1\" class=\"dataframe\">\n",
                            "  <thead>\n",
                            "    <tr style=\"text-align: right;\">\n",
                            "      <th></th>\n",
                            "      <th>Year</th>\n",
                            "      <th>Teams</th>\n",
                            "      <th>Wins</th>\n",
                            "      <th>Losses</th>\n",
                            "      <th>Ties</th>\n",
                            "      <th>Points</th>\n",
                            "      <th>N</th>\n",
                            "    </tr>\n",
                            "  </thead>\n",
                            "  <tbody>\n",
                            "    <tr>\n",
                            "      <th>0</th>\n",
                            "      <td>1946</td>\n",
                            "      <td>[Boston Celtics, New York Knicks, Philadelphia...</td>\n",
                            "      <td>[22, 33, 35]</td>\n",
                            "      <td>[38, 27, 25]</td>\n",
                            "      <td>[0.0, 0.0, 0.0]</td>\n",
                            "      <td>[22, 33, 35]</td>\n",
                            "      <td>60.0</td>\n",
                            "    </tr>\n",
                            "    <tr>\n",
                            "      <th>1</th>\n",
                            "      <td>1947</td>\n",
                            "      <td>[Boston Celtics, New York Knicks, Philadelphia...</td>\n",
                            "      <td>[20, 26, 27]</td>\n",
                            "      <td>[28, 22, 21]</td>\n",
                            "      <td>[0.0, 0.0, 0.0]</td>\n",
                            "      <td>[20, 26, 27]</td>\n",
                            "      <td>48.0</td>\n",
                            "    </tr>\n",
                            "    <tr>\n",
                            "      <th>2</th>\n",
                            "      <td>1948</td>\n",
                            "      <td>[Boston Celtics, New York Knicks, Fort Wayne P...</td>\n",
                            "      <td>[25, 32, 22, 28, 45, 44]</td>\n",
                            "      <td>[35, 28, 38, 32, 15, 16]</td>\n",
                            "      <td>[0.0, 0.0, 0.0, 0.0, 0.0, 0.0]</td>\n",
                            "      <td>[25, 32, 22, 28, 45, 44]</td>\n",
                            "      <td>60.0</td>\n",
                            "    </tr>\n",
                            "    <tr>\n",
                            "      <th>3</th>\n",
                            "      <td>1949</td>\n",
                            "      <td>[Boston Celtics, New York Knicks, Syracuse Nat...</td>\n",
                            "      <td>[22, 40, 51, 40, 26, 51, 51, 29]</td>\n",
                            "      <td>[46, 28, 13, 28, 42, 17, 17, 35]</td>\n",
                            "      <td>[0.0, 0.0, 0.0, 0.0, 0.0, 0.0, 0.0, 0.0]</td>\n",
                            "      <td>[22, 40, 51, 40, 26, 51, 51, 29]</td>\n",
                            "      <td>68.0</td>\n",
                            "    </tr>\n",
                            "    <tr>\n",
                            "      <th>4</th>\n",
                            "      <td>1950</td>\n",
                            "      <td>[Boston Celtics, New York Knicks, Syracuse Nat...</td>\n",
                            "      <td>[39, 36, 32, 32, 40, 41, 44, 25]</td>\n",
                            "      <td>[30, 30, 34, 36, 26, 27, 24, 43]</td>\n",
                            "      <td>[0.0, 0.0, 0.0, 0.0, 0.0, 0.0, 0.0, 0.0]</td>\n",
                            "      <td>[39, 36, 32, 32, 40, 41, 44, 25]</td>\n",
                            "      <td>69.0</td>\n",
                            "    </tr>\n",
                            "    <tr>\n",
                            "      <th>...</th>\n",
                            "      <td>...</td>\n",
                            "      <td>...</td>\n",
                            "      <td>...</td>\n",
                            "      <td>...</td>\n",
                            "      <td>...</td>\n",
                            "      <td>...</td>\n",
                            "      <td>...</td>\n",
                            "    </tr>\n",
                            "    <tr>\n",
                            "      <th>67</th>\n",
                            "      <td>2013</td>\n",
                            "      <td>[Boston Celtics, Toronto Raptors, New York Kni...</td>\n",
                            "      <td>[25, 48, 37, 19, 44, 40, 59, 36, 54, 25, 33, 2...</td>\n",
                            "      <td>[57, 34, 45, 63, 38, 42, 23, 46, 28, 57, 49, 5...</td>\n",
                            "      <td>[0.0, 0.0, 0.0, 0.0, 0.0, 0.0, 0.0, 0.0, 0.0, ...</td>\n",
                            "      <td>[25, 48, 37, 19, 44, 40, 59, 36, 54, 25, 33, 2...</td>\n",
                            "      <td>82.0</td>\n",
                            "    </tr>\n",
                            "    <tr>\n",
                            "      <th>68</th>\n",
                            "      <td>2014</td>\n",
                            "      <td>[Boston Celtics, Toronto Raptors, New York Kni...</td>\n",
                            "      <td>[40, 49, 17, 18, 38, 16, 45, 30, 51, 38, 53, 3...</td>\n",
                            "      <td>[42, 33, 65, 64, 44, 66, 37, 52, 31, 44, 29, 5...</td>\n",
                            "      <td>[0.0, 0.0, 0.0, 0.0, 0.0, 0.0, 0.0, 0.0, 0.0, ...</td>\n",
                            "      <td>[40, 49, 17, 18, 38, 16, 45, 30, 51, 38, 53, 3...</td>\n",
                            "      <td>82.0</td>\n",
                            "    </tr>\n",
                            "    <tr>\n",
                            "      <th>69</th>\n",
                            "      <td>2015</td>\n",
                            "      <td>[Boston Celtics, Toronto Raptors, New York Kni...</td>\n",
                            "      <td>[48, 56, 32, 10, 21, 29, 55, 33, 44, 40, 57, 4...</td>\n",
                            "      <td>[34, 26, 50, 72, 61, 53, 27, 49, 38, 42, 25, 3...</td>\n",
                            "      <td>[0.0, 0.0, 0.0, 0.0, 0.0, 0.0, 0.0, 0.0, 0.0, ...</td>\n",
                            "      <td>[48, 56, 32, 10, 21, 29, 55, 33, 44, 40, 57, 4...</td>\n",
                            "      <td>82.0</td>\n",
                            "    </tr>\n",
                            "    <tr>\n",
                            "      <th>70</th>\n",
                            "      <td>2016</td>\n",
                            "      <td>[Boston Celtics, Toronto Raptors, New York Kni...</td>\n",
                            "      <td>[53, 51, 31, 28, 20, 31, 47, 40, 41, 51, 51, 3...</td>\n",
                            "      <td>[29, 31, 51, 54, 62, 51, 35, 42, 41, 31, 31, 4...</td>\n",
                            "      <td>[0.0, 0.0, 0.0, 0.0, 0.0, 0.0, 0.0, 0.0, 0.0, ...</td>\n",
                            "      <td>[53, 51, 31, 28, 20, 31, 47, 40, 41, 51, 51, 3...</td>\n",
                            "      <td>82.0</td>\n",
                            "    </tr>\n",
                            "    <tr>\n",
                            "      <th>71</th>\n",
                            "      <td>2017</td>\n",
                            "      <td>[Boston Celtics, Toronto Raptors, New York Kni...</td>\n",
                            "      <td>[29, 24, 17, 15, 13, 22, 20, 19, 18, 15, 24, 1...</td>\n",
                            "      <td>[10, 10, 18, 19, 22, 14, 16, 16, 16, 21, 11, 1...</td>\n",
                            "      <td>[0.0, 0.0, 0.0, 0.0, 0.0, 0.0, 0.0, 0.0, 0.0, ...</td>\n",
                            "      <td>[29, 24, 17, 15, 13, 22, 20, 19, 18, 15, 24, 1...</td>\n",
                            "      <td>39.0</td>\n",
                            "    </tr>\n",
                            "  </tbody>\n",
                            "</table>\n",
                            "<p>72 rows × 7 columns</p>\n",
                            "</div>"
                        ],
                        "text/plain": [
                            "    Year                                              Teams  \\\n",
                            "0   1946  [Boston Celtics, New York Knicks, Philadelphia...   \n",
                            "1   1947  [Boston Celtics, New York Knicks, Philadelphia...   \n",
                            "2   1948  [Boston Celtics, New York Knicks, Fort Wayne P...   \n",
                            "3   1949  [Boston Celtics, New York Knicks, Syracuse Nat...   \n",
                            "4   1950  [Boston Celtics, New York Knicks, Syracuse Nat...   \n",
                            "..   ...                                                ...   \n",
                            "67  2013  [Boston Celtics, Toronto Raptors, New York Kni...   \n",
                            "68  2014  [Boston Celtics, Toronto Raptors, New York Kni...   \n",
                            "69  2015  [Boston Celtics, Toronto Raptors, New York Kni...   \n",
                            "70  2016  [Boston Celtics, Toronto Raptors, New York Kni...   \n",
                            "71  2017  [Boston Celtics, Toronto Raptors, New York Kni...   \n",
                            "\n",
                            "                                                 Wins  \\\n",
                            "0                                        [22, 33, 35]   \n",
                            "1                                        [20, 26, 27]   \n",
                            "2                            [25, 32, 22, 28, 45, 44]   \n",
                            "3                    [22, 40, 51, 40, 26, 51, 51, 29]   \n",
                            "4                    [39, 36, 32, 32, 40, 41, 44, 25]   \n",
                            "..                                                ...   \n",
                            "67  [25, 48, 37, 19, 44, 40, 59, 36, 54, 25, 33, 2...   \n",
                            "68  [40, 49, 17, 18, 38, 16, 45, 30, 51, 38, 53, 3...   \n",
                            "69  [48, 56, 32, 10, 21, 29, 55, 33, 44, 40, 57, 4...   \n",
                            "70  [53, 51, 31, 28, 20, 31, 47, 40, 41, 51, 51, 3...   \n",
                            "71  [29, 24, 17, 15, 13, 22, 20, 19, 18, 15, 24, 1...   \n",
                            "\n",
                            "                                               Losses  \\\n",
                            "0                                        [38, 27, 25]   \n",
                            "1                                        [28, 22, 21]   \n",
                            "2                            [35, 28, 38, 32, 15, 16]   \n",
                            "3                    [46, 28, 13, 28, 42, 17, 17, 35]   \n",
                            "4                    [30, 30, 34, 36, 26, 27, 24, 43]   \n",
                            "..                                                ...   \n",
                            "67  [57, 34, 45, 63, 38, 42, 23, 46, 28, 57, 49, 5...   \n",
                            "68  [42, 33, 65, 64, 44, 66, 37, 52, 31, 44, 29, 5...   \n",
                            "69  [34, 26, 50, 72, 61, 53, 27, 49, 38, 42, 25, 3...   \n",
                            "70  [29, 31, 51, 54, 62, 51, 35, 42, 41, 31, 31, 4...   \n",
                            "71  [10, 10, 18, 19, 22, 14, 16, 16, 16, 21, 11, 1...   \n",
                            "\n",
                            "                                                 Ties  \\\n",
                            "0                                     [0.0, 0.0, 0.0]   \n",
                            "1                                     [0.0, 0.0, 0.0]   \n",
                            "2                      [0.0, 0.0, 0.0, 0.0, 0.0, 0.0]   \n",
                            "3            [0.0, 0.0, 0.0, 0.0, 0.0, 0.0, 0.0, 0.0]   \n",
                            "4            [0.0, 0.0, 0.0, 0.0, 0.0, 0.0, 0.0, 0.0]   \n",
                            "..                                                ...   \n",
                            "67  [0.0, 0.0, 0.0, 0.0, 0.0, 0.0, 0.0, 0.0, 0.0, ...   \n",
                            "68  [0.0, 0.0, 0.0, 0.0, 0.0, 0.0, 0.0, 0.0, 0.0, ...   \n",
                            "69  [0.0, 0.0, 0.0, 0.0, 0.0, 0.0, 0.0, 0.0, 0.0, ...   \n",
                            "70  [0.0, 0.0, 0.0, 0.0, 0.0, 0.0, 0.0, 0.0, 0.0, ...   \n",
                            "71  [0.0, 0.0, 0.0, 0.0, 0.0, 0.0, 0.0, 0.0, 0.0, ...   \n",
                            "\n",
                            "                                               Points     N  \n",
                            "0                                        [22, 33, 35]  60.0  \n",
                            "1                                        [20, 26, 27]  48.0  \n",
                            "2                            [25, 32, 22, 28, 45, 44]  60.0  \n",
                            "3                    [22, 40, 51, 40, 26, 51, 51, 29]  68.0  \n",
                            "4                    [39, 36, 32, 32, 40, 41, 44, 25]  69.0  \n",
                            "..                                                ...   ...  \n",
                            "67  [25, 48, 37, 19, 44, 40, 59, 36, 54, 25, 33, 2...  82.0  \n",
                            "68  [40, 49, 17, 18, 38, 16, 45, 30, 51, 38, 53, 3...  82.0  \n",
                            "69  [48, 56, 32, 10, 21, 29, 55, 33, 44, 40, 57, 4...  82.0  \n",
                            "70  [53, 51, 31, 28, 20, 31, 47, 40, 41, 51, 51, 3...  82.0  \n",
                            "71  [29, 24, 17, 15, 13, 22, 20, 19, 18, 15, 24, 1...  39.0  \n",
                            "\n",
                            "[72 rows x 7 columns]"
                        ]
                    },
                    "execution_count": 108,
                    "metadata": {},
                    "output_type": "execute_result"
                }
            ],
            "source": [
                "df_nba"
            ]
        },
        {
            "cell_type": "markdown",
            "metadata": {},
            "source": [
                "# Main Idea"
            ]
        },
        {
            "cell_type": "code",
            "execution_count": 76,
            "metadata": {},
            "outputs": [
                {
                    "data": {
                        "image/png": "[encoded data removed]",
                        "text/plain": [
                            "<Figure size 1200x600 with 1 Axes>"
                        ]
                    },
                    "metadata": {},
                    "output_type": "display_data"
                }
            ],
            "source": [
                "make_luck_skill_continuum()"
            ]
        },
        {
            "cell_type": "markdown",
            "metadata": {},
            "source": [
                "**Var(Observed) = Var(Skill) + Var(Luck)**"
            ]
        },
        {
            "cell_type": "markdown",
            "metadata": {},
            "source": [
                "### Example Observed"
            ]
        },
        {
            "cell_type": "code",
            "execution_count": 61,
            "metadata": {},
            "outputs": [
                {
                    "data": {
                        "image/png": "[encoded data removed]",
                        "text/plain": [
                            "<Figure size 1200x600 with 2 Axes>"
                        ]
                    },
                    "metadata": {},
                    "output_type": "display_data"
                }
            ],
            "source": [
                "make_comparison_plot()"
            ]
        },
        {
            "cell_type": "markdown",
            "metadata": {},
            "source": [
                "### Example just Luck (simplified)"
            ]
        },
        {
            "cell_type": "code",
            "execution_count": 107,
            "metadata": {},
            "outputs": [
                {
                    "data": {
                        "image/png": "[encoded data removed]",
                        "text/plain": [
                            "<Figure size 1200x600 with 2 Axes>"
                        ]
                    },
                    "metadata": {},
                    "output_type": "display_data"
                }
            ],
            "source": [
                "make_luck_comparison()"
            ]
        },
        {
            "cell_type": "markdown",
            "metadata": {},
            "source": [
                "## Explaination for results"
            ]
        },
        {
            "cell_type": "markdown",
            "metadata": {},
            "source": [
                "### Reasons for different luck and skill components:"
            ]
        },
        {
            "attachments": {},
            "cell_type": "markdown",
            "metadata": {},
            "source": [
                "**Number of Games/Events?**\n",
                "\n",
                "**Number of Players worldwide?**\n",
                "\n",
                "**Number of Opportunities (Length, Attempts)**\n",
                "\n",
                "\n"
            ]
        },
        {
            "cell_type": "markdown",
            "metadata": {},
            "source": [
                "# Questions"
            ]
        },
        {
            "attachments": {},
            "cell_type": "markdown",
            "metadata": {},
            "source": [
                "### Ideas to compare distributions\n",
                "\n",
                "- Variance, Entropy, KLD"
            ]
        },
        {
            "attachments": {},
            "cell_type": "markdown",
            "metadata": {},
            "source": [
                "### Deal with sampling distribution\n",
                "\n",
                "- Simulations"
            ]
        },
        {
            "attachments": {},
            "cell_type": "markdown",
            "metadata": {},
            "source": [
                "### Quantify Uncertainty\n",
                "\n",
                "- Different #Games, #Teams, #Seasons\n",
                "- Points are different\n",
                "- No league system in sports"
            ]
        },
        {
            "cell_type": "code",
            "execution_count": null,
            "metadata": {},
            "outputs": [],
            "source": []
        },
        {
            "cell_type": "code",
            "execution_count": null,
            "metadata": {},
            "outputs": [],
            "source": []
        },
        {
            "cell_type": "code",
            "execution_count": 2,
            "metadata": {},
            "outputs": [],
            "source": [
                "df = pd.read_parquet(\"prepared_data/NHL_data.parquet\")"
            ]
        },
        {
            "cell_type": "code",
            "execution_count": 5,
            "metadata": {},
            "outputs": [
                {
                    "data": {
                        "text/plain": [
                            "[30, 30, 30, 30, 30, 30, 30, 30, 30, 30, 30, 30, 31, 31, 31, 31]"
                        ]
                    },
                    "execution_count": 5,
                    "metadata": {},
                    "output_type": "execute_result"
                }
            ],
            "source": [
                "[len(x) for x in df[\"Teams\"].values]"
            ]
        },
        {
            "cell_type": "code",
            "execution_count": 10,
            "metadata": {},
            "outputs": [],
            "source": [
                "ls_wins = np.array([0,2,8,4,6,4,1,7])\n",
                "ls_points_1 = ls_wins*1\n",
                "ls_points_2 = ls_wins*2\n",
                "ls_points_3 = ls_wins*3"
            ]
        },
        {
            "cell_type": "code",
            "execution_count": 12,
            "metadata": {},
            "outputs": [],
            "source": [
                "#import min max scaler\n",
                "from sklearn.preprocessing import MinMaxScaler"
            ]
        },
        {
            "cell_type": "code",
            "execution_count": 13,
            "metadata": {},
            "outputs": [],
            "source": [
                "ls_points_1_ms = MinMaxScaler().fit_transform(ls_points_1.reshape(-1,1))\n",
                "ls_points_2_ms = MinMaxScaler().fit_transform(ls_points_2.reshape(-1,1))\n",
                "ls_points_3_ms = MinMaxScaler().fit_transform(ls_points_3.reshape(-1,1))\n",
                "ls_wins_ms = MinMaxScaler().fit_transform(ls_wins.reshape(-1,1))"
            ]
        },
        {
            "cell_type": "code",
            "execution_count": 16,
            "metadata": {},
            "outputs": [
                {
                    "name": "stdout",
                    "output_type": "stream",
                    "text": [
                        "0.11328125\n",
                        "0.11328125\n",
                        "0.11328125\n",
                        "0.11328125\n"
                    ]
                }
            ],
            "source": [
                "print(np.var(ls_points_1_ms))\n",
                "print(np.var(ls_points_2_ms))\n",
                "print(np.var(ls_points_3_ms))\n",
                "print(np.var(ls_wins_ms))"
            ]
        },
        {
            "cell_type": "code",
            "execution_count": null,
            "metadata": {},
            "outputs": [],
            "source": []
        }
    ],
    "metadata": {
        "kernelspec": {
            "display_name": "luckskill",
            "language": "python",
            "name": "python3"
        },
        "language_info": {
            "codemirror_mode": {
                "name": "ipython",
                "version": 3
            },
            "file_extension": ".py",
            "mimetype": "text/x-python",
            "name": "python",
            "nbconvert_exporter": "python",
            "pygments_lexer": "ipython3",
            "version": "3.8.15"
        },
        "orig_nbformat": 4,
        "vscode": {
            "interpreter": {
                "hash": "ad85a60e12f1042fdce4a1c6f47534a445d4f508efc6ac06c16784279ba25686"
            }
        }
    },
    "nbformat": 4,
    "nbformat_minor": 2
}