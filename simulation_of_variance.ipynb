{
    "cells": [
        {
            "cell_type": "code",
            "execution_count": 1,
            "metadata": {},
            "outputs": [],
            "source": [
                "import pandas as pd\n",
                "import numpy as np\n",
                "import matplotlib.pyplot as plt\n",
                "from collections import Counter\n",
                "from sklearn.preprocessing import MinMaxScaler\n",
                "\n",
                "import os\n",
                "\n",
                "from utils import preprocess_observed_data, calculate_observed_variance, get_available_schedules, calculate_luck_variance_per_year, load_yaml\n",
                "from simulation_utils import simulate_league, simulate_league_multiple_times, calculate_variance_of_simulated_leagues\n",
                "\n",
                "config = load_yaml()"
            ]
        },
        {
            "cell_type": "code",
            "execution_count": 2,
            "metadata": {},
            "outputs": [],
            "source": [
                "NUMBER_OF_SIMULATIONS = config[\"General\"][\"number_of_simulations\"]"
            ]
        },
        {
            "cell_type": "code",
            "execution_count": 3,
            "metadata": {},
            "outputs": [],
            "source": [
                "def calculate_observed_and_luck_variance(prepared_data_path, schedule_directory, probabilities_win_loss_tie, points_for_win_loss_tie, number_of_simulations):\n",
                "    \"\"\"\n",
                "    Calculate the observed and luck variance.\n",
                "\n",
                "    Parameters\n",
                "    ----------\n",
                "    prepared_data_path : str\n",
                "        The path to the prepared data.\n",
                "    schedule_directory : str\n",
                "        The directory where the schedules are stored.\n",
                "    probabilities_win_loss_tie : list\n",
                "        The probabilities a team wins, loses or ties.\n",
                "    points_for_win_loss_tie : list\n",
                "        The points a team gets for a win, a loss and a tie.\n",
                "    number_of_simulations : int\n",
                "        The number of simulations.\n",
                "\n",
                "    Returns\n",
                "    -------\n",
                "    pandas.DataFrame\n",
                "        The dataframe containing the observed data with a new luck variance column that contains the luck variance for every year where a schedule is available.\n",
                "    float\n",
                "        The average observed variance.\n",
                "    float\n",
                "        The average variance of the luck simulation.\n",
                "    \"\"\"\n",
                "\n",
                "\n",
                "\n",
                "    df_prepared = preprocess_observed_data(prepared_data_path, points_for_win_loss_tie)\n",
                "    available_schedules = get_available_schedules(schedule_directory)\n",
                "    df_prepared = calculate_luck_variance_per_year(df_prepared, available_schedules,  probabilities_win_loss_tie, points_for_win_loss_tie, number_of_simulations, min_max_scaling=False)\n",
                "    observed_variance = df_prepared[\"Variance_observed\"].mean()\n",
                "    luck_variance = df_prepared[\"Luck_variance\"].mean()\n",
                "\n",
                "    return df_prepared, observed_variance, luck_variance\n"
            ]
        },
        {
            "attachments": {},
            "cell_type": "markdown",
            "metadata": {},
            "source": [
                "### NBA"
            ]
        },
        {
            "cell_type": "code",
            "execution_count": 4,
            "metadata": {},
            "outputs": [
                {
                    "name": "stdout",
                    "output_type": "stream",
                    "text": [
                        "The schedule for the year 2004 is available.\n",
                        "The schedule for the year 2005 is available.\n",
                        "The schedule for the year 2006 is available.\n",
                        "The schedule for the year 2007 is available.\n",
                        "The schedule for the year 2008 is available.\n",
                        "The schedule for the year 2009 is available.\n",
                        "The schedule for the year 2010 is available.\n",
                        "The schedule for the year 2011 is not available.\n",
                        "The schedule for the year 2012 is available.\n",
                        "The schedule for the year 2013 is available.\n",
                        "The schedule for the year 2014 is available.\n",
                        "The schedule for the year 2015 is available.\n",
                        "The schedule for the year 2016 is available.\n",
                        "The schedule for the year 2017 is available.\n",
                        "The schedule for the year 2018 is available.\n",
                        "The schedule for the year 2019 is available.\n",
                        "The schedule for the year 2020 is not available.\n",
                        "The schedule for the year 2021 is available.\n"
                    ]
                }
            ],
            "source": [
                "df_prepared_nba, observed_variance_nba, luck_variance_nba = calculate_observed_and_luck_variance(config[\"NBA\"][\"prepared_data_path\"], config[\"NBA\"][\"schedule_directory\"], config[\"NBA\"][\"probabilities_win_loss_tie\"], config[\"NBA\"][\"points_for_win_loss_tie\"], NUMBER_OF_SIMULATIONS)"
            ]
        },
        {
            "cell_type": "markdown",
            "metadata": {},
            "source": [
                "### NFL"
            ]
        },
        {
            "cell_type": "code",
            "execution_count": 5,
            "metadata": {},
            "outputs": [
                {
                    "name": "stdout",
                    "output_type": "stream",
                    "text": [
                        "The schedule for the year 2003 is available.\n",
                        "The schedule for the year 2004 is available.\n",
                        "The schedule for the year 2005 is available.\n",
                        "The schedule for the year 2006 is available.\n",
                        "The schedule for the year 2007 is available.\n",
                        "The schedule for the year 2008 is available.\n",
                        "The schedule for the year 2009 is available.\n",
                        "The schedule for the year 2010 is available.\n",
                        "The schedule for the year 2011 is available.\n",
                        "The schedule for the year 2012 is available.\n",
                        "The schedule for the year 2013 is available.\n",
                        "The schedule for the year 2014 is available.\n",
                        "The schedule for the year 2015 is available.\n",
                        "The schedule for the year 2016 is available.\n",
                        "The schedule for the year 2017 is available.\n",
                        "The schedule for the year 2018 is available.\n",
                        "The schedule for the year 2019 is available.\n",
                        "The schedule for the year 2020 is available.\n",
                        "The schedule for the year 2021 is available.\n"
                    ]
                }
            ],
            "source": [
                "df_prepared_nfl, observed_variance_nfl, luck_variance_nfl = calculate_observed_and_luck_variance(config[\"NFL\"][\"prepared_data_path\"], config[\"NFL\"][\"schedule_directory\"], config[\"NFL\"][\"probabilities_win_loss_tie\"], config[\"NFL\"][\"points_for_win_loss_tie\"], NUMBER_OF_SIMULATIONS)"
            ]
        },
        {
            "cell_type": "markdown",
            "metadata": {},
            "source": [
                "### NHL"
            ]
        },
        {
            "cell_type": "code",
            "execution_count": 6,
            "metadata": {},
            "outputs": [
                {
                    "name": "stdout",
                    "output_type": "stream",
                    "text": [
                        "The schedule for the year 2005 is available.\n",
                        "The schedule for the year 2006 is available.\n",
                        "The schedule for the year 2007 is available.\n",
                        "The schedule for the year 2008 is available.\n",
                        "The schedule for the year 2009 is available.\n",
                        "The schedule for the year 2010 is available.\n",
                        "The schedule for the year 2011 is available.\n",
                        "The schedule for the year 2012 is available.\n",
                        "The schedule for the year 2013 is available.\n",
                        "The schedule for the year 2014 is available.\n",
                        "The schedule for the year 2015 is available.\n",
                        "The schedule for the year 2016 is available.\n",
                        "The schedule for the year 2017 is available.\n",
                        "The schedule for the year 2018 is available.\n",
                        "The schedule for the year 2019 is not available.\n",
                        "The schedule for the year 2020 is not available.\n",
                        "The schedule for the year 2021 is not available.\n"
                    ]
                }
            ],
            "source": [
                "df_prepared_nhl, observed_variance_nhl, luck_variance_nhl = calculate_observed_and_luck_variance(config[\"NHL\"][\"prepared_data_path\"], config[\"NHL\"][\"schedule_directory\"], config[\"NHL\"][\"probabilities_win_loss_tie\"], config[\"NHL\"][\"points_for_win_loss_tie\"], NUMBER_OF_SIMULATIONS)"
            ]
        },
        {
            "cell_type": "markdown",
            "metadata": {},
            "source": [
                "### MLB"
            ]
        },
        {
            "cell_type": "code",
            "execution_count": 7,
            "metadata": {},
            "outputs": [
                {
                    "name": "stdout",
                    "output_type": "stream",
                    "text": [
                        "The schedule for the year 2003 is available.\n",
                        "The schedule for the year 2004 is available.\n",
                        "The schedule for the year 2005 is available.\n",
                        "The schedule for the year 2006 is available.\n",
                        "The schedule for the year 2007 is available.\n",
                        "The schedule for the year 2008 is available.\n",
                        "The schedule for the year 2009 is available.\n",
                        "The schedule for the year 2010 is available.\n",
                        "The schedule for the year 2011 is available.\n",
                        "The schedule for the year 2012 is available.\n",
                        "The schedule for the year 2013 is available.\n",
                        "The schedule for the year 2014 is available.\n",
                        "The schedule for the year 2015 is available.\n",
                        "The schedule for the year 2016 is available.\n",
                        "The schedule for the year 2017 is available.\n",
                        "The schedule for the year 2018 is available.\n",
                        "The schedule for the year 2019 is available.\n",
                        "The schedule for the year 2020 is available.\n",
                        "The schedule for the year 2021 is available.\n",
                        "The schedule for the year 2022 is available.\n"
                    ]
                }
            ],
            "source": [
                "df_prepared_mlb, observed_variance_mlb, luck_variance_mlb = calculate_observed_and_luck_variance(config[\"MLB\"][\"prepared_data_path\"], config[\"MLB\"][\"schedule_directory\"], config[\"MLB\"][\"probabilities_win_loss_tie\"], config[\"MLB\"][\"points_for_win_loss_tie\"], NUMBER_OF_SIMULATIONS)"
            ]
        },
        {
            "cell_type": "markdown",
            "metadata": {},
            "source": [
                "### MLS"
            ]
        },
        {
            "cell_type": "code",
            "execution_count": 8,
            "metadata": {},
            "outputs": [
                {
                    "name": "stdout",
                    "output_type": "stream",
                    "text": [
                        "The schedule for the year 2003 is available.\n",
                        "The schedule for the year 2004 is available.\n",
                        "The schedule for the year 2005 is available.\n",
                        "The schedule for the year 2006 is available.\n",
                        "The schedule for the year 2007 is available.\n",
                        "The schedule for the year 2008 is available.\n",
                        "The schedule for the year 2009 is available.\n",
                        "The schedule for the year 2010 is available.\n",
                        "The schedule for the year 2011 is available.\n",
                        "The schedule for the year 2012 is available.\n",
                        "The schedule for the year 2013 is available.\n",
                        "The schedule for the year 2014 is available.\n",
                        "The schedule for the year 2015 is available.\n",
                        "The schedule for the year 2016 is available.\n",
                        "The schedule for the year 2017 is available.\n",
                        "The schedule for the year 2018 is available.\n",
                        "The schedule for the year 2019 is available.\n",
                        "The schedule for the year 2020 is not available.\n",
                        "The schedule for the year 2021 is available.\n"
                    ]
                }
            ],
            "source": [
                "df_prepared_mls, observed_variance_mls, luck_variance_mls = calculate_observed_and_luck_variance(config[\"MLS\"][\"prepared_data_path\"], config[\"MLS\"][\"schedule_directory\"], config[\"MLS\"][\"probabilities_win_loss_tie\"], config[\"MLS\"][\"points_for_win_loss_tie\"], NUMBER_OF_SIMULATIONS)"
            ]
        },
        {
            "cell_type": "markdown",
            "metadata": {},
            "source": [
                "#### PML"
            ]
        },
        {
            "cell_type": "code",
            "execution_count": 9,
            "metadata": {},
            "outputs": [
                {
                    "name": "stdout",
                    "output_type": "stream",
                    "text": [
                        "The schedule for the year 2003 is available.\n",
                        "The schedule for the year 2004 is available.\n",
                        "The schedule for the year 2005 is available.\n",
                        "The schedule for the year 2006 is available.\n",
                        "The schedule for the year 2007 is available.\n",
                        "The schedule for the year 2008 is available.\n",
                        "The schedule for the year 2009 is available.\n",
                        "The schedule for the year 2010 is available.\n",
                        "The schedule for the year 2011 is available.\n",
                        "The schedule for the year 2012 is available.\n",
                        "The schedule for the year 2013 is available.\n",
                        "The schedule for the year 2014 is available.\n",
                        "The schedule for the year 2015 is available.\n",
                        "The schedule for the year 2016 is available.\n",
                        "The schedule for the year 2017 is available.\n",
                        "The schedule for the year 2018 is available.\n",
                        "The schedule for the year 2019 is available.\n",
                        "The schedule for the year 2020 is available.\n",
                        "The schedule for the year 2021 is available.\n"
                    ]
                }
            ],
            "source": [
                "df_prepared_pml, observed_variance_pml, luck_variance_pml = calculate_observed_and_luck_variance(config[\"PML\"][\"prepared_data_path\"], config[\"PML\"][\"schedule_directory\"], config[\"PML\"][\"probabilities_win_loss_tie\"], config[\"PML\"][\"points_for_win_loss_tie\"], NUMBER_OF_SIMULATIONS)"
            ]
        },
        {
            "cell_type": "markdown",
            "metadata": {},
            "source": [
                "#### Ligue 1"
            ]
        },
        {
            "cell_type": "code",
            "execution_count": 10,
            "metadata": {},
            "outputs": [
                {
                    "name": "stdout",
                    "output_type": "stream",
                    "text": [
                        "The schedule for the year 2003 is available.\n",
                        "The schedule for the year 2004 is available.\n",
                        "The schedule for the year 2005 is available.\n",
                        "The schedule for the year 2006 is available.\n",
                        "The schedule for the year 2007 is available.\n",
                        "The schedule for the year 2008 is available.\n",
                        "The schedule for the year 2009 is available.\n",
                        "The schedule for the year 2010 is available.\n",
                        "The schedule for the year 2011 is available.\n",
                        "The schedule for the year 2012 is available.\n",
                        "The schedule for the year 2013 is available.\n",
                        "The schedule for the year 2014 is available.\n",
                        "The schedule for the year 2015 is available.\n",
                        "The schedule for the year 2016 is available.\n",
                        "The schedule for the year 2017 is available.\n",
                        "The schedule for the year 2018 is available.\n",
                        "The schedule for the year 2019 is available.\n",
                        "The schedule for the year 2020 is available.\n",
                        "The schedule for the year 2021 is available.\n"
                    ]
                }
            ],
            "source": [
                "df_prepared_ligue1, observed_variance_ligue1, luck_variance_ligue1 = calculate_observed_and_luck_variance(config[\"Ligue1\"][\"prepared_data_path\"], config[\"Ligue1\"][\"schedule_directory\"], config[\"Ligue1\"][\"probabilities_win_loss_tie\"], config[\"Ligue1\"][\"points_for_win_loss_tie\"], NUMBER_OF_SIMULATIONS)"
            ]
        },
        {
            "cell_type": "markdown",
            "metadata": {},
            "source": [
                " #### SerieA"
            ]
        },
        {
            "cell_type": "code",
            "execution_count": 11,
            "metadata": {},
            "outputs": [
                {
                    "name": "stdout",
                    "output_type": "stream",
                    "text": [
                        "The schedule for the year 2003 is available.\n",
                        "The schedule for the year 2004 is available.\n",
                        "The schedule for the year 2005 is available.\n",
                        "The schedule for the year 2006 is available.\n",
                        "The schedule for the year 2007 is available.\n",
                        "The schedule for the year 2008 is available.\n",
                        "The schedule for the year 2009 is available.\n",
                        "The schedule for the year 2010 is available.\n",
                        "The schedule for the year 2011 is available.\n",
                        "The schedule for the year 2012 is available.\n",
                        "The schedule for the year 2013 is available.\n",
                        "The schedule for the year 2014 is available.\n",
                        "The schedule for the year 2015 is available.\n",
                        "The schedule for the year 2016 is available.\n",
                        "The schedule for the year 2017 is available.\n",
                        "The schedule for the year 2018 is available.\n",
                        "The schedule for the year 2019 is available.\n",
                        "The schedule for the year 2020 is available.\n",
                        "The schedule for the year 2021 is available.\n"
                    ]
                }
            ],
            "source": [
                "df_prepared_serieA, observed_variance_serieA, luck_variance_serieA = calculate_observed_and_luck_variance(config[\"SerieA\"][\"prepared_data_path\"], config[\"SerieA\"][\"schedule_directory\"], config[\"SerieA\"][\"probabilities_win_loss_tie\"], config[\"SerieA\"][\"points_for_win_loss_tie\"], NUMBER_OF_SIMULATIONS)"
            ]
        },
        {
            "cell_type": "markdown",
            "metadata": {},
            "source": [
                "#### LaLiga"
            ]
        },
        {
            "cell_type": "code",
            "execution_count": 12,
            "metadata": {},
            "outputs": [
                {
                    "name": "stdout",
                    "output_type": "stream",
                    "text": [
                        "The schedule for the year 2003 is available.\n",
                        "The schedule for the year 2004 is available.\n",
                        "The schedule for the year 2005 is available.\n",
                        "The schedule for the year 2006 is available.\n",
                        "The schedule for the year 2007 is available.\n",
                        "The schedule for the year 2008 is available.\n",
                        "The schedule for the year 2009 is available.\n",
                        "The schedule for the year 2010 is available.\n",
                        "The schedule for the year 2011 is available.\n",
                        "The schedule for the year 2012 is available.\n",
                        "The schedule for the year 2013 is available.\n",
                        "The schedule for the year 2014 is available.\n",
                        "The schedule for the year 2015 is available.\n",
                        "The schedule for the year 2016 is available.\n",
                        "The schedule for the year 2017 is available.\n",
                        "The schedule for the year 2018 is available.\n",
                        "The schedule for the year 2019 is available.\n",
                        "The schedule for the year 2020 is available.\n",
                        "The schedule for the year 2021 is available.\n"
                    ]
                }
            ],
            "source": [
                "df_prepared_laliga, observed_variance_laliga, luck_variance_laliga = calculate_observed_and_luck_variance(config[\"LaLiga\"][\"prepared_data_path\"], config[\"LaLiga\"][\"schedule_directory\"], config[\"LaLiga\"][\"probabilities_win_loss_tie\"], config[\"LaLiga\"][\"points_for_win_loss_tie\"], NUMBER_OF_SIMULATIONS)"
            ]
        },
        {
            "cell_type": "markdown",
            "metadata": {},
            "source": [
                "#### Bundesliga"
            ]
        },
        {
            "cell_type": "code",
            "execution_count": 13,
            "metadata": {},
            "outputs": [
                {
                    "name": "stdout",
                    "output_type": "stream",
                    "text": [
                        "The schedule for the year 2003 is available.\n",
                        "The schedule for the year 2004 is available.\n",
                        "The schedule for the year 2005 is available.\n",
                        "The schedule for the year 2006 is available.\n",
                        "The schedule for the year 2007 is available.\n",
                        "The schedule for the year 2008 is available.\n",
                        "The schedule for the year 2009 is available.\n",
                        "The schedule for the year 2010 is available.\n",
                        "The schedule for the year 2011 is available.\n",
                        "The schedule for the year 2012 is available.\n",
                        "The schedule for the year 2013 is available.\n",
                        "The schedule for the year 2014 is available.\n",
                        "The schedule for the year 2015 is available.\n",
                        "The schedule for the year 2016 is available.\n",
                        "The schedule for the year 2017 is available.\n",
                        "The schedule for the year 2018 is available.\n",
                        "The schedule for the year 2019 is available.\n",
                        "The schedule for the year 2020 is available.\n",
                        "The schedule for the year 2021 is available.\n"
                    ]
                }
            ],
            "source": [
                "df_prepared_bundesliga, observed_variance_bundesliga, luck_variance_bundesliga = calculate_observed_and_luck_variance(config[\"Bundesliga\"][\"prepared_data_path\"], config[\"Bundesliga\"][\"schedule_directory\"], config[\"Bundesliga\"][\"probabilities_win_loss_tie\"], config[\"Bundesliga\"][\"points_for_win_loss_tie\"], NUMBER_OF_SIMULATIONS)"
            ]
        },
        {
            "cell_type": "markdown",
            "metadata": {},
            "source": [
                "# Calculating the luck contribution for each sport"
            ]
        },
        {
            "attachments": {},
            "cell_type": "markdown",
            "metadata": {},
            "source": [
                "### Calculation:\n",
                "\n",
                "Based on [Classical Test Theory](https://en.wikipedia.org/wiki/Classical_test_theory) we assume that\n",
                "\n",
                "$$ Observed Score = True Score + Error Score $$\n",
                "\n",
                "In our case *True Score* reflects the skill component while the *Error Score* reflects the luck component.\n",
                "\n",
                "Since we are assuming the two variables Luck and Skill to be independent we can estimate:\n",
                "\n",
                "$$Var(Skill) =  Var(Observed) - Var(Luck) $$\n",
                "\n",
                "We can estimate the contribution of skill (reliability) with:\n",
                "\n",
                "$$ \\rho_{OS}^2 = \\frac{\\sigma_S^2}{\\sigma_O^2} = \\frac{\\sigma_O^2 - \\sigma_L^2}{\\sigma_O^2} = 1 - \\frac{\\sigma_L^2}{\\sigma_O^2} $$ \n",
                "\n",
                "and the contribution of luck\n",
                "\n",
                "$$ \\rho_{OL}^2 = \\frac{\\sigma_L^2}{\\sigma_O^2} $$ \n"
            ]
        },
        {
            "cell_type": "code",
            "execution_count": 14,
            "metadata": {},
            "outputs": [
                {
                    "name": "stdout",
                    "output_type": "stream",
                    "text": [
                        "NBA:  0.13855372775018832\n",
                        "NFL:  0.4175976746174232\n",
                        "NHL:  0.4026374640034991\n",
                        "MLB:  0.2964446117784229\n",
                        "MLS:  0.7946711836466658\n",
                        "PML:  0.28546403382703095\n",
                        "Ligue1:  0.4321493807477484\n",
                        "SerieA:  0.2945184928825171\n",
                        "LaLiga:  0.3309112316344553\n",
                        "Bundesliga:  0.3769332242207458\n"
                    ]
                }
            ],
            "source": [
                "luck_contribution_nba = luck_variance_nba/observed_variance_nba\n",
                "luck_contribution_nfl = luck_variance_nfl/observed_variance_nfl\n",
                "luck_contribution_nhl = luck_variance_nhl/observed_variance_nhl\n",
                "luck_contribution_mlb = luck_variance_mlb/observed_variance_mlb\n",
                "luck_contribution_mls = luck_variance_mls/observed_variance_mls\n",
                "luck_contribution_pml = luck_variance_pml/observed_variance_pml\n",
                "luck_contribution_ligue1 = luck_variance_ligue1/observed_variance_ligue1\n",
                "luck_contribution_serieA = luck_variance_serieA/observed_variance_serieA\n",
                "luck_contribution_laliga = luck_variance_laliga/observed_variance_laliga\n",
                "luck_contribution_bundesliga = luck_variance_bundesliga/observed_variance_bundesliga\n",
                "\n",
                "\n",
                "print(\"NBA: \", luck_contribution_nba)\n",
                "print(\"NFL: \", luck_contribution_nfl)\n",
                "print(\"NHL: \", luck_contribution_nhl)\n",
                "print(\"MLB: \", luck_contribution_mlb)\n",
                "print(\"MLS: \", luck_contribution_mls)\n",
                "print(\"PML: \", luck_contribution_pml)\n",
                "print(\"Ligue1: \", luck_contribution_ligue1)\n",
                "print(\"SerieA: \", luck_contribution_serieA)\n",
                "print(\"LaLiga: \", luck_contribution_laliga)\n",
                "print(\"Bundesliga: \", luck_contribution_bundesliga)\n"
            ]
        },
        {
            "cell_type": "code",
            "execution_count": null,
            "metadata": {},
            "outputs": [],
            "source": []
        }
    ],
    "metadata": {
        "kernelspec": {
            "display_name": "luckskill",
            "language": "python",
            "name": "luckskill"
        },
        "language_info": {
            "codemirror_mode": {
                "name": "ipython",
                "version": 3
            },
            "file_extension": ".py",
            "mimetype": "text/x-python",
            "name": "python",
            "nbconvert_exporter": "python",
            "pygments_lexer": "ipython3",
            "version": "3.8.15"
        },
        "orig_nbformat": 4,
        "vscode": {
            "interpreter": {
                "hash": "747efc146e86a5912f26e5d6b10798b21cba29e4347effd8c7cc42f26245deaf"
            }
        }
    },
    "nbformat": 4,
    "nbformat_minor": 2
}
